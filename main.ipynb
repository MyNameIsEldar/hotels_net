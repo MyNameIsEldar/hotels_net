{
 "cells": [
  {
   "cell_type": "markdown",
   "metadata": {},
   "source": [
    "<div style=\"padding: 30px 25px; border: 2px #6495ed solid\">\n",
    "    \n",
    "<b>Привет, Эльдар!</b>\n",
    "\n",
    "Меня зовут Алексей Косенко, и я буду проверять твой проект. Прошу прощения за долгое ожидание\n",
    "    \n",
    "Предлагаю общаться на «<b>ты</b>», но если это неудобно — обязательно сообщи об этом.\n",
    "    \n",
    "Ниже ты увидишь мои комментарии, выделенные разным цветом:\n",
    "    \n",
    "<div class=\"alert alert-success\">\n",
    "<h2>Комментарий ревьюера<a class=\"tocSkip\"></a></h2>\n",
    "\n",
    "<b>Отлично!</b> ✔️: все ок, продолжай в том же духе :)\n",
    "\n",
    "</div>\n",
    "<div class=\"alert alert-warning\">\n",
    "<h2>Комментарий ревьюера<a class=\"tocSkip\"></a></h2>\n",
    "    \n",
    "<b>Есть совет</b> ⚠️: так выделены некритичные замечания или советы, которые смогут улучшить твой проект.\n",
    "\n",
    "</div>\n",
    "<div class=\"alert alert-danger\">\n",
    "<h2>Комментарий ревьюера<a class=\"tocSkip\"></a></h2>\n",
    "\n",
    "<b>Нужно доработать</b> ❌: так выделены важные замечания — без их исправления проект не может быть принят.\n",
    "    \n",
    "</div>\n",
    "\n",
    "Будет здорово, ес\n",
    "    ли ты будешь участвовать в диалоге, а свои вопросы, комментарии и изменения в проекте тоже будешь выделять, например, вот так:\n",
    "    \n",
    "<div class=\"alert alert-info\">\n",
    "    <b>Комментарий студента:</b> твой комментарий\n",
    "</div>\n",
    "    \n",
    "Пожалуйста, не перемещай и не удаляй мои комментарии, это усложнит повторную проверку.\n",
    "    \n",
    "</div>"
   ]
  },
  {
   "cell_type": "markdown",
   "metadata": {},
   "source": [
    "<div style=\"padding: 30px 25px; border: 2px #6495ed solid\">\n",
    "    \n",
    "<b>Еще раз привет!</b>\n",
    "\n",
    "Спасибо, что доделал работу, оформление комментариев остается тем же, только обозначим номер итерации: v2\n",
    "    \n",
    "</div>"
   ]
  },
  {
   "cell_type": "markdown",
   "metadata": {},
   "source": [
    "<div style=\"padding: 30px 25px; border: 2px #6495ed solid\">\n",
    "    \n",
    "<b>И снова здравствуй!</b>\n",
    "\n",
    "Все правила оформления те же, обозначим номер итерации: v3\n",
    "    \n",
    "</div>"
   ]
  },
  {
   "cell_type": "markdown",
   "metadata": {},
   "source": [
    "# Прогнозирование оттока клиентов в сети отелей «Как в гостях»"
   ]
  },
  {
   "cell_type": "markdown",
   "metadata": {},
   "source": [
    "### Шаг 1. Откройте файлы с данными"
   ]
  },
  {
   "cell_type": "code",
   "execution_count": 1,
   "metadata": {},
   "outputs": [],
   "source": [
    "import pandas as pd\n",
    "import numpy as np\n",
    "import matplotlib.pyplot as plt\n",
    "from sklearn.model_selection import train_test_split\n",
    "from sklearn.preprocessing import StandardScaler\n",
    "from sklearn.preprocessing import OrdinalEncoder \n",
    "from sklearn.ensemble import RandomForestClassifier\n",
    "from sklearn.model_selection import GridSearchCV\n",
    "from sklearn.tree import DecisionTreeClassifier\n",
    "from sklearn.linear_model import LogisticRegression\n",
    "from sklearn.linear_model import LogisticRegressionCV\n",
    "from sklearn.metrics import f1_score\n",
    "from sklearn.model_selection import cross_val_score\n",
    "from sklearn.utils import shuffle\n",
    "import seaborn as sb\n",
    "from sklearn.metrics import recall_score"
   ]
  },
  {
   "cell_type": "code",
   "execution_count": 2,
   "metadata": {},
   "outputs": [],
   "source": [
    "train_data = pd.read_csv('/datasets/hotel_train.csv')\n",
    "test_data = pd.read_csv('/datasets/hotel_test.csv')"
   ]
  },
  {
   "cell_type": "markdown",
   "metadata": {},
   "source": [
    "<div class=\"alert alert-success\">\n",
    "<h2>Комментарий ревьюера<a class=\"tocSkip\"></a></h2>\n",
    "    \n",
    "**Отлично!** ✔️: данные на месте!</div>"
   ]
  },
  {
   "cell_type": "markdown",
   "metadata": {},
   "source": [
    "### Шаг 2. Предобработка и исследовательский анализ данных"
   ]
  },
  {
   "cell_type": "code",
   "execution_count": 3,
   "metadata": {},
   "outputs": [
    {
     "name": "stdout",
     "output_type": "stream",
     "text": [
      "<class 'pandas.core.frame.DataFrame'>\n",
      "RangeIndex: 65229 entries, 0 to 65228\n",
      "Data columns (total 25 columns):\n",
      " #   Column                          Non-Null Count  Dtype  \n",
      "---  ------                          --------------  -----  \n",
      " 0   id                              65229 non-null  int64  \n",
      " 1   is_canceled                     65229 non-null  int64  \n",
      " 2   lead_time                       65229 non-null  float64\n",
      " 3   arrival_date_year               65229 non-null  int64  \n",
      " 4   arrival_date_month              65229 non-null  object \n",
      " 5   arrival_date_week_number        65229 non-null  int64  \n",
      " 6   arrival_date_day_of_month       65229 non-null  int64  \n",
      " 7   stays_in_weekend_nights         65229 non-null  int64  \n",
      " 8   stays_in_week_nights            65229 non-null  int64  \n",
      " 9   adults                          65229 non-null  float64\n",
      " 10  children                        65229 non-null  float64\n",
      " 11  babies                          65229 non-null  float64\n",
      " 12  meal                            65229 non-null  object \n",
      " 13  country                         65229 non-null  object \n",
      " 14  distribution_channel            65229 non-null  object \n",
      " 15  is_repeated_guest               65229 non-null  int64  \n",
      " 16  previous_cancellations          65229 non-null  int64  \n",
      " 17  previous_bookings_not_canceled  65229 non-null  int64  \n",
      " 18  reserved_room_type              65229 non-null  object \n",
      " 19  booking_changes                 65229 non-null  int64  \n",
      " 20  days_in_waiting_list            65229 non-null  int64  \n",
      " 21  customer_type                   65229 non-null  object \n",
      " 22  required_car_parking_spaces     65229 non-null  int64  \n",
      " 23  total_of_special_requests       65229 non-null  int64  \n",
      " 24  total_nights                    65229 non-null  int64  \n",
      "dtypes: float64(4), int64(15), object(6)\n",
      "memory usage: 12.4+ MB\n",
      "None\n",
      "\n",
      "<class 'pandas.core.frame.DataFrame'>\n",
      "RangeIndex: 32412 entries, 0 to 32411\n",
      "Data columns (total 25 columns):\n",
      " #   Column                          Non-Null Count  Dtype  \n",
      "---  ------                          --------------  -----  \n",
      " 0   id                              32412 non-null  int64  \n",
      " 1   is_canceled                     32412 non-null  int64  \n",
      " 2   lead_time                       32412 non-null  float64\n",
      " 3   arrival_date_year               32412 non-null  int64  \n",
      " 4   arrival_date_month              32412 non-null  object \n",
      " 5   arrival_date_week_number        32412 non-null  int64  \n",
      " 6   arrival_date_day_of_month       32412 non-null  int64  \n",
      " 7   stays_in_weekend_nights         32412 non-null  int64  \n",
      " 8   stays_in_week_nights            32412 non-null  int64  \n",
      " 9   adults                          32412 non-null  float64\n",
      " 10  children                        32412 non-null  float64\n",
      " 11  babies                          32412 non-null  float64\n",
      " 12  meal                            32412 non-null  object \n",
      " 13  country                         32412 non-null  object \n",
      " 14  distribution_channel            32412 non-null  object \n",
      " 15  is_repeated_guest               32412 non-null  int64  \n",
      " 16  previous_cancellations          32412 non-null  int64  \n",
      " 17  previous_bookings_not_canceled  32412 non-null  int64  \n",
      " 18  reserved_room_type              32412 non-null  object \n",
      " 19  booking_changes                 32412 non-null  int64  \n",
      " 20  days_in_waiting_list            32412 non-null  int64  \n",
      " 21  customer_type                   32412 non-null  object \n",
      " 22  required_car_parking_spaces     32412 non-null  int64  \n",
      " 23  total_of_special_requests       32412 non-null  int64  \n",
      " 24  total_nights                    32412 non-null  int64  \n",
      "dtypes: float64(4), int64(15), object(6)\n",
      "memory usage: 6.2+ MB\n",
      "None\n"
     ]
    }
   ],
   "source": [
    "print(train_data.info())\n",
    "print()\n",
    "print(test_data.info())"
   ]
  },
  {
   "cell_type": "code",
   "execution_count": 4,
   "metadata": {},
   "outputs": [
    {
     "data": {
      "text/html": [
       "<div>\n",
       "<style scoped>\n",
       "    .dataframe tbody tr th:only-of-type {\n",
       "        vertical-align: middle;\n",
       "    }\n",
       "\n",
       "    .dataframe tbody tr th {\n",
       "        vertical-align: top;\n",
       "    }\n",
       "\n",
       "    .dataframe thead th {\n",
       "        text-align: right;\n",
       "    }\n",
       "</style>\n",
       "<table border=\"1\" class=\"dataframe\">\n",
       "  <thead>\n",
       "    <tr style=\"text-align: right;\">\n",
       "      <th></th>\n",
       "      <th>id</th>\n",
       "      <th>is_canceled</th>\n",
       "      <th>lead_time</th>\n",
       "      <th>arrival_date_year</th>\n",
       "      <th>arrival_date_month</th>\n",
       "      <th>arrival_date_week_number</th>\n",
       "      <th>arrival_date_day_of_month</th>\n",
       "      <th>stays_in_weekend_nights</th>\n",
       "      <th>stays_in_week_nights</th>\n",
       "      <th>adults</th>\n",
       "      <th>...</th>\n",
       "      <th>is_repeated_guest</th>\n",
       "      <th>previous_cancellations</th>\n",
       "      <th>previous_bookings_not_canceled</th>\n",
       "      <th>reserved_room_type</th>\n",
       "      <th>booking_changes</th>\n",
       "      <th>days_in_waiting_list</th>\n",
       "      <th>customer_type</th>\n",
       "      <th>required_car_parking_spaces</th>\n",
       "      <th>total_of_special_requests</th>\n",
       "      <th>total_nights</th>\n",
       "    </tr>\n",
       "  </thead>\n",
       "  <tbody>\n",
       "    <tr>\n",
       "      <th>0</th>\n",
       "      <td>0</td>\n",
       "      <td>0</td>\n",
       "      <td>7.0</td>\n",
       "      <td>2015</td>\n",
       "      <td>July</td>\n",
       "      <td>27</td>\n",
       "      <td>1</td>\n",
       "      <td>0</td>\n",
       "      <td>1</td>\n",
       "      <td>1.0</td>\n",
       "      <td>...</td>\n",
       "      <td>0</td>\n",
       "      <td>0</td>\n",
       "      <td>0</td>\n",
       "      <td>A</td>\n",
       "      <td>0</td>\n",
       "      <td>0</td>\n",
       "      <td>Transient</td>\n",
       "      <td>0</td>\n",
       "      <td>0</td>\n",
       "      <td>1</td>\n",
       "    </tr>\n",
       "    <tr>\n",
       "      <th>1</th>\n",
       "      <td>1</td>\n",
       "      <td>0</td>\n",
       "      <td>14.0</td>\n",
       "      <td>2015</td>\n",
       "      <td>July</td>\n",
       "      <td>27</td>\n",
       "      <td>1</td>\n",
       "      <td>0</td>\n",
       "      <td>2</td>\n",
       "      <td>2.0</td>\n",
       "      <td>...</td>\n",
       "      <td>0</td>\n",
       "      <td>0</td>\n",
       "      <td>0</td>\n",
       "      <td>A</td>\n",
       "      <td>0</td>\n",
       "      <td>0</td>\n",
       "      <td>Transient</td>\n",
       "      <td>0</td>\n",
       "      <td>1</td>\n",
       "      <td>2</td>\n",
       "    </tr>\n",
       "    <tr>\n",
       "      <th>2</th>\n",
       "      <td>2</td>\n",
       "      <td>0</td>\n",
       "      <td>0.0</td>\n",
       "      <td>2015</td>\n",
       "      <td>July</td>\n",
       "      <td>27</td>\n",
       "      <td>1</td>\n",
       "      <td>0</td>\n",
       "      <td>2</td>\n",
       "      <td>2.0</td>\n",
       "      <td>...</td>\n",
       "      <td>0</td>\n",
       "      <td>0</td>\n",
       "      <td>0</td>\n",
       "      <td>C</td>\n",
       "      <td>0</td>\n",
       "      <td>0</td>\n",
       "      <td>Transient</td>\n",
       "      <td>0</td>\n",
       "      <td>0</td>\n",
       "      <td>2</td>\n",
       "    </tr>\n",
       "    <tr>\n",
       "      <th>3</th>\n",
       "      <td>3</td>\n",
       "      <td>0</td>\n",
       "      <td>9.0</td>\n",
       "      <td>2015</td>\n",
       "      <td>July</td>\n",
       "      <td>27</td>\n",
       "      <td>1</td>\n",
       "      <td>0</td>\n",
       "      <td>2</td>\n",
       "      <td>2.0</td>\n",
       "      <td>...</td>\n",
       "      <td>0</td>\n",
       "      <td>0</td>\n",
       "      <td>0</td>\n",
       "      <td>C</td>\n",
       "      <td>0</td>\n",
       "      <td>0</td>\n",
       "      <td>Transient</td>\n",
       "      <td>0</td>\n",
       "      <td>1</td>\n",
       "      <td>2</td>\n",
       "    </tr>\n",
       "    <tr>\n",
       "      <th>4</th>\n",
       "      <td>4</td>\n",
       "      <td>1</td>\n",
       "      <td>85.0</td>\n",
       "      <td>2015</td>\n",
       "      <td>July</td>\n",
       "      <td>27</td>\n",
       "      <td>1</td>\n",
       "      <td>0</td>\n",
       "      <td>3</td>\n",
       "      <td>2.0</td>\n",
       "      <td>...</td>\n",
       "      <td>0</td>\n",
       "      <td>0</td>\n",
       "      <td>0</td>\n",
       "      <td>A</td>\n",
       "      <td>0</td>\n",
       "      <td>0</td>\n",
       "      <td>Transient</td>\n",
       "      <td>0</td>\n",
       "      <td>1</td>\n",
       "      <td>3</td>\n",
       "    </tr>\n",
       "  </tbody>\n",
       "</table>\n",
       "<p>5 rows × 25 columns</p>\n",
       "</div>"
      ],
      "text/plain": [
       "   id  is_canceled  lead_time  arrival_date_year arrival_date_month  \\\n",
       "0   0            0        7.0               2015               July   \n",
       "1   1            0       14.0               2015               July   \n",
       "2   2            0        0.0               2015               July   \n",
       "3   3            0        9.0               2015               July   \n",
       "4   4            1       85.0               2015               July   \n",
       "\n",
       "   arrival_date_week_number  arrival_date_day_of_month  \\\n",
       "0                        27                          1   \n",
       "1                        27                          1   \n",
       "2                        27                          1   \n",
       "3                        27                          1   \n",
       "4                        27                          1   \n",
       "\n",
       "   stays_in_weekend_nights  stays_in_week_nights  adults  ...  \\\n",
       "0                        0                     1     1.0  ...   \n",
       "1                        0                     2     2.0  ...   \n",
       "2                        0                     2     2.0  ...   \n",
       "3                        0                     2     2.0  ...   \n",
       "4                        0                     3     2.0  ...   \n",
       "\n",
       "   is_repeated_guest  previous_cancellations previous_bookings_not_canceled  \\\n",
       "0                  0                       0                              0   \n",
       "1                  0                       0                              0   \n",
       "2                  0                       0                              0   \n",
       "3                  0                       0                              0   \n",
       "4                  0                       0                              0   \n",
       "\n",
       "  reserved_room_type booking_changes  days_in_waiting_list  customer_type  \\\n",
       "0   A                              0                     0      Transient   \n",
       "1   A                              0                     0      Transient   \n",
       "2   C                              0                     0      Transient   \n",
       "3   C                              0                     0      Transient   \n",
       "4   A                              0                     0      Transient   \n",
       "\n",
       "   required_car_parking_spaces total_of_special_requests  total_nights  \n",
       "0                            0                         0             1  \n",
       "1                            0                         1             2  \n",
       "2                            0                         0             2  \n",
       "3                            0                         1             2  \n",
       "4                            0                         1             3  \n",
       "\n",
       "[5 rows x 25 columns]"
      ]
     },
     "metadata": {},
     "output_type": "display_data"
    },
    {
     "data": {
      "text/html": [
       "<div>\n",
       "<style scoped>\n",
       "    .dataframe tbody tr th:only-of-type {\n",
       "        vertical-align: middle;\n",
       "    }\n",
       "\n",
       "    .dataframe tbody tr th {\n",
       "        vertical-align: top;\n",
       "    }\n",
       "\n",
       "    .dataframe thead th {\n",
       "        text-align: right;\n",
       "    }\n",
       "</style>\n",
       "<table border=\"1\" class=\"dataframe\">\n",
       "  <thead>\n",
       "    <tr style=\"text-align: right;\">\n",
       "      <th></th>\n",
       "      <th>id</th>\n",
       "      <th>is_canceled</th>\n",
       "      <th>lead_time</th>\n",
       "      <th>arrival_date_year</th>\n",
       "      <th>arrival_date_month</th>\n",
       "      <th>arrival_date_week_number</th>\n",
       "      <th>arrival_date_day_of_month</th>\n",
       "      <th>stays_in_weekend_nights</th>\n",
       "      <th>stays_in_week_nights</th>\n",
       "      <th>adults</th>\n",
       "      <th>...</th>\n",
       "      <th>is_repeated_guest</th>\n",
       "      <th>previous_cancellations</th>\n",
       "      <th>previous_bookings_not_canceled</th>\n",
       "      <th>reserved_room_type</th>\n",
       "      <th>booking_changes</th>\n",
       "      <th>days_in_waiting_list</th>\n",
       "      <th>customer_type</th>\n",
       "      <th>required_car_parking_spaces</th>\n",
       "      <th>total_of_special_requests</th>\n",
       "      <th>total_nights</th>\n",
       "    </tr>\n",
       "  </thead>\n",
       "  <tbody>\n",
       "    <tr>\n",
       "      <th>0</th>\n",
       "      <td>6086</td>\n",
       "      <td>1</td>\n",
       "      <td>74.0</td>\n",
       "      <td>2017</td>\n",
       "      <td>January</td>\n",
       "      <td>1</td>\n",
       "      <td>1</td>\n",
       "      <td>1</td>\n",
       "      <td>0</td>\n",
       "      <td>2.0</td>\n",
       "      <td>...</td>\n",
       "      <td>0</td>\n",
       "      <td>0</td>\n",
       "      <td>0</td>\n",
       "      <td>A</td>\n",
       "      <td>0</td>\n",
       "      <td>0</td>\n",
       "      <td>Transient</td>\n",
       "      <td>0</td>\n",
       "      <td>0</td>\n",
       "      <td>1</td>\n",
       "    </tr>\n",
       "    <tr>\n",
       "      <th>1</th>\n",
       "      <td>6087</td>\n",
       "      <td>1</td>\n",
       "      <td>62.0</td>\n",
       "      <td>2017</td>\n",
       "      <td>January</td>\n",
       "      <td>1</td>\n",
       "      <td>1</td>\n",
       "      <td>2</td>\n",
       "      <td>2</td>\n",
       "      <td>2.0</td>\n",
       "      <td>...</td>\n",
       "      <td>0</td>\n",
       "      <td>0</td>\n",
       "      <td>0</td>\n",
       "      <td>A</td>\n",
       "      <td>0</td>\n",
       "      <td>0</td>\n",
       "      <td>Transient</td>\n",
       "      <td>0</td>\n",
       "      <td>1</td>\n",
       "      <td>4</td>\n",
       "    </tr>\n",
       "    <tr>\n",
       "      <th>2</th>\n",
       "      <td>6088</td>\n",
       "      <td>1</td>\n",
       "      <td>62.0</td>\n",
       "      <td>2017</td>\n",
       "      <td>January</td>\n",
       "      <td>1</td>\n",
       "      <td>1</td>\n",
       "      <td>2</td>\n",
       "      <td>2</td>\n",
       "      <td>2.0</td>\n",
       "      <td>...</td>\n",
       "      <td>0</td>\n",
       "      <td>0</td>\n",
       "      <td>0</td>\n",
       "      <td>A</td>\n",
       "      <td>0</td>\n",
       "      <td>0</td>\n",
       "      <td>Transient</td>\n",
       "      <td>0</td>\n",
       "      <td>1</td>\n",
       "      <td>4</td>\n",
       "    </tr>\n",
       "    <tr>\n",
       "      <th>3</th>\n",
       "      <td>6089</td>\n",
       "      <td>1</td>\n",
       "      <td>71.0</td>\n",
       "      <td>2017</td>\n",
       "      <td>January</td>\n",
       "      <td>1</td>\n",
       "      <td>1</td>\n",
       "      <td>2</td>\n",
       "      <td>2</td>\n",
       "      <td>1.0</td>\n",
       "      <td>...</td>\n",
       "      <td>0</td>\n",
       "      <td>0</td>\n",
       "      <td>0</td>\n",
       "      <td>A</td>\n",
       "      <td>0</td>\n",
       "      <td>0</td>\n",
       "      <td>Transient</td>\n",
       "      <td>0</td>\n",
       "      <td>1</td>\n",
       "      <td>4</td>\n",
       "    </tr>\n",
       "    <tr>\n",
       "      <th>4</th>\n",
       "      <td>6090</td>\n",
       "      <td>1</td>\n",
       "      <td>172.0</td>\n",
       "      <td>2017</td>\n",
       "      <td>January</td>\n",
       "      <td>1</td>\n",
       "      <td>1</td>\n",
       "      <td>2</td>\n",
       "      <td>5</td>\n",
       "      <td>2.0</td>\n",
       "      <td>...</td>\n",
       "      <td>0</td>\n",
       "      <td>0</td>\n",
       "      <td>0</td>\n",
       "      <td>A</td>\n",
       "      <td>0</td>\n",
       "      <td>0</td>\n",
       "      <td>Transient</td>\n",
       "      <td>0</td>\n",
       "      <td>0</td>\n",
       "      <td>7</td>\n",
       "    </tr>\n",
       "  </tbody>\n",
       "</table>\n",
       "<p>5 rows × 25 columns</p>\n",
       "</div>"
      ],
      "text/plain": [
       "     id  is_canceled  lead_time  arrival_date_year arrival_date_month  \\\n",
       "0  6086            1       74.0               2017            January   \n",
       "1  6087            1       62.0               2017            January   \n",
       "2  6088            1       62.0               2017            January   \n",
       "3  6089            1       71.0               2017            January   \n",
       "4  6090            1      172.0               2017            January   \n",
       "\n",
       "   arrival_date_week_number  arrival_date_day_of_month  \\\n",
       "0                         1                          1   \n",
       "1                         1                          1   \n",
       "2                         1                          1   \n",
       "3                         1                          1   \n",
       "4                         1                          1   \n",
       "\n",
       "   stays_in_weekend_nights  stays_in_week_nights  adults  ...  \\\n",
       "0                        1                     0     2.0  ...   \n",
       "1                        2                     2     2.0  ...   \n",
       "2                        2                     2     2.0  ...   \n",
       "3                        2                     2     1.0  ...   \n",
       "4                        2                     5     2.0  ...   \n",
       "\n",
       "   is_repeated_guest  previous_cancellations previous_bookings_not_canceled  \\\n",
       "0                  0                       0                              0   \n",
       "1                  0                       0                              0   \n",
       "2                  0                       0                              0   \n",
       "3                  0                       0                              0   \n",
       "4                  0                       0                              0   \n",
       "\n",
       "  reserved_room_type booking_changes  days_in_waiting_list  customer_type  \\\n",
       "0   A                              0                     0      Transient   \n",
       "1   A                              0                     0      Transient   \n",
       "2   A                              0                     0      Transient   \n",
       "3   A                              0                     0      Transient   \n",
       "4   A                              0                     0      Transient   \n",
       "\n",
       "   required_car_parking_spaces total_of_special_requests  total_nights  \n",
       "0                            0                         0             1  \n",
       "1                            0                         1             4  \n",
       "2                            0                         1             4  \n",
       "3                            0                         1             4  \n",
       "4                            0                         0             7  \n",
       "\n",
       "[5 rows x 25 columns]"
      ]
     },
     "execution_count": 4,
     "metadata": {},
     "output_type": "execute_result"
    }
   ],
   "source": [
    "display(train_data.head(5))\n",
    "test_data.head(5)"
   ]
  },
  {
   "cell_type": "code",
   "execution_count": 5,
   "metadata": {},
   "outputs": [
    {
     "data": {
      "text/plain": [
       "False    65229\n",
       "dtype: int64"
      ]
     },
     "execution_count": 5,
     "metadata": {},
     "output_type": "execute_result"
    }
   ],
   "source": [
    "train_data.duplicated().value_counts()"
   ]
  },
  {
   "cell_type": "markdown",
   "metadata": {},
   "source": [
    "<div class=\"alert alert-warning\">\n",
    "<h2>Комментарий ревьюера<a class=\"tocSkip\"></a></h2>\n",
    "    \n",
    "**Есть совет** ⚠️: стоит еще проверить наличие дубликатов после удаления id</div>"
   ]
  },
  {
   "cell_type": "markdown",
   "metadata": {},
   "source": [
    "Пропусков в данных не обнаружил, дубликатов тоже нет"
   ]
  },
  {
   "cell_type": "code",
   "execution_count": 6,
   "metadata": {},
   "outputs": [
    {
     "data": {
      "image/png": "[encoded data removed]",
      "text/plain": [
       "<Figure size 432x288 with 1 Axes>"
      ]
     },
     "metadata": {
      "needs_background": "light"
     },
     "output_type": "display_data"
    },
    {
     "data": {
      "image/png": "[encoded data removed]",
      "text/plain": [
       "<Figure size 432x288 with 1 Axes>"
      ]
     },
     "metadata": {
      "needs_background": "light"
     },
     "output_type": "display_data"
    },
    {
     "data": {
      "image/png": "[encoded data removed]",
      "text/plain": [
       "<Figure size 432x288 with 1 Axes>"
      ]
     },
     "metadata": {
      "needs_background": "light"
     },
     "output_type": "display_data"
    }
   ],
   "source": [
    "columns = ['customer_type', 'meal', 'reserved_room_type']\n",
    "\n",
    "for column in columns:\n",
    "    train_data[column].value_counts().plot(kind='bar', title=column)\n",
    "    plt.show()"
   ]
  },
  {
   "cell_type": "code",
   "execution_count": 7,
   "metadata": {},
   "outputs": [
    {
     "data": {
      "image/png": "[encoded data removed]",
      "text/plain": [
       "<Figure size 432x288 with 1 Axes>"
      ]
     },
     "metadata": {
      "needs_background": "light"
     },
     "output_type": "display_data"
    },
    {
     "data": {
      "image/png": "[encoded data removed]",
      "text/plain": [
       "<Figure size 432x288 with 1 Axes>"
      ]
     },
     "metadata": {
      "needs_background": "light"
     },
     "output_type": "display_data"
    },
    {
     "data": {
      "image/png": "[encoded data removed]",
      "text/plain": [
       "<Figure size 432x288 with 1 Axes>"
      ]
     },
     "metadata": {
      "needs_background": "light"
     },
     "output_type": "display_data"
    }
   ],
   "source": [
    "for column in columns:\n",
    "    sb.histplot(data=train_data, x=column, hue='is_canceled')\n",
    "    plt.show()"
   ]
  },
  {
   "cell_type": "markdown",
   "metadata": {},
   "source": [
    "Выявились наиболее популярные категории клиентов по столбцам:\n",
    "- Customer_type: `Transient` (не связано с договором или групповым заездом)\n",
    "- Meal: `BB` (включён завтрак)\n",
    "- Reserved_room_type: `A` "
   ]
  },
  {
   "cell_type": "code",
   "execution_count": 8,
   "metadata": {},
   "outputs": [
    {
     "data": {
      "text/plain": [
       "<AxesSubplot:title={'center':'country'}>"
      ]
     },
     "execution_count": 8,
     "metadata": {},
     "output_type": "execute_result"
    },
    {
     "data": {
      "image/png": "[encoded data removed]",
      "text/plain": [
       "<Figure size 432x288 with 1 Axes>"
      ]
     },
     "metadata": {
      "needs_background": "light"
     },
     "output_type": "display_data"
    }
   ],
   "source": [
    "train_data['country'].value_counts().iloc[:10].plot(kind='bar', title='country')"
   ]
  },
  {
   "cell_type": "markdown",
   "metadata": {},
   "source": [
    "В столбце со странами приобладает Португалия. Посмотрим как этот график изменится для выборок отмененных и не отмененных броней"
   ]
  },
  {
   "cell_type": "code",
   "execution_count": 9,
   "metadata": {},
   "outputs": [
    {
     "data": {
      "text/plain": [
       "<AxesSubplot:title={'center':'country'}>"
      ]
     },
     "execution_count": 9,
     "metadata": {},
     "output_type": "execute_result"
    },
    {
     "data": {
      "image/png": "[encoded data removed]",
      "text/plain": [
       "<Figure size 432x288 with 1 Axes>"
      ]
     },
     "metadata": {
      "needs_background": "light"
     },
     "output_type": "display_data"
    }
   ],
   "source": [
    "train_data.loc[train_data['is_canceled']==1, 'country'].value_counts().iloc[:10].plot(kind='bar', title='country')"
   ]
  },
  {
   "cell_type": "code",
   "execution_count": 10,
   "metadata": {},
   "outputs": [
    {
     "data": {
      "text/plain": [
       "<AxesSubplot:title={'center':'country'}>"
      ]
     },
     "execution_count": 10,
     "metadata": {},
     "output_type": "execute_result"
    },
    {
     "data": {
      "image/png": "[encoded data removed]",
      "text/plain": [
       "<Figure size 432x288 with 1 Axes>"
      ]
     },
     "metadata": {
      "needs_background": "light"
     },
     "output_type": "display_data"
    }
   ],
   "source": [
    "train_data.loc[train_data['is_canceled']==0, 'country'].value_counts().iloc[:10].plot(kind='bar', title='country')"
   ]
  },
  {
   "cell_type": "markdown",
   "metadata": {},
   "source": [
    "Сразу стало видно что португальцы чаще отменяют бронь, соотношение с другими значниями в выборке отмененных броней сильно больше. "
   ]
  },
  {
   "cell_type": "code",
   "execution_count": 11,
   "metadata": {},
   "outputs": [],
   "source": [
    "# train_data = train_data.drop('country', axis=1) \n",
    "# test_data = test_data.drop('country', axis=1)"
   ]
  },
  {
   "cell_type": "markdown",
   "metadata": {},
   "source": [
    "<div class=\"alert alert-info\">\n",
    "    <b>Комментарий студента:</b> НЕ удалил столбцы со значеними стран, полезной информации для наших целей они не несут\n",
    "</div>\n"
   ]
  },
  {
   "cell_type": "markdown",
   "metadata": {},
   "source": [
    "<div class=\"alert alert-warning\">\n",
    "<h2>Комментарий ревьюера<a class=\"tocSkip\"></a></h2>\n",
    "    \n",
    "**Есть совет** ⚠️: не очень понятно, как ты пришел к выводу, что страны не несут полезной информации, такое утверждение нужно аргументировать с помощью исследования. Например, можно посчитать долю отмененных бронирований для каждой страны. Если доля заметно отличается для самых популярных стран, то признак удалять уже не совсем корректно</div>"
   ]
  },
  {
   "cell_type": "markdown",
   "metadata": {},
   "source": [
    "<div class=\"alert alert-warning\">\n",
    "<h2>Комментарий ревьюера v2<a class=\"tocSkip\"></a></h2>\n",
    "    \n",
    "**Есть совет** ⚠️: окей, но так как в датасете представлено больше 150 стран, то все из них нам не понадобятся(с учетом того, что в большинстве из них небольшое количество бронирований), поэтому можно оставить, например, топ-30 стран, а остальным присвоить категорию `Other`.  Либо, можно попробовать разделить страны по частям света. Чтобы не делать это вручную, можно использовать общедоступный датасет, например, этот:\n",
    "    \n",
    "    countries = pd.read_csv('https://www.artlebedev.ru/country-list/tab/', sep='\\t')\n",
    "</div>"
   ]
  },
  {
   "cell_type": "code",
   "execution_count": 12,
   "metadata": {},
   "outputs": [],
   "source": [
    "def replace(val):\n",
    "    return val.replace(' ', '')"
   ]
  },
  {
   "cell_type": "code",
   "execution_count": 13,
   "metadata": {},
   "outputs": [],
   "source": [
    "train_data['reserved_room_type'] = train_data['reserved_room_type'].apply(replace)\n",
    "test_data['reserved_room_type'] = test_data['reserved_room_type'].apply(replace)"
   ]
  },
  {
   "cell_type": "markdown",
   "metadata": {},
   "source": [
    "<div class=\"alert alert-success\">\n",
    "<h2>Комментарий ревьюера<a class=\"tocSkip\"></a></h2>\n",
    "    \n",
    "**Отлично!** ✔️: молодец, что заметил неявные дубликаты!</div>"
   ]
  },
  {
   "cell_type": "markdown",
   "metadata": {},
   "source": [
    "<div class=\"alert alert-warning\">\n",
    "<h2>Комментарий ревьюера<a class=\"tocSkip\"></a></h2>\n",
    "    \n",
    "**Есть совет** ⚠️: но стоит проверить и другие категориальные признаки на предмет лишних пробелов</div>"
   ]
  },
  {
   "cell_type": "code",
   "execution_count": 14,
   "metadata": {},
   "outputs": [
    {
     "data": {
      "text/plain": [
       "A    50501\n",
       "D     9387\n",
       "E     2448\n",
       "F     1213\n",
       "B      860\n",
       "G      592\n",
       "C      228\n",
       "Name: reserved_room_type, dtype: int64"
      ]
     },
     "execution_count": 14,
     "metadata": {},
     "output_type": "execute_result"
    }
   ],
   "source": [
    "train_data['reserved_room_type'].value_counts()"
   ]
  },
  {
   "cell_type": "markdown",
   "metadata": {},
   "source": [
    "Исправил формат значений столбца, убрал лишние пробелы"
   ]
  },
  {
   "cell_type": "code",
   "execution_count": 15,
   "metadata": {},
   "outputs": [
    {
     "data": {
      "text/plain": [
       "October      9255\n",
       "September    8782\n",
       "August       6678\n",
       "November     5761\n",
       "July         5718\n",
       "December     5497\n",
       "April        4804\n",
       "May          4677\n",
       "June         4659\n",
       "March        4148\n",
       "February     3358\n",
       "January      1892\n",
       "Name: arrival_date_month, dtype: int64"
      ]
     },
     "execution_count": 15,
     "metadata": {},
     "output_type": "execute_result"
    }
   ],
   "source": [
    "train_data['arrival_date_month'].value_counts()"
   ]
  },
  {
   "cell_type": "code",
   "execution_count": 16,
   "metadata": {},
   "outputs": [],
   "source": [
    "def night_cost_with_season_coef(row):\n",
    "    if row['arrival_date_month'] in ['July', 'June', 'August']:\n",
    "        return row['night_cost'] * 1.4\n",
    "    if row['arrival_date_month'] in ['May', 'March', 'April', 'September', 'October', 'November']:\n",
    "        return row['night_cost'] * 1.2\n",
    "    return row['night_cost']"
   ]
  },
  {
   "cell_type": "code",
   "execution_count": 17,
   "metadata": {},
   "outputs": [],
   "source": [
    "datas = [train_data, test_data]\n",
    "\n",
    "for data in datas:\n",
    "    data.loc[data['reserved_room_type'] == 'A', 'night_cost'] = 1000\n",
    "    data.loc[data['reserved_room_type'] == 'B', 'night_cost'] = 800\n",
    "    data.loc[data['reserved_room_type'] == 'C', 'night_cost'] = 600\n",
    "    data.loc[data['reserved_room_type'] == 'D', 'night_cost'] = 550\n",
    "    data.loc[data['reserved_room_type'] == 'E', 'night_cost'] = 500\n",
    "    data.loc[data['reserved_room_type'] == 'F', 'night_cost'] = 450\n",
    "    data.loc[data['reserved_room_type'] == 'G', 'night_cost'] = 350\n",
    "    \n",
    "    for i in ['A', 'B', 'C', 'D', 'E', 'F', 'G']:\n",
    "        if i == 'A':\n",
    "            cost = 400\n",
    "        if i in ['B', 'C']:\n",
    "            cost = 350\n",
    "        if i in ['D', 'E', 'F', 'G']:\n",
    "            cost = 150\n",
    "        data.loc[data['reserved_room_type'] == i, 'one_time_service'] = cost\n",
    "        \n",
    "    \n",
    "    data['night_cost'] = data.apply(night_cost_with_season_coef, axis=1)\n",
    "\n",
    "\n",
    "    data['sum_cost_for_night'] = data['night_cost'] + data['one_time_service']\n",
    "    data['sum_cost_for_all_nights'] = data['night_cost'] * data['total_nights'] - data['one_time_service'] * (1 + data['total_nights'] // 2)"
   ]
  },
  {
   "cell_type": "markdown",
   "metadata": {},
   "source": [
    "<div class=\"alert alert-danger\">\n",
    "<h2>Комментарий ревьюера<a class=\"tocSkip\"></a></h2>\n",
    "\n",
    "**Нужно доработать** ❌: почти все окей, но, согласно заданию, цены на 20% повышаются не только весной, но и осенью, нужно поправить</div>"
   ]
  },
  {
   "cell_type": "markdown",
   "metadata": {},
   "source": [
    "<div class=\"alert alert-info\">\n",
    "    <b>Комментарий студента:</b> Сделано\n",
    "</div>"
   ]
  },
  {
   "cell_type": "markdown",
   "metadata": {},
   "source": [
    "<div class=\"alert alert-danger\">\n",
    "<h2>Комментарий ревьюера v2<a class=\"tocSkip\"></a></h2>\n",
    "\n",
    "**Нужно доработать** ❌: давай попробуем разобрать этот фрагмент кода:\n",
    "\n",
    "    for i in ['July', 'June', 'August', 'May', 'March', 'April']:\n",
    "        if i in ['July', 'June', 'August']:\n",
    "            coef = 1.4\n",
    "        if i in ['May', 'March', 'April', 'September', 'October', 'November']:\n",
    "            coef = 1.2\n",
    "    \n",
    "В условии `if i in ['May', 'March', 'April', 'September', 'October', 'November']` счетчик никогда не будет равен ни одному осеннему месяцу, так как ты итерируешься только по летним и весенним. Также в выражении `data.loc[data['arrival_date_month'] == i, 'night_cost'] *= coef` коэффициент не применится к осеннему месяцу по той же причине, ниже я привел пример, нужно поправить\n",
    "</div>"
   ]
  },
  {
   "cell_type": "markdown",
   "metadata": {},
   "source": [
    "<div class=\"alert alert-info\">\n",
    "    <b>Комментарий студента:</b> Да, тут поторопился, глупая ошибка, все исправил\n",
    "</div>"
   ]
  },
  {
   "cell_type": "markdown",
   "metadata": {},
   "source": [
    "<div class=\"alert alert-success\">\n",
    "<h2>Комментарий ревьюера v3<a class=\"tocSkip\"></a></h2>\n",
    "    \n",
    "**Отлично!** ✔️: 👍</div>"
   ]
  },
  {
   "cell_type": "code",
   "execution_count": 18,
   "metadata": {},
   "outputs": [
    {
     "data": {
      "text/html": [
       "<div>\n",
       "<style scoped>\n",
       "    .dataframe tbody tr th:only-of-type {\n",
       "        vertical-align: middle;\n",
       "    }\n",
       "\n",
       "    .dataframe tbody tr th {\n",
       "        vertical-align: top;\n",
       "    }\n",
       "\n",
       "    .dataframe thead th {\n",
       "        text-align: right;\n",
       "    }\n",
       "</style>\n",
       "<table border=\"1\" class=\"dataframe\">\n",
       "  <thead>\n",
       "    <tr style=\"text-align: right;\">\n",
       "      <th></th>\n",
       "      <th>arrival_date_month</th>\n",
       "      <th>reserved_room_type</th>\n",
       "      <th>night_cost</th>\n",
       "    </tr>\n",
       "  </thead>\n",
       "  <tbody>\n",
       "    <tr>\n",
       "      <th>847</th>\n",
       "      <td>September</td>\n",
       "      <td>A</td>\n",
       "      <td>1200.0</td>\n",
       "    </tr>\n",
       "    <tr>\n",
       "      <th>848</th>\n",
       "      <td>September</td>\n",
       "      <td>D</td>\n",
       "      <td>660.0</td>\n",
       "    </tr>\n",
       "    <tr>\n",
       "      <th>849</th>\n",
       "      <td>September</td>\n",
       "      <td>E</td>\n",
       "      <td>600.0</td>\n",
       "    </tr>\n",
       "    <tr>\n",
       "      <th>850</th>\n",
       "      <td>September</td>\n",
       "      <td>E</td>\n",
       "      <td>600.0</td>\n",
       "    </tr>\n",
       "    <tr>\n",
       "      <th>851</th>\n",
       "      <td>September</td>\n",
       "      <td>C</td>\n",
       "      <td>720.0</td>\n",
       "    </tr>\n",
       "  </tbody>\n",
       "</table>\n",
       "</div>"
      ],
      "text/plain": [
       "    arrival_date_month reserved_room_type  night_cost\n",
       "847          September                  A      1200.0\n",
       "848          September                  D       660.0\n",
       "849          September                  E       600.0\n",
       "850          September                  E       600.0\n",
       "851          September                  C       720.0"
      ]
     },
     "execution_count": 18,
     "metadata": {},
     "output_type": "execute_result"
    }
   ],
   "source": [
    "# код ревьюера\n",
    "\n",
    "train_data.loc[train_data['arrival_date_month'] == 'September'][['arrival_date_month', 'reserved_room_type', 'night_cost']].head()"
   ]
  },
  {
   "cell_type": "markdown",
   "metadata": {},
   "source": [
    "<div class=\"alert alert-warning\">\n",
    "<h2>Комментарий ревьюера v2<a class=\"tocSkip\"></a></h2>\n",
    "    \n",
    "**Есть совет** ⚠️: лучше здесь вообще отказаться от циклов, а использовать функцию, которую можно применить в apply, тогда она будет выглядеть примерно так:\n",
    "\n",
    "    def night_cost_with_season_coef(row):\n",
    "        if row['arrival_date_month'] in ['July', 'June', 'August']:\n",
    "            return row['night_cost'] * 1.4\n",
    "        if row['arrival_date_month'] in ['December', 'January', 'February']:\n",
    "            return row['night_cost']\n",
    "        return row['night_cost'] * 1.2\n",
    "\n",
    "    data['night_cost'] = data.apply(night_cost_with_season_coef, axis=1)\n",
    "    \n",
    "Аналогичным образом можно поправить расчет стоимости номера и уборки. Так твой код будет работать оптимальнее и его будет проще читать\n",
    "</div>"
   ]
  },
  {
   "cell_type": "markdown",
   "metadata": {},
   "source": [
    "<div class=\"alert alert-info\">\n",
    "    <b>Комментарий студента:</b> Я заметил ошибки в предложенной функции. Все исправил и использовал в своем коде\n",
    "</div>"
   ]
  },
  {
   "cell_type": "markdown",
   "metadata": {},
   "source": [
    "<div class=\"alert alert-warning\">\n",
    "<h2>Комментарий ревьюера v3<a class=\"tocSkip\"></a></h2>\n",
    "    \n",
    "**Есть совет** ⚠️: честно говоря, не вижу здесь ошибки :) Я просто вместо проверки на весенние/осенние месяцы добавил проверку на зимние месяцы, чтобы указать в списке только 3 месяца, а не 6, так мне код кажется элегантнее, привычка программиста :) А в остальном он идентичен твоей функции</div>"
   ]
  },
  {
   "cell_type": "code",
   "execution_count": 19,
   "metadata": {},
   "outputs": [
    {
     "data": {
      "text/html": [
       "<div>\n",
       "<style scoped>\n",
       "    .dataframe tbody tr th:only-of-type {\n",
       "        vertical-align: middle;\n",
       "    }\n",
       "\n",
       "    .dataframe tbody tr th {\n",
       "        vertical-align: top;\n",
       "    }\n",
       "\n",
       "    .dataframe thead th {\n",
       "        text-align: right;\n",
       "    }\n",
       "</style>\n",
       "<table border=\"1\" class=\"dataframe\">\n",
       "  <thead>\n",
       "    <tr style=\"text-align: right;\">\n",
       "      <th></th>\n",
       "      <th>id</th>\n",
       "      <th>is_canceled</th>\n",
       "      <th>lead_time</th>\n",
       "      <th>arrival_date_year</th>\n",
       "      <th>arrival_date_month</th>\n",
       "      <th>arrival_date_week_number</th>\n",
       "      <th>arrival_date_day_of_month</th>\n",
       "      <th>stays_in_weekend_nights</th>\n",
       "      <th>stays_in_week_nights</th>\n",
       "      <th>adults</th>\n",
       "      <th>...</th>\n",
       "      <th>booking_changes</th>\n",
       "      <th>days_in_waiting_list</th>\n",
       "      <th>customer_type</th>\n",
       "      <th>required_car_parking_spaces</th>\n",
       "      <th>total_of_special_requests</th>\n",
       "      <th>total_nights</th>\n",
       "      <th>night_cost</th>\n",
       "      <th>one_time_service</th>\n",
       "      <th>sum_cost_for_night</th>\n",
       "      <th>sum_cost_for_all_nights</th>\n",
       "    </tr>\n",
       "  </thead>\n",
       "  <tbody>\n",
       "    <tr>\n",
       "      <th>0</th>\n",
       "      <td>6086</td>\n",
       "      <td>1</td>\n",
       "      <td>74.0</td>\n",
       "      <td>2017</td>\n",
       "      <td>January</td>\n",
       "      <td>1</td>\n",
       "      <td>1</td>\n",
       "      <td>1</td>\n",
       "      <td>0</td>\n",
       "      <td>2.0</td>\n",
       "      <td>...</td>\n",
       "      <td>0</td>\n",
       "      <td>0</td>\n",
       "      <td>Transient</td>\n",
       "      <td>0</td>\n",
       "      <td>0</td>\n",
       "      <td>1</td>\n",
       "      <td>1000.0</td>\n",
       "      <td>400.0</td>\n",
       "      <td>1400.0</td>\n",
       "      <td>600.0</td>\n",
       "    </tr>\n",
       "    <tr>\n",
       "      <th>1</th>\n",
       "      <td>6087</td>\n",
       "      <td>1</td>\n",
       "      <td>62.0</td>\n",
       "      <td>2017</td>\n",
       "      <td>January</td>\n",
       "      <td>1</td>\n",
       "      <td>1</td>\n",
       "      <td>2</td>\n",
       "      <td>2</td>\n",
       "      <td>2.0</td>\n",
       "      <td>...</td>\n",
       "      <td>0</td>\n",
       "      <td>0</td>\n",
       "      <td>Transient</td>\n",
       "      <td>0</td>\n",
       "      <td>1</td>\n",
       "      <td>4</td>\n",
       "      <td>1000.0</td>\n",
       "      <td>400.0</td>\n",
       "      <td>1400.0</td>\n",
       "      <td>2800.0</td>\n",
       "    </tr>\n",
       "    <tr>\n",
       "      <th>2</th>\n",
       "      <td>6088</td>\n",
       "      <td>1</td>\n",
       "      <td>62.0</td>\n",
       "      <td>2017</td>\n",
       "      <td>January</td>\n",
       "      <td>1</td>\n",
       "      <td>1</td>\n",
       "      <td>2</td>\n",
       "      <td>2</td>\n",
       "      <td>2.0</td>\n",
       "      <td>...</td>\n",
       "      <td>0</td>\n",
       "      <td>0</td>\n",
       "      <td>Transient</td>\n",
       "      <td>0</td>\n",
       "      <td>1</td>\n",
       "      <td>4</td>\n",
       "      <td>1000.0</td>\n",
       "      <td>400.0</td>\n",
       "      <td>1400.0</td>\n",
       "      <td>2800.0</td>\n",
       "    </tr>\n",
       "    <tr>\n",
       "      <th>3</th>\n",
       "      <td>6089</td>\n",
       "      <td>1</td>\n",
       "      <td>71.0</td>\n",
       "      <td>2017</td>\n",
       "      <td>January</td>\n",
       "      <td>1</td>\n",
       "      <td>1</td>\n",
       "      <td>2</td>\n",
       "      <td>2</td>\n",
       "      <td>1.0</td>\n",
       "      <td>...</td>\n",
       "      <td>0</td>\n",
       "      <td>0</td>\n",
       "      <td>Transient</td>\n",
       "      <td>0</td>\n",
       "      <td>1</td>\n",
       "      <td>4</td>\n",
       "      <td>1000.0</td>\n",
       "      <td>400.0</td>\n",
       "      <td>1400.0</td>\n",
       "      <td>2800.0</td>\n",
       "    </tr>\n",
       "    <tr>\n",
       "      <th>4</th>\n",
       "      <td>6090</td>\n",
       "      <td>1</td>\n",
       "      <td>172.0</td>\n",
       "      <td>2017</td>\n",
       "      <td>January</td>\n",
       "      <td>1</td>\n",
       "      <td>1</td>\n",
       "      <td>2</td>\n",
       "      <td>5</td>\n",
       "      <td>2.0</td>\n",
       "      <td>...</td>\n",
       "      <td>0</td>\n",
       "      <td>0</td>\n",
       "      <td>Transient</td>\n",
       "      <td>0</td>\n",
       "      <td>0</td>\n",
       "      <td>7</td>\n",
       "      <td>1000.0</td>\n",
       "      <td>400.0</td>\n",
       "      <td>1400.0</td>\n",
       "      <td>5400.0</td>\n",
       "    </tr>\n",
       "  </tbody>\n",
       "</table>\n",
       "<p>5 rows × 29 columns</p>\n",
       "</div>"
      ],
      "text/plain": [
       "     id  is_canceled  lead_time  arrival_date_year arrival_date_month  \\\n",
       "0  6086            1       74.0               2017            January   \n",
       "1  6087            1       62.0               2017            January   \n",
       "2  6088            1       62.0               2017            January   \n",
       "3  6089            1       71.0               2017            January   \n",
       "4  6090            1      172.0               2017            January   \n",
       "\n",
       "   arrival_date_week_number  arrival_date_day_of_month  \\\n",
       "0                         1                          1   \n",
       "1                         1                          1   \n",
       "2                         1                          1   \n",
       "3                         1                          1   \n",
       "4                         1                          1   \n",
       "\n",
       "   stays_in_weekend_nights  stays_in_week_nights  adults  ...  \\\n",
       "0                        1                     0     2.0  ...   \n",
       "1                        2                     2     2.0  ...   \n",
       "2                        2                     2     2.0  ...   \n",
       "3                        2                     2     1.0  ...   \n",
       "4                        2                     5     2.0  ...   \n",
       "\n",
       "   booking_changes  days_in_waiting_list customer_type  \\\n",
       "0                0                     0     Transient   \n",
       "1                0                     0     Transient   \n",
       "2                0                     0     Transient   \n",
       "3                0                     0     Transient   \n",
       "4                0                     0     Transient   \n",
       "\n",
       "  required_car_parking_spaces total_of_special_requests  total_nights  \\\n",
       "0                           0                         0             1   \n",
       "1                           0                         1             4   \n",
       "2                           0                         1             4   \n",
       "3                           0                         1             4   \n",
       "4                           0                         0             7   \n",
       "\n",
       "   night_cost  one_time_service sum_cost_for_night  sum_cost_for_all_nights  \n",
       "0      1000.0             400.0             1400.0                    600.0  \n",
       "1      1000.0             400.0             1400.0                   2800.0  \n",
       "2      1000.0             400.0             1400.0                   2800.0  \n",
       "3      1000.0             400.0             1400.0                   2800.0  \n",
       "4      1000.0             400.0             1400.0                   5400.0  \n",
       "\n",
       "[5 rows x 29 columns]"
      ]
     },
     "execution_count": 19,
     "metadata": {},
     "output_type": "execute_result"
    }
   ],
   "source": [
    "test_data.head(5)"
   ]
  },
  {
   "cell_type": "markdown",
   "metadata": {},
   "source": [
    "Добавил столбцы с посчитанными расценками с учетом коэфицентов по времени года. Добавил столбец с сумарной прибылью за период бронирования"
   ]
  },
  {
   "cell_type": "code",
   "execution_count": 20,
   "metadata": {},
   "outputs": [],
   "source": [
    "counted_columns = ['adults', 'babies', 'children', 'booking_changes', 'days_in_waiting_list', 'lead_time', 'previous_cancellations', 'required_car_parking_spaces', 'total_nights', 'total_of_special_requests']"
   ]
  },
  {
   "cell_type": "code",
   "execution_count": 21,
   "metadata": {},
   "outputs": [
    {
     "data": {
      "image/png": "[encoded data removed]",
      "text/plain": [
       "<Figure size 432x288 with 1 Axes>"
      ]
     },
     "metadata": {
      "needs_background": "light"
     },
     "output_type": "display_data"
    },
    {
     "data": {
      "image/png": "[encoded data removed]",
      "text/plain": [
       "<Figure size 432x288 with 1 Axes>"
      ]
     },
     "metadata": {
      "needs_background": "light"
     },
     "output_type": "display_data"
    },
    {
     "data": {
      "image/png": "[encoded data removed]",
      "text/plain": [
       "<Figure size 432x288 with 1 Axes>"
      ]
     },
     "metadata": {
      "needs_background": "light"
     },
     "output_type": "display_data"
    },
    {
     "data": {
      "image/png": "[encoded data removed]",
      "text/plain": [
       "<Figure size 432x288 with 1 Axes>"
      ]
     },
     "metadata": {
      "needs_background": "light"
     },
     "output_type": "display_data"
    },
    {
     "data": {
      "image/png": "[encoded data removed]",
      "text/plain": [
       "<Figure size 432x288 with 1 Axes>"
      ]
     },
     "metadata": {
      "needs_background": "light"
     },
     "output_type": "display_data"
    },
    {
     "data": {
      "image/png": "[encoded data removed]",
      "text/plain": [
       "<Figure size 432x288 with 1 Axes>"
      ]
     },
     "metadata": {
      "needs_background": "light"
     },
     "output_type": "display_data"
    },
    {
     "data": {
      "image/png": "[encoded data removed]",
      "text/plain": [
       "<Figure size 432x288 with 1 Axes>"
      ]
     },
     "metadata": {
      "needs_background": "light"
     },
     "output_type": "display_data"
    },
    {
     "data": {
      "image/png": "[encoded data removed]",
      "text/plain": [
       "<Figure size 432x288 with 1 Axes>"
      ]
     },
     "metadata": {
      "needs_background": "light"
     },
     "output_type": "display_data"
    },
    {
     "data": {
      "image/png": "[encoded data removed]",
      "text/plain": [
       "<Figure size 432x288 with 1 Axes>"
      ]
     },
     "metadata": {
      "needs_background": "light"
     },
     "output_type": "display_data"
    },
    {
     "data": {
      "image/png": "[encoded data removed]",
      "text/plain": [
       "<Figure size 432x288 with 1 Axes>"
      ]
     },
     "metadata": {
      "needs_background": "light"
     },
     "output_type": "display_data"
    }
   ],
   "source": [
    "for column in counted_columns:\n",
    "    sb.boxplot(data=train_data, x=column, hue=\"is_canceled\")\n",
    "    plt.show()"
   ]
  },
  {
   "cell_type": "markdown",
   "metadata": {},
   "source": [
    "Выявили наиболее частые значения, так же нашли выбросы, которые стоит поправить "
   ]
  },
  {
   "cell_type": "code",
   "execution_count": 22,
   "metadata": {},
   "outputs": [],
   "source": [
    "train_data = train_data.drop(train_data[train_data['babies']>=8].index, axis=0)"
   ]
  },
  {
   "cell_type": "markdown",
   "metadata": {},
   "source": [
    "<div class=\"alert alert-danger\">\n",
    "<h2>Комментарий ревьюера<a class=\"tocSkip\"></a></h2>\n",
    "\n",
    "**Нужно доработать** ❌: обязательная часть любого исследовательского анализа — это визуализация и описанные в выводах наблюдения, тут полезно будет поизучать, например, следующее:\n",
    "1. Доля клиентов по странам, типу заказчика, питанию, категориям номеров и т.д.\n",
    "2. Соотношение ушедших/неушедших клиентов по всем признакам. Для этого можно использовать <a href=\"https://seaborn.pydata.org/generated/seaborn.histplot.html\" target=\"blank_\">seaborn.histplot</a> и <a href=\"https://seaborn.pydata.org/generated/seaborn.countplot.html\">seaborn.countplot</a>\n",
    "3. Диаграммы размаха по численным признакам(<a href=\"https://seaborn.pydata.org/generated/seaborn.boxplot.html\" target=\"blank_\">seaborn.boxplot</a>)\n",
    "4. Матрица корреляций(а тут поможет <a href=\"https://seaborn.pydata.org/generated/seaborn.heatmap.html\" target=\"blank_\">seaborn.heatmap</a>)\n",
    "\n",
    "Нужно построить хотя бы часть из них, это важная часть проекта</div>"
   ]
  },
  {
   "cell_type": "markdown",
   "metadata": {},
   "source": [
    "<div class=\"alert alert-info\">\n",
    "    <b>Комментарий студента:</b> Сделано\n",
    "</div>"
   ]
  },
  {
   "cell_type": "markdown",
   "metadata": {},
   "source": [
    "<div class=\"alert alert-success\">\n",
    "<h2>Комментарий ревьюера v2<a class=\"tocSkip\"></a></h2>\n",
    "    \n",
    "**Отлично!** ✔️: вот теперь другое дело :)</div>"
   ]
  },
  {
   "cell_type": "markdown",
   "metadata": {},
   "source": [
    "<div class=\"alert alert-warning\">\n",
    "<h2>Комментарий ревьюера<a class=\"tocSkip\"></a></h2>\n",
    "    \n",
    "**Есть совет** ⚠️: также нужно больше времени уделить предобработке, начать можно со следующего:\n",
    "1. Лучше внимательнее изучить каждый признак на предмет выбросов: например, 10 младенцев в бронировании или 8 требуемых парковочных мест — явные аномалии, которые стоит обработать;\n",
    "2. Также можно проверить данные на адекватность: например, детям без взрослых номер сдать не могут, так что если такие записи есть — их лучше удалить\n",
    "3. Судя по описанию, `total_nights` — это сумма `stays_in_week_nights` и `stays_in_weekend_nights`, если это и правда так, то все три признака нам не нужны, некоторые стоит удалить</div>"
   ]
  },
  {
   "cell_type": "markdown",
   "metadata": {},
   "source": [
    "### Шаг 3. Формулировка ML-задачи на основе бизнес-задачи"
   ]
  },
  {
   "cell_type": "code",
   "execution_count": 23,
   "metadata": {},
   "outputs": [],
   "source": [
    "def profit(df):\n",
    "    inc = df.loc[df['is_canceled'] == 0, 'sum_cost_for_all_nights'].sum()\n",
    "    inc -= df.loc[df['is_canceled'] == 1, 'sum_cost_for_night'].sum()\n",
    "    return inc"
   ]
  },
  {
   "cell_type": "markdown",
   "metadata": {},
   "source": [
    "Функция подсчета прибыли без учета депозита для известных данных"
   ]
  },
  {
   "cell_type": "code",
   "execution_count": 24,
   "metadata": {},
   "outputs": [
    {
     "name": "stdout",
     "output_type": "stream",
     "text": [
      "Чистая прибыль тренировочной выборки 66146770.0\n",
      "Чистая прибыль тестовой выборки 32582920.0\n"
     ]
    }
   ],
   "source": [
    "print('Чистая прибыль тренировочной выборки', profit(train_data))\n",
    "print('Чистая прибыль тестовой выборки', profit(test_data))"
   ]
  },
  {
   "cell_type": "code",
   "execution_count": 25,
   "metadata": {},
   "outputs": [],
   "source": [
    "def profit_metric(df, df_dep, budget=0, dep_coef=.8):\n",
    "    inc = df.loc[(df['is_canceled'] == 0) & (df_dep['is_canceled'] == 0), 'sum_cost_for_all_nights'].sum()\n",
    "    inc -= df.loc[(df['is_canceled'] == 1) & (df_dep['is_canceled'] == 1), 'sum_cost_for_night'].sum() * (1-dep_coef)\n",
    "    inc += df.loc[(df['is_canceled'] == 0) & (df_dep['is_canceled'] == 1), 'sum_cost_for_all_nights'].sum()\n",
    "    inc -= df.loc[(df['is_canceled'] == 1) & (df_dep['is_canceled'] == 0), 'sum_cost_for_night'].sum()\n",
    "    \n",
    "    profit_ratio = inc / profit(df) # Считает отношение прибли без депозитов и с депозитами\n",
    "    profit_difference = inc - profit(df) - budget # Чистая разность прибыли с учетом бюджета на внедрение системы\n",
    "    return profit_ratio, profit_difference"
   ]
  },
  {
   "cell_type": "markdown",
   "metadata": {},
   "source": [
    "Написал метрику для анализа прибыльности. Результаты расчетов: `соотношение прибыли для данных без депозитов и с вводом депозитной системы`, второе число: `разница в прибыли с вычетом бюджета на разработку`"
   ]
  },
  {
   "cell_type": "markdown",
   "metadata": {},
   "source": [
    "<div class=\"alert alert-success\">\n",
    "<h2>Комментарий ревьюера<a class=\"tocSkip\"></a></h2>\n",
    "    \n",
    "**Отлично!** ✔️: прибыль после внедрения модели рассчитана верно!</div>"
   ]
  },
  {
   "cell_type": "markdown",
   "metadata": {},
   "source": [
    "### Шаг 4. Разработка модели ML"
   ]
  },
  {
   "cell_type": "code",
   "execution_count": 26,
   "metadata": {},
   "outputs": [],
   "source": [
    "train_data = pd.get_dummies(train_data, drop_first=True)\n",
    "test_data = pd.get_dummies(test_data, drop_first=True)"
   ]
  },
  {
   "cell_type": "markdown",
   "metadata": {},
   "source": [
    "<div class=\"alert alert-warning\">\n",
    "<h2>Комментарий ревьюера<a class=\"tocSkip\"></a></h2>\n",
    "    \n",
    "**Есть совет** ⚠️: для «деревянных» моделей лучше использовать порядковое кодирование, так как они заметно быстрее обучаются на меньшем количестве признаков и не теряют в качестве, есть <a href=\"https://medium.com/data-design/visiting-categorical-features-and-encoding-in-decision-trees-53400fa65931\" target=\"blank_\">шикарная статья</a>на эту тему. Но для линейных моделей(в том числе логистической регрессии) порядковое кодирование не подходит, потому что задает приоритет признакам, которого в природе данных нет. Тогда, например, значение «2» в признаке `country` для них будет важнее, чем значение «0», а для наших данных это неверное утверждение. Поэтому для них лучше использовать OHE. Тогда у тебя получится разная предобработка для разных моделей, это нормально :)</div>"
   ]
  },
  {
   "cell_type": "code",
   "execution_count": 27,
   "metadata": {},
   "outputs": [
    {
     "data": {
      "text/plain": [
       "{'country_ASM',\n",
       " 'country_ATF',\n",
       " 'country_BHS',\n",
       " 'country_CAF',\n",
       " 'country_FJI',\n",
       " 'country_FRO',\n",
       " 'country_GHA',\n",
       " 'country_GTM',\n",
       " 'country_KIR',\n",
       " 'country_LAO',\n",
       " 'country_MDG',\n",
       " 'country_MRT',\n",
       " 'country_MYT',\n",
       " 'country_NCL',\n",
       " 'country_NPL',\n",
       " 'country_SDN',\n",
       " 'country_SLE',\n",
       " 'country_TGO',\n",
       " 'country_UMI'}"
      ]
     },
     "execution_count": 27,
     "metadata": {},
     "output_type": "execute_result"
    }
   ],
   "source": [
    "columns = set(test_data.columns).difference(set(train_data.columns))\n",
    "columns"
   ]
  },
  {
   "cell_type": "code",
   "execution_count": 28,
   "metadata": {},
   "outputs": [],
   "source": [
    "train_data[list(columns)] = 0"
   ]
  },
  {
   "cell_type": "code",
   "execution_count": 29,
   "metadata": {},
   "outputs": [
    {
     "data": {
      "text/plain": [
       "{'arrival_date_month_December',\n",
       " 'arrival_date_month_November',\n",
       " 'arrival_date_month_October',\n",
       " 'arrival_date_month_September',\n",
       " 'country_ARM',\n",
       " 'country_BDI',\n",
       " 'country_BFA',\n",
       " 'country_BOL',\n",
       " 'country_BRB',\n",
       " 'country_BWA',\n",
       " 'country_CYM',\n",
       " 'country_DMA',\n",
       " 'country_GEO',\n",
       " 'country_GGY',\n",
       " 'country_GLP',\n",
       " 'country_GUY',\n",
       " 'country_HND',\n",
       " 'country_KHM',\n",
       " 'country_KNA',\n",
       " 'country_LCA',\n",
       " 'country_MKD',\n",
       " 'country_MLI',\n",
       " 'country_MMR',\n",
       " 'country_MWI',\n",
       " 'country_NAM',\n",
       " 'country_NIC',\n",
       " 'country_OMN',\n",
       " 'country_PLW',\n",
       " 'country_PYF',\n",
       " 'country_RWA',\n",
       " 'country_SMR',\n",
       " 'country_TMP',\n",
       " 'country_UGA',\n",
       " 'country_VGB',\n",
       " 'country_ZMB'}"
      ]
     },
     "execution_count": 29,
     "metadata": {},
     "output_type": "execute_result"
    }
   ],
   "source": [
    "columns = set(train_data.columns).difference(set(test_data.columns))\n",
    "columns"
   ]
  },
  {
   "cell_type": "code",
   "execution_count": 30,
   "metadata": {},
   "outputs": [],
   "source": [
    "test_data[list(columns)] = 0"
   ]
  },
  {
   "cell_type": "markdown",
   "metadata": {},
   "source": [
    "В тестовых данных меньше столбцов, поэтому для работы обученной модели добавим столбцы в тестовую выборку. Значения в столбцах -  0"
   ]
  },
  {
   "cell_type": "code",
   "execution_count": 31,
   "metadata": {},
   "outputs": [
    {
     "name": "stdout",
     "output_type": "stream",
     "text": [
      "(32412, 223) (65227, 223)\n"
     ]
    }
   ],
   "source": [
    "print(test_data.shape, train_data.shape)"
   ]
  },
  {
   "cell_type": "code",
   "execution_count": 32,
   "metadata": {},
   "outputs": [
    {
     "data": {
      "text/html": [
       "<div>\n",
       "<style scoped>\n",
       "    .dataframe tbody tr th:only-of-type {\n",
       "        vertical-align: middle;\n",
       "    }\n",
       "\n",
       "    .dataframe tbody tr th {\n",
       "        vertical-align: top;\n",
       "    }\n",
       "\n",
       "    .dataframe thead th {\n",
       "        text-align: right;\n",
       "    }\n",
       "</style>\n",
       "<table border=\"1\" class=\"dataframe\">\n",
       "  <thead>\n",
       "    <tr style=\"text-align: right;\">\n",
       "      <th></th>\n",
       "      <th>id</th>\n",
       "      <th>is_canceled</th>\n",
       "      <th>lead_time</th>\n",
       "      <th>arrival_date_year</th>\n",
       "      <th>arrival_date_week_number</th>\n",
       "      <th>arrival_date_day_of_month</th>\n",
       "      <th>stays_in_weekend_nights</th>\n",
       "      <th>stays_in_week_nights</th>\n",
       "      <th>adults</th>\n",
       "      <th>children</th>\n",
       "      <th>...</th>\n",
       "      <th>country_MYT</th>\n",
       "      <th>country_GTM</th>\n",
       "      <th>country_FRO</th>\n",
       "      <th>country_ATF</th>\n",
       "      <th>country_BHS</th>\n",
       "      <th>country_ASM</th>\n",
       "      <th>country_KIR</th>\n",
       "      <th>country_LAO</th>\n",
       "      <th>country_MRT</th>\n",
       "      <th>country_SLE</th>\n",
       "    </tr>\n",
       "  </thead>\n",
       "  <tbody>\n",
       "    <tr>\n",
       "      <th>0</th>\n",
       "      <td>0</td>\n",
       "      <td>0</td>\n",
       "      <td>7.0</td>\n",
       "      <td>2015</td>\n",
       "      <td>27</td>\n",
       "      <td>1</td>\n",
       "      <td>0</td>\n",
       "      <td>1</td>\n",
       "      <td>1.0</td>\n",
       "      <td>0.0</td>\n",
       "      <td>...</td>\n",
       "      <td>0</td>\n",
       "      <td>0</td>\n",
       "      <td>0</td>\n",
       "      <td>0</td>\n",
       "      <td>0</td>\n",
       "      <td>0</td>\n",
       "      <td>0</td>\n",
       "      <td>0</td>\n",
       "      <td>0</td>\n",
       "      <td>0</td>\n",
       "    </tr>\n",
       "    <tr>\n",
       "      <th>1</th>\n",
       "      <td>1</td>\n",
       "      <td>0</td>\n",
       "      <td>14.0</td>\n",
       "      <td>2015</td>\n",
       "      <td>27</td>\n",
       "      <td>1</td>\n",
       "      <td>0</td>\n",
       "      <td>2</td>\n",
       "      <td>2.0</td>\n",
       "      <td>0.0</td>\n",
       "      <td>...</td>\n",
       "      <td>0</td>\n",
       "      <td>0</td>\n",
       "      <td>0</td>\n",
       "      <td>0</td>\n",
       "      <td>0</td>\n",
       "      <td>0</td>\n",
       "      <td>0</td>\n",
       "      <td>0</td>\n",
       "      <td>0</td>\n",
       "      <td>0</td>\n",
       "    </tr>\n",
       "    <tr>\n",
       "      <th>2</th>\n",
       "      <td>2</td>\n",
       "      <td>0</td>\n",
       "      <td>0.0</td>\n",
       "      <td>2015</td>\n",
       "      <td>27</td>\n",
       "      <td>1</td>\n",
       "      <td>0</td>\n",
       "      <td>2</td>\n",
       "      <td>2.0</td>\n",
       "      <td>0.0</td>\n",
       "      <td>...</td>\n",
       "      <td>0</td>\n",
       "      <td>0</td>\n",
       "      <td>0</td>\n",
       "      <td>0</td>\n",
       "      <td>0</td>\n",
       "      <td>0</td>\n",
       "      <td>0</td>\n",
       "      <td>0</td>\n",
       "      <td>0</td>\n",
       "      <td>0</td>\n",
       "    </tr>\n",
       "    <tr>\n",
       "      <th>3</th>\n",
       "      <td>3</td>\n",
       "      <td>0</td>\n",
       "      <td>9.0</td>\n",
       "      <td>2015</td>\n",
       "      <td>27</td>\n",
       "      <td>1</td>\n",
       "      <td>0</td>\n",
       "      <td>2</td>\n",
       "      <td>2.0</td>\n",
       "      <td>0.0</td>\n",
       "      <td>...</td>\n",
       "      <td>0</td>\n",
       "      <td>0</td>\n",
       "      <td>0</td>\n",
       "      <td>0</td>\n",
       "      <td>0</td>\n",
       "      <td>0</td>\n",
       "      <td>0</td>\n",
       "      <td>0</td>\n",
       "      <td>0</td>\n",
       "      <td>0</td>\n",
       "    </tr>\n",
       "    <tr>\n",
       "      <th>4</th>\n",
       "      <td>4</td>\n",
       "      <td>1</td>\n",
       "      <td>85.0</td>\n",
       "      <td>2015</td>\n",
       "      <td>27</td>\n",
       "      <td>1</td>\n",
       "      <td>0</td>\n",
       "      <td>3</td>\n",
       "      <td>2.0</td>\n",
       "      <td>0.0</td>\n",
       "      <td>...</td>\n",
       "      <td>0</td>\n",
       "      <td>0</td>\n",
       "      <td>0</td>\n",
       "      <td>0</td>\n",
       "      <td>0</td>\n",
       "      <td>0</td>\n",
       "      <td>0</td>\n",
       "      <td>0</td>\n",
       "      <td>0</td>\n",
       "      <td>0</td>\n",
       "    </tr>\n",
       "  </tbody>\n",
       "</table>\n",
       "<p>5 rows × 223 columns</p>\n",
       "</div>"
      ],
      "text/plain": [
       "   id  is_canceled  lead_time  arrival_date_year  arrival_date_week_number  \\\n",
       "0   0            0        7.0               2015                        27   \n",
       "1   1            0       14.0               2015                        27   \n",
       "2   2            0        0.0               2015                        27   \n",
       "3   3            0        9.0               2015                        27   \n",
       "4   4            1       85.0               2015                        27   \n",
       "\n",
       "   arrival_date_day_of_month  stays_in_weekend_nights  stays_in_week_nights  \\\n",
       "0                          1                        0                     1   \n",
       "1                          1                        0                     2   \n",
       "2                          1                        0                     2   \n",
       "3                          1                        0                     2   \n",
       "4                          1                        0                     3   \n",
       "\n",
       "   adults  children  ...  country_MYT  country_GTM  country_FRO  country_ATF  \\\n",
       "0     1.0       0.0  ...            0            0            0            0   \n",
       "1     2.0       0.0  ...            0            0            0            0   \n",
       "2     2.0       0.0  ...            0            0            0            0   \n",
       "3     2.0       0.0  ...            0            0            0            0   \n",
       "4     2.0       0.0  ...            0            0            0            0   \n",
       "\n",
       "   country_BHS  country_ASM  country_KIR  country_LAO  country_MRT  \\\n",
       "0            0            0            0            0            0   \n",
       "1            0            0            0            0            0   \n",
       "2            0            0            0            0            0   \n",
       "3            0            0            0            0            0   \n",
       "4            0            0            0            0            0   \n",
       "\n",
       "   country_SLE  \n",
       "0            0  \n",
       "1            0  \n",
       "2            0  \n",
       "3            0  \n",
       "4            0  \n",
       "\n",
       "[5 rows x 223 columns]"
      ]
     },
     "execution_count": 32,
     "metadata": {},
     "output_type": "execute_result"
    }
   ],
   "source": [
    "train_data.head()"
   ]
  },
  {
   "cell_type": "markdown",
   "metadata": {},
   "source": [
    "Теперь можно продолжать работу"
   ]
  },
  {
   "cell_type": "code",
   "execution_count": 33,
   "metadata": {},
   "outputs": [],
   "source": [
    "features_train = train_data.drop(['is_canceled',\n",
    "                                  'id',\n",
    "                                  'sum_cost_for_all_nights', \n",
    "                                  'sum_cost_for_night', 'night_cost', \n",
    "                                  'one_time_service'], axis=1)\n",
    "features_test = test_data.drop(['is_canceled', \n",
    "                                'id',\n",
    "                                'sum_cost_for_all_nights', \n",
    "                                'sum_cost_for_night', 'night_cost', \n",
    "                                'one_time_service'], axis=1)\n",
    "\n",
    "target_train = train_data['is_canceled']\n",
    "target_test = test_data['is_canceled']\n",
    "\n",
    "scaler = StandardScaler()\n",
    "scaler.fit(features_train) \n",
    "features_train = scaler.transform(features_train)\n",
    "scaler.fit(features_test) \n",
    "features_test = scaler.transform(features_test)"
   ]
  },
  {
   "cell_type": "code",
   "execution_count": 34,
   "metadata": {},
   "outputs": [
    {
     "name": "stdout",
     "output_type": "stream",
     "text": [
      "(65227, 217) (32412, 217)\n"
     ]
    }
   ],
   "source": [
    "print(features_train.shape, features_test.shape)"
   ]
  },
  {
   "cell_type": "markdown",
   "metadata": {},
   "source": [
    "Выделил в выборках целевой признак, а так же параметры"
   ]
  },
  {
   "cell_type": "markdown",
   "metadata": {},
   "source": [
    "<div class=\"alert alert-success\">\n",
    "<h2>Комментарий ревьюера<a class=\"tocSkip\"></a></h2>\n",
    "    \n",
    "**Отлично!** ✔️: окей, хорошо, что не забываешь про масштабирование, это может улучшить качество логистической регрессии</div>"
   ]
  },
  {
   "cell_type": "markdown",
   "metadata": {},
   "source": [
    "<div class=\"alert alert-warning\">\n",
    "<h2>Комментарий ревьюера v2<a class=\"tocSkip\"></a></h2>\n",
    "    \n",
    "**Есть совет** ⚠️: правильнее обучать StandardScaler только на обучающей выборке, а трансформировать уже обе. Если распределения признаков в тестовой выборке будет отличаться от распределений в обучающей(а это происходит почти всегда), то метрики на тестовой выборке могут оказаться заниженными, поскольку признаки в двух выборках масштабируются по-разному и модель просто не сможет найти тех значений в тестовой выборке, которые были в обучающей выборке</div>"
   ]
  },
  {
   "cell_type": "markdown",
   "metadata": {},
   "source": [
    "#### Перейдем к подбору модели"
   ]
  },
  {
   "cell_type": "markdown",
   "metadata": {},
   "source": [
    "Ключевая метрика в данной задаче - `Recall`. Наиболее важны для нас положительные ответы, т.к. они напрямую влияют на сумму убытков"
   ]
  },
  {
   "cell_type": "markdown",
   "metadata": {},
   "source": [
    "<div class=\"alert alert-danger\">\n",
    "<h2>Комментарий ревьюера<a class=\"tocSkip\"></a></h2>\n",
    "\n",
    "**Нужно доработать** ❌: перед обучением модели обязательно нужно выбрать основную метрику для оценки моделей и аргументировать свой выбор, исходя из бизнес-задачи, это очень важная часть проекта</div>"
   ]
  },
  {
   "cell_type": "markdown",
   "metadata": {},
   "source": [
    "<div class=\"alert alert-info\">\n",
    "    <b>Комментарий студента:</b> Сделано\n",
    "</div>"
   ]
  },
  {
   "cell_type": "markdown",
   "metadata": {},
   "source": [
    "<div class=\"alert alert-success\">\n",
    "<h2>Комментарий ревьюера v2<a class=\"tocSkip\"></a></h2>\n",
    "    \n",
    "**Отлично!** ✔️: окей, принимается :)</div>"
   ]
  },
  {
   "cell_type": "code",
   "execution_count": 35,
   "metadata": {},
   "outputs": [],
   "source": [
    "rfc = RandomForestClassifier(random_state=123141)"
   ]
  },
  {
   "cell_type": "markdown",
   "metadata": {},
   "source": [
    "<div class=\"alert alert-danger\">\n",
    "<h2>Комментарий ревьюера<a class=\"tocSkip\"></a></h2>\n",
    "\n",
    "**Нужно доработать** ❌: не забывай указывать значение random_state при инициализации моделей, чтобы значения были воспроизводимы</div>"
   ]
  },
  {
   "cell_type": "markdown",
   "metadata": {},
   "source": [
    "<div class=\"alert alert-info\">\n",
    "    <b>Комментарий студента:</b> Сделано\n",
    "</div>"
   ]
  },
  {
   "cell_type": "markdown",
   "metadata": {},
   "source": [
    "<div class=\"alert alert-success\">\n",
    "<h2>Комментарий ревьюера v2<a class=\"tocSkip\"></a></h2>\n",
    "    \n",
    "**Отлично!** ✔️: 👍</div>"
   ]
  },
  {
   "cell_type": "code",
   "execution_count": 36,
   "metadata": {},
   "outputs": [],
   "source": [
    "parameters = {\n",
    "    \"n_estimators\":[5,10,50],\n",
    "    \"max_depth\":[2,4,8,16,None],\n",
    "}"
   ]
  },
  {
   "cell_type": "code",
   "execution_count": 37,
   "metadata": {},
   "outputs": [
    {
     "data": {
      "text/plain": [
       "GridSearchCV(cv=5, estimator=RandomForestClassifier(random_state=123141),\n",
       "             param_grid={'max_depth': [2, 4, 8, 16, None],\n",
       "                         'n_estimators': [5, 10, 50]},\n",
       "             scoring='recall')"
      ]
     },
     "execution_count": 37,
     "metadata": {},
     "output_type": "execute_result"
    }
   ],
   "source": [
    "cv = GridSearchCV(rfc,parameters, scoring='recall',cv=5)\n",
    "cv.fit(features_train, target_train)"
   ]
  },
  {
   "cell_type": "markdown",
   "metadata": {},
   "source": [
    "<div class=\"alert alert-success\">\n",
    "<h2>Комментарий ревьюера<a class=\"tocSkip\"></a></h2>\n",
    "    \n",
    "**Отлично!** ✔️: круто, что используешь GridSearch!</div>"
   ]
  },
  {
   "cell_type": "markdown",
   "metadata": {},
   "source": [
    "<div class=\"alert alert-danger\">\n",
    "<h2>Комментарий ревьюера<a class=\"tocSkip\"></a></h2>\n",
    "\n",
    "**Нужно доработать** ❌: но GridSearchCV по стандарту для выбора лучшей модели использует в качестве метрики ту, которая используется для метода score в самой модели. В случае RandomForestClassifier — это accuracy_score. Нужную метрику можно указать с помощью параметра scoring, подробнее про это можно почитать в <a href=\"https://scikit-learn.org/stable/modules/generated/sklearn.model_selection.GridSearchCV.html\" target=\"blank_\">документации</a>. А значение метрики нужно получать с помощью свойства best_score_, так как это результат кросс-валидации(среднее между метриками)</div>"
   ]
  },
  {
   "cell_type": "markdown",
   "metadata": {},
   "source": [
    "<div class=\"alert alert-info\">\n",
    "    <b>Комментарий студента:</b> Сделано\n",
    "</div>"
   ]
  },
  {
   "cell_type": "markdown",
   "metadata": {},
   "source": [
    "<div class=\"alert alert-success\">\n",
    "<h2>Комментарий ревьюера v2<a class=\"tocSkip\"></a></h2>\n",
    "    \n",
    "**Отлично!** ✔️: 👍</div>"
   ]
  },
  {
   "cell_type": "code",
   "execution_count": 38,
   "metadata": {},
   "outputs": [],
   "source": [
    "def display_cv(results):\n",
    "    print(f'Best parameters are: {results.best_params_}', f'Best score is: {results.best_score_}')\n",
    "    print(\"\\n\")\n",
    "    mean_score = results.cv_results_['mean_test_score']\n",
    "    params = results.cv_results_['params']\n",
    "    for mean, params in zip(mean_score, params):\n",
    "        print(f'{round(mean,4)} for the {params}')"
   ]
  },
  {
   "cell_type": "code",
   "execution_count": 39,
   "metadata": {},
   "outputs": [
    {
     "name": "stdout",
     "output_type": "stream",
     "text": [
      "Best parameters are: {'max_depth': 16, 'n_estimators': 5} Best score is: 0.4664753829221347\n",
      "\n",
      "\n",
      "0.2183 for the {'max_depth': 2, 'n_estimators': 5}\n",
      "0.0534 for the {'max_depth': 2, 'n_estimators': 10}\n",
      "0.0043 for the {'max_depth': 2, 'n_estimators': 50}\n",
      "0.3947 for the {'max_depth': 4, 'n_estimators': 5}\n",
      "0.2977 for the {'max_depth': 4, 'n_estimators': 10}\n",
      "0.1224 for the {'max_depth': 4, 'n_estimators': 50}\n",
      "0.4402 for the {'max_depth': 8, 'n_estimators': 5}\n",
      "0.4439 for the {'max_depth': 8, 'n_estimators': 10}\n",
      "0.429 for the {'max_depth': 8, 'n_estimators': 50}\n",
      "0.4665 for the {'max_depth': 16, 'n_estimators': 5}\n",
      "0.4578 for the {'max_depth': 16, 'n_estimators': 10}\n",
      "0.4463 for the {'max_depth': 16, 'n_estimators': 50}\n",
      "0.4191 for the {'max_depth': None, 'n_estimators': 5}\n",
      "0.3705 for the {'max_depth': None, 'n_estimators': 10}\n",
      "0.3957 for the {'max_depth': None, 'n_estimators': 50}\n"
     ]
    }
   ],
   "source": [
    "display_cv(cv)"
   ]
  },
  {
   "cell_type": "markdown",
   "metadata": {},
   "source": [
    "Модель показала не лучший результат. Поищем более перспективную"
   ]
  },
  {
   "cell_type": "code",
   "execution_count": 40,
   "metadata": {},
   "outputs": [],
   "source": [
    "# features_train, features_valid, target_train, target_valid = train_test_split(\n",
    "#     features_train, target_train, test_size=.25, random_state=134)"
   ]
  },
  {
   "cell_type": "markdown",
   "metadata": {},
   "source": [
    "Делю тестовую выборку именно здесь, потому что в одном из прошлых проектов мне написали, что урезать тренировочную выборку на `GridSearchCV` будет лишним"
   ]
  },
  {
   "cell_type": "markdown",
   "metadata": {},
   "source": [
    "<div class=\"alert alert-danger\">\n",
    "<h2>Комментарий ревьюера<a class=\"tocSkip\"></a></h2>\n",
    "\n",
    "**Нужно доработать** ❌: в этом проекте не нужно разбивать выборки на подвыборки: обучающая и тестовая выборки у тебя уже есть, а валидационная выборка нам не нужна, потому что метрики нужно рассчитывать на кросс-валидации</div>"
   ]
  },
  {
   "cell_type": "markdown",
   "metadata": {},
   "source": [
    "<div class=\"alert alert-info\">\n",
    "    <b>Комментарий студента:</b> Сделано\n",
    "</div>"
   ]
  },
  {
   "cell_type": "markdown",
   "metadata": {},
   "source": [
    "<div class=\"alert alert-success\">\n",
    "<h2>Комментарий ревьюера v2<a class=\"tocSkip\"></a></h2>\n",
    "    \n",
    "**Отлично!** ✔️: 👍</div>"
   ]
  },
  {
   "cell_type": "code",
   "execution_count": 41,
   "metadata": {},
   "outputs": [
    {
     "name": "stdout",
     "output_type": "stream",
     "text": [
      "0.306403602646037 0.34255930266401274 2\n",
      "0.527321830358981 0.577747026233469 4\n",
      "0.49001334332569024 0.4818851871293287 8\n",
      "0.438565532804029 0.4217699894668544 16\n",
      "0.42017909431463263 0.39693476528536575 32\n",
      "0.4398935596007071 0.41705183588927486 64\n",
      "0.4398935596007071 0.41705183588927486 128\n"
     ]
    }
   ],
   "source": [
    "for depth in [2,4,8,16,32,64,128]:\n",
    "    dt = DecisionTreeClassifier(max_depth = depth, random_state=23321)\n",
    "    dt.fit(features_train, target_train)\n",
    "    predicted_tree = dt.predict(features_train)\n",
    "    print(\n",
    "        cross_val_score(dt, features_train, target_train, scoring='recall', cv=5).mean(),\n",
    "        cross_val_score(dt, features_train, target_train, scoring='f1', cv=5).mean(),\n",
    "        depth)"
   ]
  },
  {
   "cell_type": "markdown",
   "metadata": {},
   "source": [
    "<div class=\"alert alert-danger\">\n",
    "<h2>Комментарий ревьюера v2<a class=\"tocSkip\"></a></h2>\n",
    "\n",
    "**Нужно доработать** ❌: если ты хочешь рассчитать дополнительные метрики, то для этого также нужно использовать кросс-валидацию, а не обучающую выборку</div>"
   ]
  },
  {
   "cell_type": "markdown",
   "metadata": {},
   "source": [
    "<div class=\"alert alert-info\">\n",
    "    <b>Комментарий студента:</b> Исправил\n",
    "</div>"
   ]
  },
  {
   "cell_type": "markdown",
   "metadata": {},
   "source": [
    "<div class=\"alert alert-success\">\n",
    "<h2>Комментарий ревьюера v3<a class=\"tocSkip\"></a></h2>\n",
    "    \n",
    "**Отлично!** ✔️: 👍</div>"
   ]
  },
  {
   "cell_type": "markdown",
   "metadata": {},
   "source": [
    "Эта модель уже сильно лучше, особенно радует значение `f1` метрики. Сохраним ее"
   ]
  },
  {
   "cell_type": "code",
   "execution_count": 42,
   "metadata": {
    "scrolled": true
   },
   "outputs": [
    {
     "data": {
      "text/plain": [
       "DecisionTreeClassifier(max_depth=4, random_state=23321)"
      ]
     },
     "execution_count": 42,
     "metadata": {},
     "output_type": "execute_result"
    }
   ],
   "source": [
    "dt = DecisionTreeClassifier(max_depth=4, random_state=23321)\n",
    "dt.fit(features_train, target_train)"
   ]
  },
  {
   "cell_type": "markdown",
   "metadata": {},
   "source": [
    "Теперь к логистической регрессии"
   ]
  },
  {
   "cell_type": "markdown",
   "metadata": {},
   "source": [
    "<div class=\"alert alert-warning\">\n",
    "<h2>Комментарий ревьюера v2<a class=\"tocSkip\"></a></h2>\n",
    "    \n",
    "**Есть совет** ⚠️: выше ты уже масштабируешь данные, повторно это делать не нужно</div>"
   ]
  },
  {
   "cell_type": "markdown",
   "metadata": {},
   "source": [
    "<div class=\"alert alert-success\">\n",
    "<h2>Комментарий ревьюера v3<a class=\"tocSkip\"></a></h2>\n",
    "    \n",
    "**Отлично!** ✔️: 👍</div>"
   ]
  },
  {
   "cell_type": "code",
   "execution_count": 43,
   "metadata": {},
   "outputs": [
    {
     "name": "stdout",
     "output_type": "stream",
     "text": [
      "0.4744140389155248 0.48034615852703844\n"
     ]
    }
   ],
   "source": [
    "lrcv = LogisticRegression(solver='liblinear', random_state=14151)\n",
    "lrcv.fit(features_train, target_train)\n",
    "predicted_log = lrcv.predict(features_train)\n",
    "print(\n",
    "    cross_val_score(lrcv, features_train, target_train, scoring='recall', cv=5).mean(),\n",
    "    cross_val_score(lrcv, features_train, target_train, scoring='f1', cv=5).mean())"
   ]
  },
  {
   "cell_type": "markdown",
   "metadata": {},
   "source": [
    "Лучше, чем первая, но `recall` не так хороша как у `Случайного дерева`"
   ]
  },
  {
   "cell_type": "markdown",
   "metadata": {},
   "source": [
    "- Проверим метрики на тестовой выборке"
   ]
  },
  {
   "cell_type": "code",
   "execution_count": 44,
   "metadata": {},
   "outputs": [
    {
     "name": "stdout",
     "output_type": "stream",
     "text": [
      "0.4523866253673259 0.49655653386801496\n"
     ]
    }
   ],
   "source": [
    "dt = DecisionTreeClassifier(max_depth=64, random_state=23321)\n",
    "dt.fit(features_train, target_train)\n",
    "predicted = dt.predict(features_test)\n",
    "print(recall_score(target_test, predicted),\n",
    "     f1_score(target_test, predicted))"
   ]
  },
  {
   "cell_type": "markdown",
   "metadata": {},
   "source": [
    "<div class=\"alert alert-danger\">\n",
    "<h2>Комментарий ревьюера<a class=\"tocSkip\"></a></h2>\n",
    "\n",
    "**Нужно доработать** ❌: при проверке лучшей модели на тестовой выборке кросс-валидация нам уже не пригодится, тут достаточно просто посчитать метрику на предсказаниях модели на тестовой выборке, как ты это делаешь для F1</div>"
   ]
  },
  {
   "cell_type": "markdown",
   "metadata": {},
   "source": [
    "<div class=\"alert alert-info\">\n",
    "    <b>Комментарий студента:</b> Сделано\n",
    "</div>"
   ]
  },
  {
   "cell_type": "markdown",
   "metadata": {},
   "source": [
    "<div class=\"alert alert-success\">\n",
    "<h2>Комментарий ревьюера v2<a class=\"tocSkip\"></a></h2>\n",
    "    \n",
    "**Отлично!** ✔️: 👍</div>"
   ]
  },
  {
   "cell_type": "code",
   "execution_count": 45,
   "metadata": {},
   "outputs": [],
   "source": [
    "predicted_data = test_data.copy()\n",
    "predicted_data['is_canceled'] = predicted"
   ]
  },
  {
   "cell_type": "code",
   "execution_count": 46,
   "metadata": {},
   "outputs": [
    {
     "name": "stdout",
     "output_type": "stream",
     "text": [
      "(1.2036421536191355, 6235256.0)\n"
     ]
    }
   ],
   "source": [
    "print(profit_metric(test_data, predicted_data, 400_000))"
   ]
  },
  {
   "cell_type": "markdown",
   "metadata": {},
   "source": [
    "Общие метрики на тестовой выборке очевидно ниже, однако целевая метрика показала хорошие результаты. \n",
    "\n",
    "Прибыль окзалась на `20%` больше прежней. При этом чистое увеличение прибыли с учетом затрат на разработку и внедрение: почти  `6 млн.р.`"
   ]
  },
  {
   "cell_type": "markdown",
   "metadata": {},
   "source": [
    "### Шаг 5. Опишите портрет «ненадёжного» клиента"
   ]
  },
  {
   "cell_type": "code",
   "execution_count": 47,
   "metadata": {},
   "outputs": [],
   "source": [
    "columns = train_data.drop(['is_canceled',\n",
    "                           'id',\n",
    "                           'sum_cost_for_all_nights', \n",
    "                           'sum_cost_for_night', \n",
    "                           'night_cost', \n",
    "                           'one_time_service'], axis=1).columns"
   ]
  },
  {
   "cell_type": "code",
   "execution_count": 48,
   "metadata": {},
   "outputs": [],
   "source": [
    "client = pd.Series(dt.feature_importances_, index=columns).sort_values(ascending=False)"
   ]
  },
  {
   "cell_type": "markdown",
   "metadata": {},
   "source": [
    "<div class=\"alert alert-danger\">\n",
    "<h2>Комментарий ревьюера v2<a class=\"tocSkip\"></a></h2>\n",
    "\n",
    "**Нужно доработать** ❌: из-за опечатки тут код падает с ошибкой, перед следующей отправкой убедись, что проект полностью запускается в окружении Практикума</div>"
   ]
  },
  {
   "cell_type": "markdown",
   "metadata": {},
   "source": [
    "<div class=\"alert alert-info\">\n",
    "    <b>Комментарий студента:</b> Сделано\n",
    "</div>"
   ]
  },
  {
   "cell_type": "markdown",
   "metadata": {},
   "source": [
    "<div class=\"alert alert-success\">\n",
    "<h2>Комментарий ревьюера v3<a class=\"tocSkip\"></a></h2>\n",
    "    \n",
    "**Отлично!** ✔️: теперь все гуд :)</div>"
   ]
  },
  {
   "cell_type": "markdown",
   "metadata": {},
   "source": [
    "Создал датасет с данными о весах критериев"
   ]
  },
  {
   "cell_type": "code",
   "execution_count": 49,
   "metadata": {},
   "outputs": [
    {
     "data": {
      "text/plain": [
       "count    217.000000\n",
       "mean       0.004608\n",
       "std        0.020838\n",
       "min        0.000000\n",
       "25%        0.000000\n",
       "50%        0.000102\n",
       "75%        0.001276\n",
       "max        0.237565\n",
       "dtype: float64"
      ]
     },
     "execution_count": 49,
     "metadata": {},
     "output_type": "execute_result"
    }
   ],
   "source": [
    "client.describe()"
   ]
  },
  {
   "cell_type": "markdown",
   "metadata": {},
   "source": [
    "Определил значения, относительно которых можно определить самые явные критерии"
   ]
  },
  {
   "cell_type": "code",
   "execution_count": 50,
   "metadata": {},
   "outputs": [
    {
     "data": {
      "text/plain": [
       "<AxesSubplot:>"
      ]
     },
     "execution_count": 50,
     "metadata": {},
     "output_type": "execute_result"
    },
    {
     "data": {
      "image/png": "[encoded data removed]",
      "text/plain": [
       "<Figure size 432x288 with 1 Axes>"
      ]
     },
     "metadata": {
      "needs_background": "light"
     },
     "output_type": "display_data"
    }
   ],
   "source": [
    "client.iloc[:10].plot(kind='bar')"
   ]
  },
  {
   "cell_type": "markdown",
   "metadata": {},
   "source": [
    "Построил график с `топ 10` критериев. Самым важной в классификации оказалось время между датой бронирования и датой заезда"
   ]
  },
  {
   "cell_type": "code",
   "execution_count": 51,
   "metadata": {},
   "outputs": [
    {
     "data": {
      "text/html": [
       "<div>\n",
       "<style scoped>\n",
       "    .dataframe tbody tr th:only-of-type {\n",
       "        vertical-align: middle;\n",
       "    }\n",
       "\n",
       "    .dataframe tbody tr th {\n",
       "        vertical-align: top;\n",
       "    }\n",
       "\n",
       "    .dataframe thead th {\n",
       "        text-align: right;\n",
       "    }\n",
       "</style>\n",
       "<table border=\"1\" class=\"dataframe\">\n",
       "  <thead>\n",
       "    <tr style=\"text-align: right;\">\n",
       "      <th></th>\n",
       "      <th>lead_time</th>\n",
       "      <th>country_PRT</th>\n",
       "      <th>arrival_date_day_of_month</th>\n",
       "      <th>arrival_date_week_number</th>\n",
       "      <th>total_of_special_requests</th>\n",
       "      <th>customer_type_Transient</th>\n",
       "      <th>previous_cancellations</th>\n",
       "      <th>total_nights</th>\n",
       "      <th>required_car_parking_spaces</th>\n",
       "      <th>stays_in_week_nights</th>\n",
       "      <th>arrival_date_year</th>\n",
       "      <th>booking_changes</th>\n",
       "      <th>stays_in_weekend_nights</th>\n",
       "      <th>adults</th>\n",
       "      <th>meal_SC</th>\n",
       "    </tr>\n",
       "  </thead>\n",
       "  <tbody>\n",
       "    <tr>\n",
       "      <th>4</th>\n",
       "      <td>85.0</td>\n",
       "      <td>1</td>\n",
       "      <td>1</td>\n",
       "      <td>27</td>\n",
       "      <td>1</td>\n",
       "      <td>1</td>\n",
       "      <td>0</td>\n",
       "      <td>3</td>\n",
       "      <td>0</td>\n",
       "      <td>3</td>\n",
       "      <td>2015</td>\n",
       "      <td>0</td>\n",
       "      <td>0</td>\n",
       "      <td>2.0</td>\n",
       "      <td>0</td>\n",
       "    </tr>\n",
       "    <tr>\n",
       "      <th>5</th>\n",
       "      <td>75.0</td>\n",
       "      <td>1</td>\n",
       "      <td>1</td>\n",
       "      <td>27</td>\n",
       "      <td>0</td>\n",
       "      <td>1</td>\n",
       "      <td>0</td>\n",
       "      <td>3</td>\n",
       "      <td>0</td>\n",
       "      <td>3</td>\n",
       "      <td>2015</td>\n",
       "      <td>0</td>\n",
       "      <td>0</td>\n",
       "      <td>2.0</td>\n",
       "      <td>0</td>\n",
       "    </tr>\n",
       "    <tr>\n",
       "      <th>6</th>\n",
       "      <td>23.0</td>\n",
       "      <td>1</td>\n",
       "      <td>1</td>\n",
       "      <td>27</td>\n",
       "      <td>0</td>\n",
       "      <td>1</td>\n",
       "      <td>0</td>\n",
       "      <td>4</td>\n",
       "      <td>0</td>\n",
       "      <td>4</td>\n",
       "      <td>2015</td>\n",
       "      <td>0</td>\n",
       "      <td>0</td>\n",
       "      <td>2.0</td>\n",
       "      <td>0</td>\n",
       "    </tr>\n",
       "    <tr>\n",
       "      <th>18</th>\n",
       "      <td>40.0</td>\n",
       "      <td>1</td>\n",
       "      <td>2</td>\n",
       "      <td>27</td>\n",
       "      <td>1</td>\n",
       "      <td>1</td>\n",
       "      <td>0</td>\n",
       "      <td>4</td>\n",
       "      <td>0</td>\n",
       "      <td>3</td>\n",
       "      <td>2015</td>\n",
       "      <td>0</td>\n",
       "      <td>1</td>\n",
       "      <td>3.0</td>\n",
       "      <td>0</td>\n",
       "    </tr>\n",
       "    <tr>\n",
       "      <th>22</th>\n",
       "      <td>45.0</td>\n",
       "      <td>1</td>\n",
       "      <td>2</td>\n",
       "      <td>27</td>\n",
       "      <td>0</td>\n",
       "      <td>1</td>\n",
       "      <td>0</td>\n",
       "      <td>5</td>\n",
       "      <td>0</td>\n",
       "      <td>3</td>\n",
       "      <td>2015</td>\n",
       "      <td>0</td>\n",
       "      <td>2</td>\n",
       "      <td>2.0</td>\n",
       "      <td>0</td>\n",
       "    </tr>\n",
       "  </tbody>\n",
       "</table>\n",
       "</div>"
      ],
      "text/plain": [
       "    lead_time  country_PRT  arrival_date_day_of_month  \\\n",
       "4        85.0            1                          1   \n",
       "5        75.0            1                          1   \n",
       "6        23.0            1                          1   \n",
       "18       40.0            1                          2   \n",
       "22       45.0            1                          2   \n",
       "\n",
       "    arrival_date_week_number  total_of_special_requests  \\\n",
       "4                         27                          1   \n",
       "5                         27                          0   \n",
       "6                         27                          0   \n",
       "18                        27                          1   \n",
       "22                        27                          0   \n",
       "\n",
       "    customer_type_Transient  previous_cancellations  total_nights  \\\n",
       "4                         1                       0             3   \n",
       "5                         1                       0             3   \n",
       "6                         1                       0             4   \n",
       "18                        1                       0             4   \n",
       "22                        1                       0             5   \n",
       "\n",
       "    required_car_parking_spaces  stays_in_week_nights  arrival_date_year  \\\n",
       "4                             0                     3               2015   \n",
       "5                             0                     3               2015   \n",
       "6                             0                     4               2015   \n",
       "18                            0                     3               2015   \n",
       "22                            0                     3               2015   \n",
       "\n",
       "    booking_changes  stays_in_weekend_nights  adults  meal_SC         \n",
       "4                 0                        0     2.0               0  \n",
       "5                 0                        0     2.0               0  \n",
       "6                 0                        0     2.0               0  \n",
       "18                0                        1     3.0               0  \n",
       "22                0                        2     2.0               0  "
      ]
     },
     "execution_count": 51,
     "metadata": {},
     "output_type": "execute_result"
    }
   ],
   "source": [
    "canceled_data = train_data[train_data['is_canceled'] == 1]\n",
    "canceled_data_main_features = canceled_data[client.iloc[:15].index]\n",
    "\n",
    "canceled_data_main_features.head()"
   ]
  },
  {
   "cell_type": "code",
   "execution_count": 52,
   "metadata": {},
   "outputs": [
    {
     "data": {
      "image/png": "[encoded data removed]",
      "text/plain": [
       "<Figure size 432x288 with 1 Axes>"
      ]
     },
     "metadata": {
      "needs_background": "light"
     },
     "output_type": "display_data"
    },
    {
     "data": {
      "image/png": "[encoded data removed]",
      "text/plain": [
       "<Figure size 432x288 with 1 Axes>"
      ]
     },
     "metadata": {
      "needs_background": "light"
     },
     "output_type": "display_data"
    },
    {
     "data": {
      "image/png": "[encoded data removed]",
      "text/plain": [
       "<Figure size 432x288 with 1 Axes>"
      ]
     },
     "metadata": {
      "needs_background": "light"
     },
     "output_type": "display_data"
    },
    {
     "data": {
      "image/png": "[encoded data removed]",
      "text/plain": [
       "<Figure size 432x288 with 1 Axes>"
      ]
     },
     "metadata": {
      "needs_background": "light"
     },
     "output_type": "display_data"
    },
    {
     "data": {
      "image/png": "[encoded data removed]",
      "text/plain": [
       "<Figure size 432x288 with 1 Axes>"
      ]
     },
     "metadata": {
      "needs_background": "light"
     },
     "output_type": "display_data"
    },
    {
     "data": {
      "image/png": "[encoded data removed]",
      "text/plain": [
       "<Figure size 432x288 with 1 Axes>"
      ]
     },
     "metadata": {
      "needs_background": "light"
     },
     "output_type": "display_data"
    },
    {
     "data": {
      "image/png": "[encoded data removed]",
      "text/plain": [
       "<Figure size 432x288 with 1 Axes>"
      ]
     },
     "metadata": {
      "needs_background": "light"
     },
     "output_type": "display_data"
    },
    {
     "data": {
      "image/png": "[encoded data removed]",
      "text/plain": [
       "<Figure size 432x288 with 1 Axes>"
      ]
     },
     "metadata": {
      "needs_background": "light"
     },
     "output_type": "display_data"
    },
    {
     "data": {
      "image/png": "[encoded data removed]",
      "text/plain": [
       "<Figure size 432x288 with 1 Axes>"
      ]
     },
     "metadata": {
      "needs_background": "light"
     },
     "output_type": "display_data"
    },
    {
     "data": {
      "image/png": "[encoded data removed]",
      "text/plain": [
       "<Figure size 432x288 with 1 Axes>"
      ]
     },
     "metadata": {
      "needs_background": "light"
     },
     "output_type": "display_data"
    },
    {
     "data": {
      "image/png": "[encoded data removed]",
      "text/plain": [
       "<Figure size 432x288 with 1 Axes>"
      ]
     },
     "metadata": {
      "needs_background": "light"
     },
     "output_type": "display_data"
    },
    {
     "data": {
      "image/png": "[encoded data removed]",
      "text/plain": [
       "<Figure size 432x288 with 1 Axes>"
      ]
     },
     "metadata": {
      "needs_background": "light"
     },
     "output_type": "display_data"
    },
    {
     "data": {
      "image/png": "[encoded data removed]",
      "text/plain": [
       "<Figure size 432x288 with 1 Axes>"
      ]
     },
     "metadata": {
      "needs_background": "light"
     },
     "output_type": "display_data"
    },
    {
     "data": {
      "image/png": "[encoded data removed]",
      "text/plain": [
       "<Figure size 432x288 with 1 Axes>"
      ]
     },
     "metadata": {
      "needs_background": "light"
     },
     "output_type": "display_data"
    },
    {
     "data": {
      "image/png": "[encoded data removed]",
      "text/plain": [
       "<Figure size 432x288 with 1 Axes>"
      ]
     },
     "metadata": {
      "needs_background": "light"
     },
     "output_type": "display_data"
    }
   ],
   "source": [
    "for column in canceled_data_main_features.columns:\n",
    "    \n",
    "    canceled_data_main_features[column].value_counts().sort_values(ascending=False).iloc[:10].plot(kind='bar', title=column)\n",
    "\n",
    "    plt.show()"
   ]
  },
  {
   "cell_type": "markdown",
   "metadata": {},
   "source": [
    "Наиболее явными признаками из выбранных оказались: Количество прошлых отмен, Тип клиента, Количество дней, Количество изменений параметров, Количество взрослых посетителей, Количество парковочных мест.\n",
    "\n",
    "Так же видна связь с данными дней месяца, и недель. Вероятнее всего дни месяца вошли в выборку по причине брони в праздники.\n",
    "\n",
    "Дальше я приведу несколько более конкретных исследований критериев которые меня заинтересовали"
   ]
  },
  {
   "cell_type": "code",
   "execution_count": 53,
   "metadata": {},
   "outputs": [
    {
     "data": {
      "text/plain": [
       "<AxesSubplot:ylabel='Frequency'>"
      ]
     },
     "execution_count": 53,
     "metadata": {},
     "output_type": "execute_result"
    },
    {
     "data": {
      "image/png": "[encoded data removed]",
      "text/plain": [
       "<Figure size 432x288 with 1 Axes>"
      ]
     },
     "metadata": {
      "needs_background": "light"
     },
     "output_type": "display_data"
    }
   ],
   "source": [
    "canceled_data_main_features['lead_time'].plot(kind='hist', bins=20)"
   ]
  },
  {
   "cell_type": "markdown",
   "metadata": {},
   "source": [
    "Чем меньше время между датой брони и датой заезда, тем больше вероятность того, что клиент отменит бронь"
   ]
  },
  {
   "cell_type": "code",
   "execution_count": 54,
   "metadata": {},
   "outputs": [
    {
     "data": {
      "text/plain": [
       "<AxesSubplot:ylabel='Frequency'>"
      ]
     },
     "execution_count": 54,
     "metadata": {},
     "output_type": "execute_result"
    },
    {
     "data": {
      "image/png": "[encoded data removed]",
      "text/plain": [
       "<Figure size 432x288 with 1 Axes>"
      ]
     },
     "metadata": {
      "needs_background": "light"
     },
     "output_type": "display_data"
    }
   ],
   "source": [
    "canceled_data_main_features['arrival_date_week_number'].plot(kind='hist', bins=20)"
   ]
  },
  {
   "cell_type": "markdown",
   "metadata": {},
   "source": [
    "Наиболее частыми значниями недели датасете: 40-45. Эти значения соответствуют концу лета и началу осени, если переводить в месяц"
   ]
  },
  {
   "cell_type": "code",
   "execution_count": 55,
   "metadata": {},
   "outputs": [
    {
     "data": {
      "text/plain": [
       "<AxesSubplot:ylabel='Frequency'>"
      ]
     },
     "execution_count": 55,
     "metadata": {},
     "output_type": "execute_result"
    },
    {
     "data": {
      "image/png": "[encoded data removed]",
      "text/plain": [
       "<Figure size 432x288 with 1 Axes>"
      ]
     },
     "metadata": {
      "needs_background": "light"
     },
     "output_type": "display_data"
    }
   ],
   "source": [
    "canceled_data_main_features['arrival_date_day_of_month'].plot(kind='hist', bins=20)"
   ]
  },
  {
   "cell_type": "markdown",
   "metadata": {},
   "source": [
    "Так же посмотрим на распределение дней. Как можно увидеть, разброс достаточно хаотичный, с уверенностью сказать по какому признаку модель дала большие веса этому критерию нельзя"
   ]
  },
  {
   "cell_type": "markdown",
   "metadata": {},
   "source": [
    "#### Итог"
   ]
  },
  {
   "cell_type": "markdown",
   "metadata": {},
   "source": [
    "`Портрет ненадежного клиента`\n",
    "\n",
    "- Между бронью и заездом мало времени\n",
    "- Вероятно уже были отмены брони\n",
    "- Заказывает бронь в 40-45 недели\n",
    "- Мало специальных отметок\n",
    "- Заезд не связан с договором или групповымзаездом\n",
    "- Бронирует на 1-5 ночей\n",
    "- Нет изменений в параметрах бронирования\n",
    "- Не требует парковочного места\n",
    "- Вероятнее всего около 2-х гостей\n"
   ]
  },
  {
   "cell_type": "markdown",
   "metadata": {},
   "source": [
    "<div class=\"alert alert-success\">\n",
    "<h2>Комментарий ревьюера<a class=\"tocSkip\"></a></h2>\n",
    "    \n",
    "**Отлично!** ✔️: классный получился портрет!</div>"
   ]
  },
  {
   "cell_type": "markdown",
   "metadata": {},
   "source": [
    "### Шаг 6. Напишите общий вывод"
   ]
  },
  {
   "cell_type": "markdown",
   "metadata": {},
   "source": [
    "На основе данных датасетов разработал модель ML, повышающую прибыль на `20%`. Чистую прибыль при этом, с учетом бюджета на внедрение, удалось поднять более чем на `7 млн.р.`\n",
    "\n",
    "Наилучшие результаты показала модель `DecisionTreeClassifier`, ее и использовал для последующего посчета. После проведенных исследований удалось составить список типов критериев \"ненадежного\" клиента. \n",
    "\n",
    "Итог: введение системы депозитирования на основе ML модели существенно повышает прибыль"
   ]
  },
  {
   "cell_type": "markdown",
   "metadata": {},
   "source": [
    "<div style=\"padding: 20px 25px; border: 2px #6495ed solid\">\n",
    "    \n",
    "<h2 style=\"color: #87187D\">Итоговый комментарий ревьюера<a class=\"tocSkip\"></a></h2>\n",
    "\n",
    "Видно, что ты приложил много усилий, спасибо за проект!\n",
    "\n",
    "Но тебе обязательно нужно обратить внимание на следующее:\n",
    "* доработай исследовательский анализ;\n",
    "* поправь расчет прибыли, а именно применение сезонного коэффициента;\n",
    "* выбери и аргументируй свой выбор метрики: вообще подходящих метрик тут может быть несколько, но по сути основная задача с точки зрения ML — это минимизировать количество ложноотрицательных ответов: то есть тех клиентов, которых модель посчитает неотменяющими, но они все равно не приедут. Но если разобраться, то и бизнес-метрика вполне может быть основной метрикой для оценки моделей, здорово, если у тебя получится это реализовать;\n",
    "* укажи выбранную тобой метрику при вызове GridSearchCV и cross_val_score;\n",
    "* считать метрики и выбирать модели нужно на основании метрик на кросс-валидации, выделять валидационную выборку не нужно\n",
    "\n",
    "Остальные комментарии можно найти в проекте. Готов ответить на любые вопросы :)\n",
    "\n",
    "<b>Жду доработанный проект на повторное ревью! Удачи!</b>\n",
    "        \n",
    "</div>"
   ]
  },
  {
   "cell_type": "markdown",
   "metadata": {},
   "source": [
    "<div style=\"padding: 20px 25px; border: 2px #6495ed solid\">\n",
    "    \n",
    "<h2 style=\"color: #87187D\">Итоговый комментарий ревьюера v2<a class=\"tocSkip\"></a></h2>\n",
    "\n",
    "Уже намного лучше, молодец!\n",
    "\n",
    "Но еще осталось поправить следующее:\n",
    "* перепроверь формулу для расчета прибыли;\n",
    "* при расчете дополнительных метрик на этапе обучения также нужно использовать кросс-валидацию, а не обучающую выборку;\n",
    "* убедись, что проект запускается без ошибок в окружении Практикума, без этого я не смогу его принять\n",
    "\n",
    "Не стесняйся задавать вопросы, если что-то непонятно\n",
    "\n",
    "<b>Жду доработанный проект на повторное ревью! Удачи!</b>\n",
    "        \n",
    "</div>"
   ]
  },
  {
   "cell_type": "markdown",
   "metadata": {},
   "source": [
    "<div style=\"padding: 20px 25px; border: 2px #6495ed solid\">\n",
    "    \n",
    "<h2 style=\"color: #87187D\">Итоговый комментарий ревьюера v3<a class=\"tocSkip\"></a></h2>\n",
    "\n",
    "Вот теперь другое дело :)\n",
    "\n",
    "Все критичные замечания исправлены, и я могу принять твою работу\n",
    "\n",
    "<b>Успехов в обучении!</b>\n",
    "        \n",
    "</div>"
   ]
  },
  {
   "cell_type": "code",
   "execution_count": null,
   "metadata": {},
   "outputs": [],
   "source": []
  }
 ],
 "metadata": {
  "ExecuteTimeLog": [
   {
    "duration": 67,
    "start_time": "2022-09-06T12:00:12.721Z"
   },
   {
    "duration": 1273,
    "start_time": "2022-09-06T12:00:15.677Z"
   },
   {
    "duration": 1095,
    "start_time": "2022-09-06T12:00:16.952Z"
   },
   {
    "duration": 44,
    "start_time": "2022-09-06T12:00:18.049Z"
   },
   {
    "duration": 42,
    "start_time": "2022-09-06T12:00:35.380Z"
   },
   {
    "duration": 34,
    "start_time": "2022-09-06T12:04:16.903Z"
   },
   {
    "duration": 4,
    "start_time": "2022-09-06T12:04:36.835Z"
   },
   {
    "duration": 252,
    "start_time": "2022-09-06T12:06:21.243Z"
   },
   {
    "duration": 44,
    "start_time": "2022-09-06T12:06:31.602Z"
   },
   {
    "duration": 1104,
    "start_time": "2022-09-06T12:06:37.794Z"
   },
   {
    "duration": 248,
    "start_time": "2022-09-06T12:06:38.900Z"
   },
   {
    "duration": 40,
    "start_time": "2022-09-06T12:06:39.149Z"
   },
   {
    "duration": 44,
    "start_time": "2022-09-06T12:06:39.190Z"
   },
   {
    "duration": 41,
    "start_time": "2022-09-06T12:06:39.237Z"
   },
   {
    "duration": 3,
    "start_time": "2022-09-06T12:06:39.280Z"
   },
   {
    "duration": 118,
    "start_time": "2022-09-06T12:18:42.601Z"
   },
   {
    "duration": 11,
    "start_time": "2022-09-06T12:19:16.351Z"
   },
   {
    "duration": 8,
    "start_time": "2022-09-06T12:19:31.192Z"
   },
   {
    "duration": 1061,
    "start_time": "2022-09-06T12:20:51.392Z"
   },
   {
    "duration": 229,
    "start_time": "2022-09-06T12:20:52.455Z"
   },
   {
    "duration": 65,
    "start_time": "2022-09-06T12:20:52.686Z"
   },
   {
    "duration": 40,
    "start_time": "2022-09-06T12:20:52.753Z"
   },
   {
    "duration": 16588,
    "start_time": "2022-09-06T12:20:52.795Z"
   },
   {
    "duration": 1752,
    "start_time": "2022-09-06T12:21:16.888Z"
   },
   {
    "duration": 1044,
    "start_time": "2022-09-06T12:24:18.743Z"
   },
   {
    "duration": 268,
    "start_time": "2022-09-06T12:24:19.789Z"
   },
   {
    "duration": 49,
    "start_time": "2022-09-06T12:24:20.059Z"
   },
   {
    "duration": 46,
    "start_time": "2022-09-06T12:24:20.111Z"
   },
   {
    "duration": 116,
    "start_time": "2022-09-06T12:24:20.160Z"
   },
   {
    "duration": 1420,
    "start_time": "2022-09-06T12:24:34.802Z"
   },
   {
    "duration": 1231,
    "start_time": "2022-09-06T12:24:55.229Z"
   },
   {
    "duration": 1202,
    "start_time": "2022-09-06T12:25:00.102Z"
   },
   {
    "duration": 20,
    "start_time": "2022-09-06T12:25:14.263Z"
   },
   {
    "duration": 363,
    "start_time": "2022-09-06T12:25:42.435Z"
   },
   {
    "duration": 14,
    "start_time": "2022-09-06T12:28:07.816Z"
   },
   {
    "duration": 13,
    "start_time": "2022-09-06T12:28:29.034Z"
   },
   {
    "duration": 396,
    "start_time": "2022-09-06T12:28:35.936Z"
   },
   {
    "duration": 255,
    "start_time": "2022-09-06T12:28:52.634Z"
   },
   {
    "duration": 13,
    "start_time": "2022-09-06T12:31:15.923Z"
   },
   {
    "duration": 167,
    "start_time": "2022-09-06T12:31:21.101Z"
   },
   {
    "duration": 188,
    "start_time": "2022-09-06T12:31:36.095Z"
   },
   {
    "duration": 146,
    "start_time": "2022-09-06T12:31:44.123Z"
   },
   {
    "duration": 163,
    "start_time": "2022-09-06T12:32:07.794Z"
   },
   {
    "duration": 6,
    "start_time": "2022-09-06T12:33:53.636Z"
   },
   {
    "duration": 10,
    "start_time": "2022-09-06T12:33:57.164Z"
   },
   {
    "duration": 1122,
    "start_time": "2022-09-06T12:35:43.828Z"
   },
   {
    "duration": 239,
    "start_time": "2022-09-06T12:35:44.952Z"
   },
   {
    "duration": 45,
    "start_time": "2022-09-06T12:35:45.193Z"
   },
   {
    "duration": 40,
    "start_time": "2022-09-06T12:35:45.239Z"
   },
   {
    "duration": 97,
    "start_time": "2022-09-06T12:40:43.193Z"
   },
   {
    "duration": 55,
    "start_time": "2022-09-06T12:41:04.847Z"
   },
   {
    "duration": 59,
    "start_time": "2022-09-06T12:41:16.437Z"
   },
   {
    "duration": 11,
    "start_time": "2022-09-06T13:32:32.658Z"
   },
   {
    "duration": 1217,
    "start_time": "2022-09-06T13:33:04.408Z"
   },
   {
    "duration": 1418,
    "start_time": "2022-09-06T13:33:27.467Z"
   },
   {
    "duration": 1539,
    "start_time": "2022-09-06T13:33:35.376Z"
   },
   {
    "duration": 18,
    "start_time": "2022-09-06T13:33:54.725Z"
   },
   {
    "duration": 9,
    "start_time": "2022-09-06T13:34:28.296Z"
   },
   {
    "duration": 16,
    "start_time": "2022-09-06T13:34:31.268Z"
   },
   {
    "duration": 18,
    "start_time": "2022-09-06T13:34:38.400Z"
   },
   {
    "duration": 16,
    "start_time": "2022-09-06T13:34:41.241Z"
   },
   {
    "duration": 15,
    "start_time": "2022-09-06T13:34:47.122Z"
   },
   {
    "duration": 15,
    "start_time": "2022-09-06T13:34:50.516Z"
   },
   {
    "duration": 16,
    "start_time": "2022-09-06T13:34:53.507Z"
   },
   {
    "duration": 9,
    "start_time": "2022-09-06T13:35:24.347Z"
   },
   {
    "duration": 15,
    "start_time": "2022-09-06T13:36:51.524Z"
   },
   {
    "duration": 27,
    "start_time": "2022-09-06T13:37:10.710Z"
   },
   {
    "duration": 11,
    "start_time": "2022-09-06T13:37:44.165Z"
   },
   {
    "duration": 10,
    "start_time": "2022-09-06T13:38:03.364Z"
   },
   {
    "duration": 4,
    "start_time": "2022-09-06T13:38:25.534Z"
   },
   {
    "duration": 4,
    "start_time": "2022-09-06T13:38:39.666Z"
   },
   {
    "duration": 15,
    "start_time": "2022-09-06T13:38:57.405Z"
   },
   {
    "duration": 10,
    "start_time": "2022-09-06T13:40:25.801Z"
   },
   {
    "duration": 9,
    "start_time": "2022-09-06T13:41:53.996Z"
   },
   {
    "duration": 3,
    "start_time": "2022-09-06T13:41:56.297Z"
   },
   {
    "duration": 337,
    "start_time": "2022-09-06T13:41:56.823Z"
   },
   {
    "duration": 2,
    "start_time": "2022-09-06T13:42:17.698Z"
   },
   {
    "duration": 33,
    "start_time": "2022-09-06T13:42:18.025Z"
   },
   {
    "duration": 27,
    "start_time": "2022-09-06T13:42:27.124Z"
   },
   {
    "duration": 3,
    "start_time": "2022-09-06T13:42:29.458Z"
   },
   {
    "duration": 14,
    "start_time": "2022-09-06T13:42:29.895Z"
   },
   {
    "duration": 11,
    "start_time": "2022-09-06T13:43:06.849Z"
   },
   {
    "duration": 17,
    "start_time": "2022-09-06T13:44:02.245Z"
   },
   {
    "duration": 17,
    "start_time": "2022-09-06T13:44:04.999Z"
   },
   {
    "duration": 11,
    "start_time": "2022-09-06T13:44:32.669Z"
   },
   {
    "duration": 9,
    "start_time": "2022-09-06T13:44:50.699Z"
   },
   {
    "duration": 49,
    "start_time": "2022-09-06T13:55:59.840Z"
   },
   {
    "duration": 47,
    "start_time": "2022-09-06T13:56:55.388Z"
   },
   {
    "duration": 121,
    "start_time": "2022-09-06T14:05:44.768Z"
   },
   {
    "duration": 116,
    "start_time": "2022-09-06T14:05:50.658Z"
   },
   {
    "duration": 20,
    "start_time": "2022-09-06T14:06:07.128Z"
   },
   {
    "duration": 1126,
    "start_time": "2022-09-13T07:05:52.557Z"
   },
   {
    "duration": 820,
    "start_time": "2022-09-13T07:05:53.685Z"
   },
   {
    "duration": 39,
    "start_time": "2022-09-13T07:05:54.507Z"
   },
   {
    "duration": 47,
    "start_time": "2022-09-13T07:05:54.549Z"
   },
   {
    "duration": 58,
    "start_time": "2022-09-13T07:05:54.597Z"
   },
   {
    "duration": 3,
    "start_time": "2022-09-13T07:05:54.657Z"
   },
   {
    "duration": 45,
    "start_time": "2022-09-13T07:05:54.662Z"
   },
   {
    "duration": 11,
    "start_time": "2022-09-13T07:05:54.709Z"
   },
   {
    "duration": 144,
    "start_time": "2022-09-13T07:05:54.722Z"
   },
   {
    "duration": 32,
    "start_time": "2022-09-13T07:05:54.868Z"
   },
   {
    "duration": 1064,
    "start_time": "2022-09-13T07:07:42.808Z"
   },
   {
    "duration": 217,
    "start_time": "2022-09-13T07:07:43.874Z"
   },
   {
    "duration": 40,
    "start_time": "2022-09-13T07:07:44.092Z"
   },
   {
    "duration": 43,
    "start_time": "2022-09-13T07:07:44.133Z"
   },
   {
    "duration": 70,
    "start_time": "2022-09-13T07:07:44.180Z"
   },
   {
    "duration": 3,
    "start_time": "2022-09-13T07:07:44.251Z"
   },
   {
    "duration": 63,
    "start_time": "2022-09-13T07:07:44.256Z"
   },
   {
    "duration": 13,
    "start_time": "2022-09-13T07:07:44.321Z"
   },
   {
    "duration": 152,
    "start_time": "2022-09-13T07:07:44.336Z"
   },
   {
    "duration": 24,
    "start_time": "2022-09-13T07:07:44.490Z"
   },
   {
    "duration": 1048,
    "start_time": "2022-09-13T07:09:42.817Z"
   },
   {
    "duration": 227,
    "start_time": "2022-09-13T07:09:43.867Z"
   },
   {
    "duration": 39,
    "start_time": "2022-09-13T07:09:44.096Z"
   },
   {
    "duration": 59,
    "start_time": "2022-09-13T07:09:44.137Z"
   },
   {
    "duration": 57,
    "start_time": "2022-09-13T07:09:44.198Z"
   },
   {
    "duration": 2,
    "start_time": "2022-09-13T07:09:44.257Z"
   },
   {
    "duration": 47,
    "start_time": "2022-09-13T07:09:44.261Z"
   },
   {
    "duration": 11,
    "start_time": "2022-09-13T07:09:44.310Z"
   },
   {
    "duration": 139,
    "start_time": "2022-09-13T07:09:44.323Z"
   },
   {
    "duration": 20,
    "start_time": "2022-09-13T07:09:44.463Z"
   },
   {
    "duration": 1120,
    "start_time": "2022-09-13T07:11:01.946Z"
   },
   {
    "duration": 234,
    "start_time": "2022-09-13T07:11:03.068Z"
   },
   {
    "duration": 1143,
    "start_time": "2022-09-13T07:11:50.774Z"
   },
   {
    "duration": 228,
    "start_time": "2022-09-13T07:11:51.920Z"
   },
   {
    "duration": 47,
    "start_time": "2022-09-13T07:11:52.150Z"
   },
   {
    "duration": 43,
    "start_time": "2022-09-13T07:11:52.199Z"
   },
   {
    "duration": 73,
    "start_time": "2022-09-13T07:11:52.244Z"
   },
   {
    "duration": 2,
    "start_time": "2022-09-13T07:11:52.319Z"
   },
   {
    "duration": 28,
    "start_time": "2022-09-13T07:11:52.323Z"
   },
   {
    "duration": 12,
    "start_time": "2022-09-13T07:11:52.353Z"
   },
   {
    "duration": 200,
    "start_time": "2022-09-13T07:11:52.366Z"
   },
   {
    "duration": 29,
    "start_time": "2022-09-13T07:11:52.568Z"
   },
   {
    "duration": 1053,
    "start_time": "2022-09-13T07:20:51.935Z"
   },
   {
    "duration": 232,
    "start_time": "2022-09-13T07:20:52.990Z"
   },
   {
    "duration": 41,
    "start_time": "2022-09-13T07:20:53.224Z"
   },
   {
    "duration": 51,
    "start_time": "2022-09-13T07:20:53.268Z"
   },
   {
    "duration": 56,
    "start_time": "2022-09-13T07:20:53.321Z"
   },
   {
    "duration": 17,
    "start_time": "2022-09-13T07:20:53.378Z"
   },
   {
    "duration": 34,
    "start_time": "2022-09-13T07:20:53.396Z"
   },
   {
    "duration": 14,
    "start_time": "2022-09-13T07:20:53.432Z"
   },
   {
    "duration": 179,
    "start_time": "2022-09-13T07:20:53.448Z"
   },
   {
    "duration": 24,
    "start_time": "2022-09-13T07:20:53.629Z"
   },
   {
    "duration": 90,
    "start_time": "2022-09-13T07:24:37.386Z"
   },
   {
    "duration": 3,
    "start_time": "2022-09-13T07:25:29.301Z"
   },
   {
    "duration": 3,
    "start_time": "2022-09-13T07:25:42.427Z"
   },
   {
    "duration": 3,
    "start_time": "2022-09-13T07:25:45.222Z"
   },
   {
    "duration": 7,
    "start_time": "2022-09-13T07:27:13.107Z"
   },
   {
    "duration": 8,
    "start_time": "2022-09-13T07:27:41.228Z"
   },
   {
    "duration": 23,
    "start_time": "2022-09-13T07:28:40.810Z"
   },
   {
    "duration": 1135,
    "start_time": "2022-09-13T07:30:17.768Z"
   },
   {
    "duration": 218,
    "start_time": "2022-09-13T07:30:18.906Z"
   },
   {
    "duration": 41,
    "start_time": "2022-09-13T07:30:19.126Z"
   },
   {
    "duration": 55,
    "start_time": "2022-09-13T07:30:19.169Z"
   },
   {
    "duration": 79,
    "start_time": "2022-09-13T07:30:19.226Z"
   },
   {
    "duration": 3,
    "start_time": "2022-09-13T07:30:19.307Z"
   },
   {
    "duration": 47,
    "start_time": "2022-09-13T07:30:19.311Z"
   },
   {
    "duration": 24,
    "start_time": "2022-09-13T07:30:19.360Z"
   },
   {
    "duration": 192,
    "start_time": "2022-09-13T07:30:19.385Z"
   },
   {
    "duration": 29,
    "start_time": "2022-09-13T07:30:19.579Z"
   },
   {
    "duration": 2,
    "start_time": "2022-09-13T07:30:19.610Z"
   },
   {
    "duration": 12,
    "start_time": "2022-09-13T07:30:19.614Z"
   },
   {
    "duration": 4,
    "start_time": "2022-09-13T07:40:03.738Z"
   },
   {
    "duration": 101,
    "start_time": "2022-09-13T07:40:05.828Z"
   },
   {
    "duration": 1096,
    "start_time": "2022-09-13T07:47:01.817Z"
   },
   {
    "duration": 221,
    "start_time": "2022-09-13T07:47:02.915Z"
   },
   {
    "duration": 41,
    "start_time": "2022-09-13T07:47:03.138Z"
   },
   {
    "duration": 55,
    "start_time": "2022-09-13T07:47:03.181Z"
   },
   {
    "duration": 65,
    "start_time": "2022-09-13T07:47:03.237Z"
   },
   {
    "duration": 3,
    "start_time": "2022-09-13T07:47:03.303Z"
   },
   {
    "duration": 49,
    "start_time": "2022-09-13T07:47:03.308Z"
   },
   {
    "duration": 12,
    "start_time": "2022-09-13T07:47:03.358Z"
   },
   {
    "duration": 195,
    "start_time": "2022-09-13T07:47:03.372Z"
   },
   {
    "duration": 27,
    "start_time": "2022-09-13T07:47:03.569Z"
   },
   {
    "duration": 3,
    "start_time": "2022-09-13T07:47:03.597Z"
   },
   {
    "duration": 1351,
    "start_time": "2022-09-13T07:47:03.602Z"
   },
   {
    "duration": 191,
    "start_time": "2022-09-13T07:47:32.471Z"
   },
   {
    "duration": 21,
    "start_time": "2022-09-13T07:47:34.063Z"
   },
   {
    "duration": 1019,
    "start_time": "2022-09-13T07:47:39.350Z"
   },
   {
    "duration": 215,
    "start_time": "2022-09-13T07:47:40.371Z"
   },
   {
    "duration": 42,
    "start_time": "2022-09-13T07:47:40.588Z"
   },
   {
    "duration": 43,
    "start_time": "2022-09-13T07:47:40.632Z"
   },
   {
    "duration": 74,
    "start_time": "2022-09-13T07:47:40.696Z"
   },
   {
    "duration": 3,
    "start_time": "2022-09-13T07:47:40.772Z"
   },
   {
    "duration": 84,
    "start_time": "2022-09-13T07:47:40.777Z"
   },
   {
    "duration": 18,
    "start_time": "2022-09-13T07:47:40.863Z"
   },
   {
    "duration": 190,
    "start_time": "2022-09-13T07:47:40.894Z"
   },
   {
    "duration": 29,
    "start_time": "2022-09-13T07:47:41.086Z"
   },
   {
    "duration": 3,
    "start_time": "2022-09-13T07:47:41.117Z"
   },
   {
    "duration": 1465,
    "start_time": "2022-09-13T07:47:41.121Z"
   },
   {
    "duration": 3,
    "start_time": "2022-09-13T07:48:48.955Z"
   },
   {
    "duration": 8,
    "start_time": "2022-09-13T07:48:50.784Z"
   },
   {
    "duration": 8,
    "start_time": "2022-09-13T07:53:12.640Z"
   },
   {
    "duration": 1128,
    "start_time": "2022-09-13T07:53:27.864Z"
   },
   {
    "duration": 243,
    "start_time": "2022-09-13T07:53:28.994Z"
   },
   {
    "duration": 46,
    "start_time": "2022-09-13T07:53:29.238Z"
   },
   {
    "duration": 50,
    "start_time": "2022-09-13T07:53:29.286Z"
   },
   {
    "duration": 78,
    "start_time": "2022-09-13T07:53:29.338Z"
   },
   {
    "duration": 3,
    "start_time": "2022-09-13T07:53:29.417Z"
   },
   {
    "duration": 45,
    "start_time": "2022-09-13T07:53:29.422Z"
   },
   {
    "duration": 12,
    "start_time": "2022-09-13T07:53:29.469Z"
   },
   {
    "duration": 189,
    "start_time": "2022-09-13T07:53:29.495Z"
   },
   {
    "duration": 31,
    "start_time": "2022-09-13T07:53:29.685Z"
   },
   {
    "duration": 3,
    "start_time": "2022-09-13T07:53:29.717Z"
   },
   {
    "duration": 10,
    "start_time": "2022-09-13T07:53:29.722Z"
   },
   {
    "duration": 1053,
    "start_time": "2022-09-13T09:14:17.632Z"
   },
   {
    "duration": 218,
    "start_time": "2022-09-13T09:14:18.687Z"
   },
   {
    "duration": 38,
    "start_time": "2022-09-13T09:14:18.907Z"
   },
   {
    "duration": 55,
    "start_time": "2022-09-13T09:14:18.947Z"
   },
   {
    "duration": 58,
    "start_time": "2022-09-13T09:14:19.004Z"
   },
   {
    "duration": 2,
    "start_time": "2022-09-13T09:14:19.064Z"
   },
   {
    "duration": 56,
    "start_time": "2022-09-13T09:14:19.068Z"
   },
   {
    "duration": 11,
    "start_time": "2022-09-13T09:14:19.126Z"
   },
   {
    "duration": 188,
    "start_time": "2022-09-13T09:14:19.138Z"
   },
   {
    "duration": 20,
    "start_time": "2022-09-13T09:14:19.328Z"
   },
   {
    "duration": 3,
    "start_time": "2022-09-13T09:14:19.350Z"
   },
   {
    "duration": 11,
    "start_time": "2022-09-13T09:14:19.354Z"
   },
   {
    "duration": 3,
    "start_time": "2022-09-13T09:14:19.367Z"
   },
   {
    "duration": 21,
    "start_time": "2022-09-13T09:27:45.047Z"
   },
   {
    "duration": 98,
    "start_time": "2022-09-13T09:27:52.051Z"
   },
   {
    "duration": 155,
    "start_time": "2022-09-13T09:28:13.016Z"
   },
   {
    "duration": 22,
    "start_time": "2022-09-13T09:28:14.385Z"
   },
   {
    "duration": 143,
    "start_time": "2022-09-13T09:28:21.000Z"
   },
   {
    "duration": 20,
    "start_time": "2022-09-13T09:28:21.619Z"
   },
   {
    "duration": 24,
    "start_time": "2022-09-13T09:29:06.158Z"
   },
   {
    "duration": 18,
    "start_time": "2022-09-13T09:29:07.078Z"
   },
   {
    "duration": 1075,
    "start_time": "2022-09-13T09:30:27.322Z"
   },
   {
    "duration": 220,
    "start_time": "2022-09-13T09:30:28.400Z"
   },
   {
    "duration": 40,
    "start_time": "2022-09-13T09:30:28.622Z"
   },
   {
    "duration": 54,
    "start_time": "2022-09-13T09:30:28.664Z"
   },
   {
    "duration": 56,
    "start_time": "2022-09-13T09:30:28.720Z"
   },
   {
    "duration": 2,
    "start_time": "2022-09-13T09:30:28.778Z"
   },
   {
    "duration": 43,
    "start_time": "2022-09-13T09:30:28.796Z"
   },
   {
    "duration": 12,
    "start_time": "2022-09-13T09:30:28.841Z"
   },
   {
    "duration": 203,
    "start_time": "2022-09-13T09:30:28.854Z"
   },
   {
    "duration": 21,
    "start_time": "2022-09-13T09:30:29.059Z"
   },
   {
    "duration": 13,
    "start_time": "2022-09-13T09:30:29.082Z"
   },
   {
    "duration": 26,
    "start_time": "2022-09-13T09:30:29.097Z"
   },
   {
    "duration": 14,
    "start_time": "2022-09-13T09:30:29.124Z"
   },
   {
    "duration": 122,
    "start_time": "2022-09-13T09:30:29.140Z"
   },
   {
    "duration": 18,
    "start_time": "2022-09-13T09:30:29.264Z"
   },
   {
    "duration": 75,
    "start_time": "2022-09-13T09:44:42.924Z"
   },
   {
    "duration": 46,
    "start_time": "2022-09-13T09:44:55.611Z"
   },
   {
    "duration": 1436,
    "start_time": "2022-09-13T09:49:01.255Z"
   },
   {
    "duration": 0,
    "start_time": "2022-09-13T09:49:02.694Z"
   },
   {
    "duration": 0,
    "start_time": "2022-09-13T09:49:02.695Z"
   },
   {
    "duration": 0,
    "start_time": "2022-09-13T09:49:02.696Z"
   },
   {
    "duration": 0,
    "start_time": "2022-09-13T09:49:02.697Z"
   },
   {
    "duration": 0,
    "start_time": "2022-09-13T09:49:02.698Z"
   },
   {
    "duration": 0,
    "start_time": "2022-09-13T09:49:02.699Z"
   },
   {
    "duration": 0,
    "start_time": "2022-09-13T09:49:02.700Z"
   },
   {
    "duration": 0,
    "start_time": "2022-09-13T09:49:02.701Z"
   },
   {
    "duration": 0,
    "start_time": "2022-09-13T09:49:02.702Z"
   },
   {
    "duration": 0,
    "start_time": "2022-09-13T09:49:02.703Z"
   },
   {
    "duration": 0,
    "start_time": "2022-09-13T09:49:02.704Z"
   },
   {
    "duration": 0,
    "start_time": "2022-09-13T09:49:02.705Z"
   },
   {
    "duration": 0,
    "start_time": "2022-09-13T09:49:02.707Z"
   },
   {
    "duration": 0,
    "start_time": "2022-09-13T09:49:02.708Z"
   },
   {
    "duration": 0,
    "start_time": "2022-09-13T09:49:02.709Z"
   },
   {
    "duration": 0,
    "start_time": "2022-09-13T09:49:02.710Z"
   },
   {
    "duration": 0,
    "start_time": "2022-09-13T09:49:02.711Z"
   },
   {
    "duration": 0,
    "start_time": "2022-09-13T09:49:02.712Z"
   },
   {
    "duration": 0,
    "start_time": "2022-09-13T09:49:02.713Z"
   },
   {
    "duration": 1224,
    "start_time": "2022-09-13T09:49:17.424Z"
   },
   {
    "duration": 255,
    "start_time": "2022-09-13T09:49:18.650Z"
   },
   {
    "duration": 42,
    "start_time": "2022-09-13T09:49:18.906Z"
   },
   {
    "duration": 58,
    "start_time": "2022-09-13T09:49:18.950Z"
   },
   {
    "duration": 61,
    "start_time": "2022-09-13T09:49:19.011Z"
   },
   {
    "duration": 3,
    "start_time": "2022-09-13T09:49:19.073Z"
   },
   {
    "duration": 56,
    "start_time": "2022-09-13T09:49:19.078Z"
   },
   {
    "duration": 12,
    "start_time": "2022-09-13T09:49:19.136Z"
   },
   {
    "duration": 198,
    "start_time": "2022-09-13T09:49:19.149Z"
   },
   {
    "duration": 25,
    "start_time": "2022-09-13T09:49:19.348Z"
   },
   {
    "duration": 14,
    "start_time": "2022-09-13T09:49:19.374Z"
   },
   {
    "duration": 23,
    "start_time": "2022-09-13T09:49:19.390Z"
   },
   {
    "duration": 28,
    "start_time": "2022-09-13T09:49:19.415Z"
   },
   {
    "duration": 136,
    "start_time": "2022-09-13T09:49:19.446Z"
   },
   {
    "duration": 22,
    "start_time": "2022-09-13T09:49:19.584Z"
   },
   {
    "duration": 15,
    "start_time": "2022-09-13T09:49:19.609Z"
   },
   {
    "duration": 16,
    "start_time": "2022-09-13T09:49:19.626Z"
   },
   {
    "duration": 115,
    "start_time": "2022-09-13T09:49:19.644Z"
   },
   {
    "duration": 0,
    "start_time": "2022-09-13T09:49:19.761Z"
   },
   {
    "duration": 0,
    "start_time": "2022-09-13T09:49:19.762Z"
   },
   {
    "duration": 44,
    "start_time": "2022-09-13T09:52:29.104Z"
   },
   {
    "duration": 3,
    "start_time": "2022-09-13T09:52:31.110Z"
   },
   {
    "duration": 3,
    "start_time": "2022-09-13T09:52:31.494Z"
   },
   {
    "duration": 0,
    "start_time": "2022-09-13T09:57:14.665Z"
   },
   {
    "duration": 0,
    "start_time": "2022-09-13T09:57:14.666Z"
   },
   {
    "duration": 0,
    "start_time": "2022-09-13T09:57:14.667Z"
   },
   {
    "duration": 0,
    "start_time": "2022-09-13T09:57:14.668Z"
   },
   {
    "duration": 2,
    "start_time": "2022-09-13T09:57:34.869Z"
   },
   {
    "duration": 147273,
    "start_time": "2022-09-13T09:57:35.639Z"
   },
   {
    "duration": 4,
    "start_time": "2022-09-13T10:00:02.915Z"
   },
   {
    "duration": 21,
    "start_time": "2022-09-13T10:00:02.921Z"
   },
   {
    "duration": 384,
    "start_time": "2022-09-13T10:05:24.484Z"
   },
   {
    "duration": 2,
    "start_time": "2022-09-13T10:05:26.085Z"
   },
   {
    "duration": 3,
    "start_time": "2022-09-13T10:05:26.616Z"
   },
   {
    "duration": 147073,
    "start_time": "2022-09-13T10:05:27.130Z"
   },
   {
    "duration": 4,
    "start_time": "2022-09-13T10:07:54.205Z"
   },
   {
    "duration": 9,
    "start_time": "2022-09-13T10:07:54.211Z"
   },
   {
    "duration": 3,
    "start_time": "2022-09-13T10:09:19.496Z"
   },
   {
    "duration": 11,
    "start_time": "2022-09-13T10:11:18.040Z"
   },
   {
    "duration": 217,
    "start_time": "2022-09-13T10:12:16.969Z"
   },
   {
    "duration": 208,
    "start_time": "2022-09-13T10:12:24.488Z"
   },
   {
    "duration": 2832,
    "start_time": "2022-09-13T10:12:33.388Z"
   },
   {
    "duration": 283,
    "start_time": "2022-09-13T10:12:49.734Z"
   },
   {
    "duration": 2968,
    "start_time": "2022-09-13T10:12:53.184Z"
   },
   {
    "duration": 9,
    "start_time": "2022-09-13T10:17:30.253Z"
   },
   {
    "duration": 44,
    "start_time": "2022-09-13T10:17:39.613Z"
   },
   {
    "duration": 2802,
    "start_time": "2022-09-13T10:17:48.824Z"
   },
   {
    "duration": 28,
    "start_time": "2022-09-13T10:18:24.788Z"
   },
   {
    "duration": 2013,
    "start_time": "2022-09-13T10:18:25.308Z"
   },
   {
    "duration": 2567,
    "start_time": "2022-09-13T10:19:09.532Z"
   },
   {
    "duration": 2130,
    "start_time": "2022-09-13T10:19:21.352Z"
   },
   {
    "duration": 22,
    "start_time": "2022-09-13T10:19:25.137Z"
   },
   {
    "duration": 1423,
    "start_time": "2022-09-13T10:19:25.572Z"
   },
   {
    "duration": 1351,
    "start_time": "2022-09-13T10:19:33.312Z"
   },
   {
    "duration": 3,
    "start_time": "2022-09-13T10:21:38.072Z"
   },
   {
    "duration": 4,
    "start_time": "2022-09-13T10:24:49.411Z"
   },
   {
    "duration": 264,
    "start_time": "2022-09-13T10:27:35.583Z"
   },
   {
    "duration": 246,
    "start_time": "2022-09-13T10:27:58.191Z"
   },
   {
    "duration": 26040,
    "start_time": "2022-09-13T10:28:33.380Z"
   },
   {
    "duration": 342,
    "start_time": "2022-09-13T10:29:20.079Z"
   },
   {
    "duration": 94,
    "start_time": "2022-09-13T10:29:28.745Z"
   },
   {
    "duration": 1431,
    "start_time": "2022-09-13T10:29:37.133Z"
   },
   {
    "duration": 19,
    "start_time": "2022-09-13T10:29:52.454Z"
   },
   {
    "duration": 977,
    "start_time": "2022-09-13T10:29:52.863Z"
   },
   {
    "duration": 365,
    "start_time": "2022-09-13T10:29:53.842Z"
   },
   {
    "duration": 1186,
    "start_time": "2022-09-13T12:12:46.989Z"
   },
   {
    "duration": 86,
    "start_time": "2022-09-13T12:14:36.279Z"
   },
   {
    "duration": 8,
    "start_time": "2022-09-13T12:14:36.687Z"
   },
   {
    "duration": 1038,
    "start_time": "2022-09-13T12:14:43.369Z"
   },
   {
    "duration": 740,
    "start_time": "2022-09-13T12:14:44.409Z"
   },
   {
    "duration": 39,
    "start_time": "2022-09-13T12:14:45.150Z"
   },
   {
    "duration": 36,
    "start_time": "2022-09-13T12:14:45.191Z"
   },
   {
    "duration": 63,
    "start_time": "2022-09-13T12:14:45.229Z"
   },
   {
    "duration": 3,
    "start_time": "2022-09-13T12:14:45.293Z"
   },
   {
    "duration": 38,
    "start_time": "2022-09-13T12:14:45.297Z"
   },
   {
    "duration": 10,
    "start_time": "2022-09-13T12:14:45.337Z"
   },
   {
    "duration": 171,
    "start_time": "2022-09-13T12:14:45.349Z"
   },
   {
    "duration": 20,
    "start_time": "2022-09-13T12:14:45.521Z"
   },
   {
    "duration": 5,
    "start_time": "2022-09-13T12:14:45.543Z"
   },
   {
    "duration": 9,
    "start_time": "2022-09-13T12:14:45.549Z"
   },
   {
    "duration": 17,
    "start_time": "2022-09-13T12:14:45.560Z"
   },
   {
    "duration": 99,
    "start_time": "2022-09-13T12:14:45.580Z"
   },
   {
    "duration": 16,
    "start_time": "2022-09-13T12:14:45.681Z"
   },
   {
    "duration": 654,
    "start_time": "2022-09-13T12:14:45.698Z"
   },
   {
    "duration": 2,
    "start_time": "2022-09-13T12:14:46.354Z"
   },
   {
    "duration": 7,
    "start_time": "2022-09-13T12:14:46.358Z"
   },
   {
    "duration": 1088,
    "start_time": "2022-09-13T12:16:00.173Z"
   },
   {
    "duration": 268,
    "start_time": "2022-09-13T12:16:01.263Z"
   },
   {
    "duration": 44,
    "start_time": "2022-09-13T12:16:01.533Z"
   },
   {
    "duration": 36,
    "start_time": "2022-09-13T12:16:01.579Z"
   },
   {
    "duration": 64,
    "start_time": "2022-09-13T12:16:01.617Z"
   },
   {
    "duration": 2,
    "start_time": "2022-09-13T12:16:01.683Z"
   },
   {
    "duration": 42,
    "start_time": "2022-09-13T12:16:01.686Z"
   },
   {
    "duration": 11,
    "start_time": "2022-09-13T12:16:01.729Z"
   },
   {
    "duration": 191,
    "start_time": "2022-09-13T12:16:01.742Z"
   },
   {
    "duration": 19,
    "start_time": "2022-09-13T12:16:01.935Z"
   },
   {
    "duration": 3,
    "start_time": "2022-09-13T12:16:01.955Z"
   },
   {
    "duration": 21,
    "start_time": "2022-09-13T12:16:01.959Z"
   },
   {
    "duration": 3,
    "start_time": "2022-09-13T12:16:01.981Z"
   },
   {
    "duration": 98,
    "start_time": "2022-09-13T12:16:01.986Z"
   },
   {
    "duration": 17,
    "start_time": "2022-09-13T12:16:02.085Z"
   },
   {
    "duration": 846,
    "start_time": "2022-09-13T12:16:02.104Z"
   },
   {
    "duration": 2,
    "start_time": "2022-09-13T12:16:02.952Z"
   },
   {
    "duration": 9,
    "start_time": "2022-09-13T12:16:02.955Z"
   },
   {
    "duration": 42,
    "start_time": "2022-09-13T12:16:02.965Z"
   },
   {
    "duration": 14872,
    "start_time": "2022-09-13T12:16:03.009Z"
   },
   {
    "duration": 853,
    "start_time": "2022-09-13T12:16:17.883Z"
   },
   {
    "duration": 2,
    "start_time": "2022-09-13T12:16:18.738Z"
   },
   {
    "duration": 14284,
    "start_time": "2022-09-13T12:16:47.396Z"
   },
   {
    "duration": 3290,
    "start_time": "2022-09-13T12:17:42.936Z"
   },
   {
    "duration": 1003,
    "start_time": "2022-09-13T12:21:31.035Z"
   },
   {
    "duration": 200,
    "start_time": "2022-09-13T12:21:32.040Z"
   },
   {
    "duration": 37,
    "start_time": "2022-09-13T12:21:32.241Z"
   },
   {
    "duration": 37,
    "start_time": "2022-09-13T12:21:32.280Z"
   },
   {
    "duration": 66,
    "start_time": "2022-09-13T12:21:32.318Z"
   },
   {
    "duration": 3,
    "start_time": "2022-09-13T12:21:32.385Z"
   },
   {
    "duration": 39,
    "start_time": "2022-09-13T12:21:32.389Z"
   },
   {
    "duration": 10,
    "start_time": "2022-09-13T12:21:32.429Z"
   },
   {
    "duration": 173,
    "start_time": "2022-09-13T12:21:32.441Z"
   },
   {
    "duration": 19,
    "start_time": "2022-09-13T12:21:32.616Z"
   },
   {
    "duration": 2,
    "start_time": "2022-09-13T12:21:32.637Z"
   },
   {
    "duration": 12,
    "start_time": "2022-09-13T12:21:32.641Z"
   },
   {
    "duration": 6,
    "start_time": "2022-09-13T12:21:32.655Z"
   },
   {
    "duration": 159,
    "start_time": "2022-09-13T12:21:32.662Z"
   },
   {
    "duration": 16,
    "start_time": "2022-09-13T12:21:32.823Z"
   },
   {
    "duration": 149,
    "start_time": "2022-09-13T12:21:32.841Z"
   },
   {
    "duration": 0,
    "start_time": "2022-09-13T12:21:32.991Z"
   },
   {
    "duration": 0,
    "start_time": "2022-09-13T12:21:32.992Z"
   },
   {
    "duration": 0,
    "start_time": "2022-09-13T12:21:32.993Z"
   },
   {
    "duration": 0,
    "start_time": "2022-09-13T12:21:32.994Z"
   },
   {
    "duration": 0,
    "start_time": "2022-09-13T12:21:32.995Z"
   },
   {
    "duration": 0,
    "start_time": "2022-09-13T12:21:32.996Z"
   },
   {
    "duration": 593,
    "start_time": "2022-09-13T12:22:05.701Z"
   },
   {
    "duration": 967,
    "start_time": "2022-09-13T12:22:36.441Z"
   },
   {
    "duration": 1072,
    "start_time": "2022-09-13T12:22:42.080Z"
   },
   {
    "duration": 197,
    "start_time": "2022-09-13T12:22:43.154Z"
   },
   {
    "duration": 36,
    "start_time": "2022-09-13T12:22:43.352Z"
   },
   {
    "duration": 36,
    "start_time": "2022-09-13T12:22:43.390Z"
   },
   {
    "duration": 67,
    "start_time": "2022-09-13T12:22:43.428Z"
   },
   {
    "duration": 2,
    "start_time": "2022-09-13T12:22:43.497Z"
   },
   {
    "duration": 38,
    "start_time": "2022-09-13T12:22:43.500Z"
   },
   {
    "duration": 11,
    "start_time": "2022-09-13T12:22:43.539Z"
   },
   {
    "duration": 173,
    "start_time": "2022-09-13T12:22:43.552Z"
   },
   {
    "duration": 18,
    "start_time": "2022-09-13T12:22:43.728Z"
   },
   {
    "duration": 3,
    "start_time": "2022-09-13T12:22:43.747Z"
   },
   {
    "duration": 11,
    "start_time": "2022-09-13T12:22:43.751Z"
   },
   {
    "duration": 15,
    "start_time": "2022-09-13T12:22:43.763Z"
   },
   {
    "duration": 142,
    "start_time": "2022-09-13T12:22:43.779Z"
   },
   {
    "duration": 16,
    "start_time": "2022-09-13T12:22:43.923Z"
   },
   {
    "duration": 695,
    "start_time": "2022-09-13T12:22:43.940Z"
   },
   {
    "duration": 4,
    "start_time": "2022-09-13T12:22:44.636Z"
   },
   {
    "duration": 5,
    "start_time": "2022-09-13T12:22:44.642Z"
   },
   {
    "duration": 369,
    "start_time": "2022-09-13T12:22:44.649Z"
   },
   {
    "duration": 20489,
    "start_time": "2022-09-13T12:22:45.020Z"
   },
   {
    "duration": 18764,
    "start_time": "2022-09-13T12:23:05.511Z"
   },
   {
    "duration": 283,
    "start_time": "2022-09-13T12:23:24.277Z"
   },
   {
    "duration": 668,
    "start_time": "2022-09-13T12:23:51.328Z"
   },
   {
    "duration": 1097,
    "start_time": "2022-09-13T12:23:56.797Z"
   },
   {
    "duration": 246,
    "start_time": "2022-09-13T12:23:57.899Z"
   },
   {
    "duration": 51,
    "start_time": "2022-09-13T12:23:58.146Z"
   },
   {
    "duration": 42,
    "start_time": "2022-09-13T12:23:58.199Z"
   },
   {
    "duration": 73,
    "start_time": "2022-09-13T12:23:58.242Z"
   },
   {
    "duration": 3,
    "start_time": "2022-09-13T12:23:58.316Z"
   },
   {
    "duration": 43,
    "start_time": "2022-09-13T12:23:58.320Z"
   },
   {
    "duration": 16,
    "start_time": "2022-09-13T12:23:58.365Z"
   },
   {
    "duration": 177,
    "start_time": "2022-09-13T12:23:58.383Z"
   },
   {
    "duration": 26,
    "start_time": "2022-09-13T12:23:58.563Z"
   },
   {
    "duration": 14,
    "start_time": "2022-09-13T12:23:58.590Z"
   },
   {
    "duration": 13,
    "start_time": "2022-09-13T12:23:58.606Z"
   },
   {
    "duration": 5,
    "start_time": "2022-09-13T12:23:58.621Z"
   },
   {
    "duration": 144,
    "start_time": "2022-09-13T12:23:58.627Z"
   },
   {
    "duration": 23,
    "start_time": "2022-09-13T12:23:58.772Z"
   },
   {
    "duration": 547,
    "start_time": "2022-09-13T12:23:58.797Z"
   },
   {
    "duration": 2,
    "start_time": "2022-09-13T12:23:59.346Z"
   },
   {
    "duration": 10,
    "start_time": "2022-09-13T12:23:59.350Z"
   },
   {
    "duration": 48,
    "start_time": "2022-09-13T12:23:59.362Z"
   },
   {
    "duration": 14040,
    "start_time": "2022-09-13T12:23:59.412Z"
   },
   {
    "duration": 2904,
    "start_time": "2022-09-13T12:24:13.454Z"
   },
   {
    "duration": 455,
    "start_time": "2022-09-13T12:24:16.360Z"
   },
   {
    "duration": 1054,
    "start_time": "2022-09-13T12:24:41.484Z"
   },
   {
    "duration": 207,
    "start_time": "2022-09-13T12:24:42.540Z"
   },
   {
    "duration": 40,
    "start_time": "2022-09-13T12:24:42.749Z"
   },
   {
    "duration": 40,
    "start_time": "2022-09-13T12:24:42.791Z"
   },
   {
    "duration": 67,
    "start_time": "2022-09-13T12:24:42.833Z"
   },
   {
    "duration": 3,
    "start_time": "2022-09-13T12:24:42.902Z"
   },
   {
    "duration": 40,
    "start_time": "2022-09-13T12:24:42.906Z"
   },
   {
    "duration": 11,
    "start_time": "2022-09-13T12:24:42.948Z"
   },
   {
    "duration": 171,
    "start_time": "2022-09-13T12:24:42.961Z"
   },
   {
    "duration": 18,
    "start_time": "2022-09-13T12:24:43.134Z"
   },
   {
    "duration": 3,
    "start_time": "2022-09-13T12:24:43.154Z"
   },
   {
    "duration": 22,
    "start_time": "2022-09-13T12:24:43.158Z"
   },
   {
    "duration": 8,
    "start_time": "2022-09-13T12:24:43.182Z"
   },
   {
    "duration": 143,
    "start_time": "2022-09-13T12:24:43.193Z"
   },
   {
    "duration": 16,
    "start_time": "2022-09-13T12:24:43.337Z"
   },
   {
    "duration": 716,
    "start_time": "2022-09-13T12:24:43.355Z"
   },
   {
    "duration": 4,
    "start_time": "2022-09-13T12:24:44.073Z"
   },
   {
    "duration": 13,
    "start_time": "2022-09-13T12:24:44.079Z"
   },
   {
    "duration": 308,
    "start_time": "2022-09-13T12:24:44.094Z"
   },
   {
    "duration": 20606,
    "start_time": "2022-09-13T12:24:44.404Z"
   },
   {
    "duration": 18574,
    "start_time": "2022-09-13T12:25:05.012Z"
   },
   {
    "duration": 0,
    "start_time": "2022-09-13T12:25:23.901Z"
   },
   {
    "duration": 802,
    "start_time": "2022-09-13T12:28:49.837Z"
   },
   {
    "duration": 3,
    "start_time": "2022-09-13T12:32:08.328Z"
   },
   {
    "duration": 9,
    "start_time": "2022-09-13T12:32:21.256Z"
   },
   {
    "duration": 3,
    "start_time": "2022-09-13T12:32:29.628Z"
   },
   {
    "duration": 3,
    "start_time": "2022-09-13T12:32:39.902Z"
   },
   {
    "duration": 3,
    "start_time": "2022-09-13T12:39:20.065Z"
   },
   {
    "duration": 9,
    "start_time": "2022-09-13T13:30:21.764Z"
   },
   {
    "duration": 1020,
    "start_time": "2022-09-13T13:30:30.818Z"
   },
   {
    "duration": 218,
    "start_time": "2022-09-13T13:30:31.840Z"
   },
   {
    "duration": 35,
    "start_time": "2022-09-13T13:30:32.059Z"
   },
   {
    "duration": 37,
    "start_time": "2022-09-13T13:30:32.096Z"
   },
   {
    "duration": 61,
    "start_time": "2022-09-13T13:30:32.135Z"
   },
   {
    "duration": 2,
    "start_time": "2022-09-13T13:30:32.198Z"
   },
   {
    "duration": 41,
    "start_time": "2022-09-13T13:30:32.201Z"
   },
   {
    "duration": 10,
    "start_time": "2022-09-13T13:30:32.243Z"
   },
   {
    "duration": 171,
    "start_time": "2022-09-13T13:30:32.254Z"
   },
   {
    "duration": 20,
    "start_time": "2022-09-13T13:30:32.428Z"
   },
   {
    "duration": 3,
    "start_time": "2022-09-13T13:30:32.449Z"
   },
   {
    "duration": 9,
    "start_time": "2022-09-13T13:30:32.453Z"
   },
   {
    "duration": 3,
    "start_time": "2022-09-13T13:30:32.477Z"
   },
   {
    "duration": 287,
    "start_time": "2022-09-13T13:30:32.481Z"
   },
   {
    "duration": 3,
    "start_time": "2022-09-13T13:30:32.770Z"
   },
   {
    "duration": 106,
    "start_time": "2022-09-13T13:30:32.777Z"
   },
   {
    "duration": 0,
    "start_time": "2022-09-13T13:30:32.884Z"
   },
   {
    "duration": 0,
    "start_time": "2022-09-13T13:30:32.885Z"
   },
   {
    "duration": 0,
    "start_time": "2022-09-13T13:30:32.887Z"
   },
   {
    "duration": 0,
    "start_time": "2022-09-13T13:30:32.888Z"
   },
   {
    "duration": 0,
    "start_time": "2022-09-13T13:30:32.889Z"
   },
   {
    "duration": 0,
    "start_time": "2022-09-13T13:30:32.890Z"
   },
   {
    "duration": 0,
    "start_time": "2022-09-13T13:30:32.891Z"
   },
   {
    "duration": 0,
    "start_time": "2022-09-13T13:30:32.892Z"
   },
   {
    "duration": 1105,
    "start_time": "2022-09-13T14:43:22.246Z"
   },
   {
    "duration": 397,
    "start_time": "2022-09-13T14:43:23.353Z"
   },
   {
    "duration": 38,
    "start_time": "2022-09-13T14:43:23.751Z"
   },
   {
    "duration": 42,
    "start_time": "2022-09-13T14:43:23.791Z"
   },
   {
    "duration": 59,
    "start_time": "2022-09-13T14:43:23.835Z"
   },
   {
    "duration": 14,
    "start_time": "2022-09-13T14:43:23.896Z"
   },
   {
    "duration": 40,
    "start_time": "2022-09-13T14:43:23.911Z"
   },
   {
    "duration": 11,
    "start_time": "2022-09-13T14:43:23.953Z"
   },
   {
    "duration": 194,
    "start_time": "2022-09-13T14:43:23.965Z"
   },
   {
    "duration": 25,
    "start_time": "2022-09-13T14:43:24.161Z"
   },
   {
    "duration": 3,
    "start_time": "2022-09-13T14:43:24.188Z"
   },
   {
    "duration": 25,
    "start_time": "2022-09-13T14:43:24.193Z"
   },
   {
    "duration": 10,
    "start_time": "2022-09-13T14:43:24.220Z"
   },
   {
    "duration": 420,
    "start_time": "2022-09-13T14:43:24.232Z"
   },
   {
    "duration": 3,
    "start_time": "2022-09-13T14:43:24.654Z"
   },
   {
    "duration": 120,
    "start_time": "2022-09-13T14:43:24.658Z"
   },
   {
    "duration": 0,
    "start_time": "2022-09-13T14:43:24.780Z"
   },
   {
    "duration": 0,
    "start_time": "2022-09-13T14:43:24.781Z"
   },
   {
    "duration": 0,
    "start_time": "2022-09-13T14:43:24.782Z"
   },
   {
    "duration": 0,
    "start_time": "2022-09-13T14:43:24.782Z"
   },
   {
    "duration": 0,
    "start_time": "2022-09-13T14:43:24.784Z"
   },
   {
    "duration": 0,
    "start_time": "2022-09-13T14:43:24.785Z"
   },
   {
    "duration": 0,
    "start_time": "2022-09-13T14:43:24.785Z"
   },
   {
    "duration": 0,
    "start_time": "2022-09-13T14:43:24.786Z"
   },
   {
    "duration": 181,
    "start_time": "2022-09-13T14:44:46.652Z"
   },
   {
    "duration": 1138,
    "start_time": "2022-09-13T14:45:00.604Z"
   },
   {
    "duration": 207,
    "start_time": "2022-09-13T14:45:01.743Z"
   },
   {
    "duration": 38,
    "start_time": "2022-09-13T14:45:01.952Z"
   },
   {
    "duration": 47,
    "start_time": "2022-09-13T14:45:01.991Z"
   },
   {
    "duration": 87,
    "start_time": "2022-09-13T14:45:02.040Z"
   },
   {
    "duration": 2,
    "start_time": "2022-09-13T14:45:02.129Z"
   },
   {
    "duration": 51,
    "start_time": "2022-09-13T14:45:02.133Z"
   },
   {
    "duration": 11,
    "start_time": "2022-09-13T14:45:02.185Z"
   },
   {
    "duration": 169,
    "start_time": "2022-09-13T14:45:02.198Z"
   },
   {
    "duration": 25,
    "start_time": "2022-09-13T14:45:02.369Z"
   },
   {
    "duration": 58,
    "start_time": "2022-09-13T14:45:02.396Z"
   },
   {
    "duration": 22,
    "start_time": "2022-09-13T14:45:02.455Z"
   },
   {
    "duration": 3,
    "start_time": "2022-09-13T14:45:02.478Z"
   },
   {
    "duration": 147,
    "start_time": "2022-09-13T14:45:02.484Z"
   },
   {
    "duration": 0,
    "start_time": "2022-09-13T14:45:02.633Z"
   },
   {
    "duration": 0,
    "start_time": "2022-09-13T14:45:02.635Z"
   },
   {
    "duration": 0,
    "start_time": "2022-09-13T14:45:02.638Z"
   },
   {
    "duration": 0,
    "start_time": "2022-09-13T14:45:02.639Z"
   },
   {
    "duration": 0,
    "start_time": "2022-09-13T14:45:02.640Z"
   },
   {
    "duration": 0,
    "start_time": "2022-09-13T14:45:02.642Z"
   },
   {
    "duration": 0,
    "start_time": "2022-09-13T14:45:02.644Z"
   },
   {
    "duration": 0,
    "start_time": "2022-09-13T14:45:02.646Z"
   },
   {
    "duration": 0,
    "start_time": "2022-09-13T14:45:02.647Z"
   },
   {
    "duration": 0,
    "start_time": "2022-09-13T14:45:02.648Z"
   },
   {
    "duration": 295,
    "start_time": "2022-09-13T14:45:43.597Z"
   },
   {
    "duration": 1095,
    "start_time": "2022-09-13T14:45:49.400Z"
   },
   {
    "duration": 204,
    "start_time": "2022-09-13T14:45:50.496Z"
   },
   {
    "duration": 37,
    "start_time": "2022-09-13T14:45:50.702Z"
   },
   {
    "duration": 38,
    "start_time": "2022-09-13T14:45:50.741Z"
   },
   {
    "duration": 72,
    "start_time": "2022-09-13T14:45:50.780Z"
   },
   {
    "duration": 2,
    "start_time": "2022-09-13T14:45:50.854Z"
   },
   {
    "duration": 68,
    "start_time": "2022-09-13T14:45:50.858Z"
   },
   {
    "duration": 10,
    "start_time": "2022-09-13T14:45:50.928Z"
   },
   {
    "duration": 175,
    "start_time": "2022-09-13T14:45:50.940Z"
   },
   {
    "duration": 19,
    "start_time": "2022-09-13T14:45:51.118Z"
   },
   {
    "duration": 3,
    "start_time": "2022-09-13T14:45:51.138Z"
   },
   {
    "duration": 14,
    "start_time": "2022-09-13T14:45:51.142Z"
   },
   {
    "duration": 3,
    "start_time": "2022-09-13T14:45:51.157Z"
   },
   {
    "duration": 295,
    "start_time": "2022-09-13T14:45:51.161Z"
   },
   {
    "duration": 3,
    "start_time": "2022-09-13T14:45:51.458Z"
   },
   {
    "duration": 29,
    "start_time": "2022-09-13T14:45:51.463Z"
   },
   {
    "duration": 66,
    "start_time": "2022-09-13T14:45:51.493Z"
   },
   {
    "duration": 3,
    "start_time": "2022-09-13T14:45:51.561Z"
   },
   {
    "duration": 12,
    "start_time": "2022-09-13T14:45:51.565Z"
   },
   {
    "duration": 9,
    "start_time": "2022-09-13T14:45:51.579Z"
   },
   {
    "duration": 15,
    "start_time": "2022-09-13T14:45:51.589Z"
   },
   {
    "duration": 6327,
    "start_time": "2022-09-13T14:45:51.605Z"
   },
   {
    "duration": 2018,
    "start_time": "2022-09-13T14:45:57.934Z"
   },
   {
    "duration": 503,
    "start_time": "2022-09-13T14:45:59.953Z"
   },
   {
    "duration": 519,
    "start_time": "2022-09-13T14:48:02.746Z"
   },
   {
    "duration": 2072,
    "start_time": "2022-09-13T14:49:01.146Z"
   },
   {
    "duration": 539,
    "start_time": "2022-09-13T14:49:22.494Z"
   },
   {
    "duration": 28,
    "start_time": "2022-09-13T14:51:31.108Z"
   },
   {
    "duration": 1093,
    "start_time": "2022-09-13T14:51:35.293Z"
   },
   {
    "duration": 201,
    "start_time": "2022-09-13T14:51:36.388Z"
   },
   {
    "duration": 39,
    "start_time": "2022-09-13T14:51:36.590Z"
   },
   {
    "duration": 36,
    "start_time": "2022-09-13T14:51:36.631Z"
   },
   {
    "duration": 64,
    "start_time": "2022-09-13T14:51:36.669Z"
   },
   {
    "duration": 3,
    "start_time": "2022-09-13T14:51:36.735Z"
   },
   {
    "duration": 43,
    "start_time": "2022-09-13T14:51:36.740Z"
   },
   {
    "duration": 25,
    "start_time": "2022-09-13T14:51:36.784Z"
   },
   {
    "duration": 195,
    "start_time": "2022-09-13T14:51:36.810Z"
   },
   {
    "duration": 18,
    "start_time": "2022-09-13T14:51:37.008Z"
   },
   {
    "duration": 3,
    "start_time": "2022-09-13T14:51:37.028Z"
   },
   {
    "duration": 9,
    "start_time": "2022-09-13T14:51:37.032Z"
   },
   {
    "duration": 4,
    "start_time": "2022-09-13T14:51:37.043Z"
   },
   {
    "duration": 167,
    "start_time": "2022-09-13T14:51:37.049Z"
   },
   {
    "duration": 3,
    "start_time": "2022-09-13T14:51:37.218Z"
   },
   {
    "duration": 32,
    "start_time": "2022-09-13T14:51:37.223Z"
   },
   {
    "duration": 468,
    "start_time": "2022-09-13T14:51:37.256Z"
   },
   {
    "duration": 2,
    "start_time": "2022-09-13T14:51:37.726Z"
   },
   {
    "duration": 21,
    "start_time": "2022-09-13T14:51:37.729Z"
   },
   {
    "duration": 9,
    "start_time": "2022-09-13T14:51:37.752Z"
   },
   {
    "duration": 187,
    "start_time": "2022-09-13T14:51:37.762Z"
   },
   {
    "duration": 20964,
    "start_time": "2022-09-13T14:51:37.950Z"
   },
   {
    "duration": 20300,
    "start_time": "2022-09-13T14:51:58.919Z"
   },
   {
    "duration": 853,
    "start_time": "2022-09-13T14:52:19.221Z"
   },
   {
    "duration": 3,
    "start_time": "2022-09-13T14:53:53.341Z"
   },
   {
    "duration": 2,
    "start_time": "2022-09-13T14:56:21.315Z"
   },
   {
    "duration": 5,
    "start_time": "2022-09-13T14:56:27.479Z"
   },
   {
    "duration": 21,
    "start_time": "2022-09-13T14:59:13.062Z"
   },
   {
    "duration": 12,
    "start_time": "2022-09-13T15:00:10.301Z"
   },
   {
    "duration": 1072,
    "start_time": "2022-09-13T15:00:26.344Z"
   },
   {
    "duration": 210,
    "start_time": "2022-09-13T15:00:27.419Z"
   },
   {
    "duration": 37,
    "start_time": "2022-09-13T15:00:27.630Z"
   },
   {
    "duration": 47,
    "start_time": "2022-09-13T15:00:27.669Z"
   },
   {
    "duration": 56,
    "start_time": "2022-09-13T15:00:27.719Z"
   },
   {
    "duration": 32,
    "start_time": "2022-09-13T15:00:27.777Z"
   },
   {
    "duration": 21,
    "start_time": "2022-09-13T15:00:27.811Z"
   },
   {
    "duration": 48,
    "start_time": "2022-09-13T15:00:27.833Z"
   },
   {
    "duration": 11,
    "start_time": "2022-09-13T15:00:27.883Z"
   },
   {
    "duration": 190,
    "start_time": "2022-09-13T15:00:27.896Z"
   },
   {
    "duration": 22,
    "start_time": "2022-09-13T15:00:28.087Z"
   },
   {
    "duration": 19,
    "start_time": "2022-09-13T15:00:28.111Z"
   },
   {
    "duration": 23,
    "start_time": "2022-09-13T15:00:28.132Z"
   },
   {
    "duration": 8,
    "start_time": "2022-09-13T15:00:28.158Z"
   },
   {
    "duration": 89,
    "start_time": "2022-09-13T15:00:28.167Z"
   },
   {
    "duration": 4,
    "start_time": "2022-09-13T15:00:28.257Z"
   },
   {
    "duration": 24,
    "start_time": "2022-09-13T15:00:28.263Z"
   },
   {
    "duration": 36,
    "start_time": "2022-09-13T15:00:28.288Z"
   },
   {
    "duration": 130,
    "start_time": "2022-09-13T15:00:28.326Z"
   },
   {
    "duration": 4,
    "start_time": "2022-09-13T15:00:28.457Z"
   },
   {
    "duration": 27,
    "start_time": "2022-09-13T15:00:28.462Z"
   },
   {
    "duration": 12,
    "start_time": "2022-09-13T15:00:28.491Z"
   },
   {
    "duration": 45,
    "start_time": "2022-09-13T15:00:28.505Z"
   },
   {
    "duration": 7305,
    "start_time": "2022-09-13T15:00:28.552Z"
   },
   {
    "duration": 3065,
    "start_time": "2022-09-13T15:00:35.859Z"
   },
   {
    "duration": 383,
    "start_time": "2022-09-13T15:00:38.926Z"
   },
   {
    "duration": 12,
    "start_time": "2022-09-13T15:05:28.798Z"
   },
   {
    "duration": 6,
    "start_time": "2022-09-13T15:05:39.879Z"
   },
   {
    "duration": 1052,
    "start_time": "2022-09-13T15:05:48.445Z"
   },
   {
    "duration": 201,
    "start_time": "2022-09-13T15:05:49.499Z"
   },
   {
    "duration": 37,
    "start_time": "2022-09-13T15:05:49.701Z"
   },
   {
    "duration": 35,
    "start_time": "2022-09-13T15:05:49.740Z"
   },
   {
    "duration": 68,
    "start_time": "2022-09-13T15:05:49.776Z"
   },
   {
    "duration": 14,
    "start_time": "2022-09-13T15:05:49.845Z"
   },
   {
    "duration": 12,
    "start_time": "2022-09-13T15:05:49.861Z"
   },
   {
    "duration": 69,
    "start_time": "2022-09-13T15:05:49.874Z"
   },
   {
    "duration": 10,
    "start_time": "2022-09-13T15:05:49.945Z"
   },
   {
    "duration": 182,
    "start_time": "2022-09-13T15:05:49.957Z"
   },
   {
    "duration": 17,
    "start_time": "2022-09-13T15:05:50.140Z"
   },
   {
    "duration": 13,
    "start_time": "2022-09-13T15:05:50.159Z"
   },
   {
    "duration": 15,
    "start_time": "2022-09-13T15:05:50.173Z"
   },
   {
    "duration": 6,
    "start_time": "2022-09-13T15:05:50.190Z"
   },
   {
    "duration": 74,
    "start_time": "2022-09-13T15:05:50.198Z"
   },
   {
    "duration": 4,
    "start_time": "2022-09-13T15:05:50.274Z"
   },
   {
    "duration": 9,
    "start_time": "2022-09-13T15:05:50.280Z"
   },
   {
    "duration": 21,
    "start_time": "2022-09-13T15:05:50.290Z"
   },
   {
    "duration": 27,
    "start_time": "2022-09-13T15:05:50.313Z"
   },
   {
    "duration": 122,
    "start_time": "2022-09-13T15:05:50.341Z"
   },
   {
    "duration": 4,
    "start_time": "2022-09-13T15:05:50.464Z"
   },
   {
    "duration": 11,
    "start_time": "2022-09-13T15:05:50.469Z"
   },
   {
    "duration": 5,
    "start_time": "2022-09-13T15:05:50.482Z"
   },
   {
    "duration": 41,
    "start_time": "2022-09-13T15:05:50.488Z"
   },
   {
    "duration": 7217,
    "start_time": "2022-09-13T15:05:50.532Z"
   },
   {
    "duration": 3085,
    "start_time": "2022-09-13T15:05:57.750Z"
   },
   {
    "duration": 601,
    "start_time": "2022-09-13T15:06:00.837Z"
   },
   {
    "duration": 118,
    "start_time": "2022-09-13T15:09:41.498Z"
   },
   {
    "duration": 4,
    "start_time": "2022-09-13T15:09:47.705Z"
   },
   {
    "duration": 5,
    "start_time": "2022-09-13T15:10:11.143Z"
   },
   {
    "duration": 4,
    "start_time": "2022-09-13T15:10:35.687Z"
   },
   {
    "duration": 5,
    "start_time": "2022-09-13T15:10:39.094Z"
   },
   {
    "duration": 6,
    "start_time": "2022-09-13T15:10:52.693Z"
   },
   {
    "duration": 7,
    "start_time": "2022-09-13T15:12:38.961Z"
   },
   {
    "duration": 5,
    "start_time": "2022-09-13T15:12:46.207Z"
   },
   {
    "duration": 3,
    "start_time": "2022-09-13T15:12:56.771Z"
   },
   {
    "duration": 5,
    "start_time": "2022-09-13T15:13:02.760Z"
   },
   {
    "duration": 5,
    "start_time": "2022-09-13T15:13:16.981Z"
   },
   {
    "duration": 8,
    "start_time": "2022-09-13T15:13:43.149Z"
   },
   {
    "duration": 5,
    "start_time": "2022-09-13T15:13:57.851Z"
   },
   {
    "duration": 5,
    "start_time": "2022-09-13T15:24:54.445Z"
   },
   {
    "duration": 4,
    "start_time": "2022-09-13T15:24:59.496Z"
   },
   {
    "duration": 4,
    "start_time": "2022-09-13T15:25:08.752Z"
   },
   {
    "duration": 37,
    "start_time": "2022-09-13T15:25:49.457Z"
   },
   {
    "duration": 599,
    "start_time": "2022-09-13T15:26:34.949Z"
   },
   {
    "duration": 4,
    "start_time": "2022-09-13T15:26:35.550Z"
   },
   {
    "duration": 581,
    "start_time": "2022-09-13T15:26:39.550Z"
   },
   {
    "duration": 3,
    "start_time": "2022-09-13T15:26:40.970Z"
   },
   {
    "duration": 556,
    "start_time": "2022-09-13T15:27:46.095Z"
   },
   {
    "duration": 3,
    "start_time": "2022-09-13T15:29:19.793Z"
   },
   {
    "duration": 14,
    "start_time": "2022-09-13T15:31:31.970Z"
   },
   {
    "duration": 3,
    "start_time": "2022-09-13T15:31:59.896Z"
   },
   {
    "duration": 7,
    "start_time": "2022-09-13T15:32:06.749Z"
   },
   {
    "duration": 1145,
    "start_time": "2022-09-13T15:32:43.889Z"
   },
   {
    "duration": 205,
    "start_time": "2022-09-13T15:32:45.036Z"
   },
   {
    "duration": 37,
    "start_time": "2022-09-13T15:32:45.243Z"
   },
   {
    "duration": 46,
    "start_time": "2022-09-13T15:32:45.282Z"
   },
   {
    "duration": 81,
    "start_time": "2022-09-13T15:32:45.331Z"
   },
   {
    "duration": 17,
    "start_time": "2022-09-13T15:32:45.414Z"
   },
   {
    "duration": 7,
    "start_time": "2022-09-13T15:32:45.433Z"
   },
   {
    "duration": 41,
    "start_time": "2022-09-13T15:32:45.441Z"
   },
   {
    "duration": 26,
    "start_time": "2022-09-13T15:32:45.484Z"
   },
   {
    "duration": 173,
    "start_time": "2022-09-13T15:32:45.512Z"
   },
   {
    "duration": 23,
    "start_time": "2022-09-13T15:32:45.687Z"
   },
   {
    "duration": 12,
    "start_time": "2022-09-13T15:32:45.712Z"
   },
   {
    "duration": 17,
    "start_time": "2022-09-13T15:32:45.726Z"
   },
   {
    "duration": 10,
    "start_time": "2022-09-13T15:32:45.745Z"
   },
   {
    "duration": 97,
    "start_time": "2022-09-13T15:32:45.757Z"
   },
   {
    "duration": 5,
    "start_time": "2022-09-13T15:32:45.855Z"
   },
   {
    "duration": 13,
    "start_time": "2022-09-13T15:32:45.862Z"
   },
   {
    "duration": 9,
    "start_time": "2022-09-13T15:32:45.877Z"
   },
   {
    "duration": 24,
    "start_time": "2022-09-13T15:32:45.887Z"
   },
   {
    "duration": 123,
    "start_time": "2022-09-13T15:32:45.913Z"
   },
   {
    "duration": 3,
    "start_time": "2022-09-13T15:32:46.038Z"
   },
   {
    "duration": 13,
    "start_time": "2022-09-13T15:32:46.042Z"
   },
   {
    "duration": 10,
    "start_time": "2022-09-13T15:32:46.056Z"
   },
   {
    "duration": 39,
    "start_time": "2022-09-13T15:32:46.068Z"
   },
   {
    "duration": 7207,
    "start_time": "2022-09-13T15:32:46.109Z"
   },
   {
    "duration": 3097,
    "start_time": "2022-09-13T15:32:53.318Z"
   },
   {
    "duration": 585,
    "start_time": "2022-09-13T15:32:56.417Z"
   },
   {
    "duration": 5,
    "start_time": "2022-09-13T15:32:57.005Z"
   },
   {
    "duration": 10,
    "start_time": "2022-09-13T15:32:57.012Z"
   },
   {
    "duration": 24,
    "start_time": "2022-09-13T15:32:57.023Z"
   },
   {
    "duration": 5,
    "start_time": "2022-09-13T15:32:57.049Z"
   },
   {
    "duration": 7,
    "start_time": "2022-09-13T15:32:57.055Z"
   },
   {
    "duration": 1379,
    "start_time": "2022-09-14T11:39:08.071Z"
   },
   {
    "duration": 1671,
    "start_time": "2022-09-14T11:39:09.452Z"
   },
   {
    "duration": 44,
    "start_time": "2022-09-14T11:39:11.125Z"
   },
   {
    "duration": 51,
    "start_time": "2022-09-14T11:39:11.170Z"
   },
   {
    "duration": 57,
    "start_time": "2022-09-14T11:39:11.223Z"
   },
   {
    "duration": 57,
    "start_time": "2022-09-14T11:39:11.282Z"
   },
   {
    "duration": 4,
    "start_time": "2022-09-14T11:39:11.341Z"
   },
   {
    "duration": 69,
    "start_time": "2022-09-14T11:39:11.346Z"
   },
   {
    "duration": 13,
    "start_time": "2022-09-14T11:39:11.416Z"
   },
   {
    "duration": 236,
    "start_time": "2022-09-14T11:39:11.430Z"
   },
   {
    "duration": 40,
    "start_time": "2022-09-14T11:39:11.668Z"
   },
   {
    "duration": 3,
    "start_time": "2022-09-14T11:39:11.710Z"
   },
   {
    "duration": 15,
    "start_time": "2022-09-14T11:39:11.715Z"
   },
   {
    "duration": 4,
    "start_time": "2022-09-14T11:39:11.733Z"
   },
   {
    "duration": 143,
    "start_time": "2022-09-14T11:39:11.738Z"
   },
   {
    "duration": 8,
    "start_time": "2022-09-14T11:39:11.883Z"
   },
   {
    "duration": 29,
    "start_time": "2022-09-14T11:39:11.893Z"
   },
   {
    "duration": 6,
    "start_time": "2022-09-14T11:39:11.925Z"
   },
   {
    "duration": 27,
    "start_time": "2022-09-14T11:39:11.933Z"
   },
   {
    "duration": 355,
    "start_time": "2022-09-14T11:39:11.961Z"
   },
   {
    "duration": 3,
    "start_time": "2022-09-14T11:39:12.318Z"
   },
   {
    "duration": 8,
    "start_time": "2022-09-14T11:39:12.322Z"
   },
   {
    "duration": 8,
    "start_time": "2022-09-14T11:39:12.332Z"
   },
   {
    "duration": 53,
    "start_time": "2022-09-14T11:39:12.341Z"
   },
   {
    "duration": 8109,
    "start_time": "2022-09-14T11:39:12.399Z"
   },
   {
    "duration": 3912,
    "start_time": "2022-09-14T11:39:20.510Z"
   },
   {
    "duration": 645,
    "start_time": "2022-09-14T11:39:24.424Z"
   },
   {
    "duration": 4,
    "start_time": "2022-09-14T11:39:25.071Z"
   },
   {
    "duration": 32,
    "start_time": "2022-09-14T11:39:25.077Z"
   },
   {
    "duration": 30,
    "start_time": "2022-09-14T11:39:25.111Z"
   },
   {
    "duration": 1250,
    "start_time": "2022-09-14T11:42:58.606Z"
   },
   {
    "duration": 277,
    "start_time": "2022-09-14T11:42:59.858Z"
   },
   {
    "duration": 57,
    "start_time": "2022-09-14T11:43:00.136Z"
   },
   {
    "duration": 47,
    "start_time": "2022-09-14T11:43:00.196Z"
   },
   {
    "duration": 83,
    "start_time": "2022-09-14T11:43:00.245Z"
   },
   {
    "duration": 19,
    "start_time": "2022-09-14T11:43:00.330Z"
   },
   {
    "duration": 35,
    "start_time": "2022-09-14T11:43:00.351Z"
   },
   {
    "duration": 66,
    "start_time": "2022-09-14T11:43:00.388Z"
   },
   {
    "duration": 14,
    "start_time": "2022-09-14T11:43:00.456Z"
   },
   {
    "duration": 210,
    "start_time": "2022-09-14T11:43:00.472Z"
   },
   {
    "duration": 33,
    "start_time": "2022-09-14T11:43:00.684Z"
   },
   {
    "duration": 20,
    "start_time": "2022-09-14T11:43:00.718Z"
   },
   {
    "duration": 28,
    "start_time": "2022-09-14T11:43:00.740Z"
   },
   {
    "duration": 41,
    "start_time": "2022-09-14T11:43:00.772Z"
   },
   {
    "duration": 95,
    "start_time": "2022-09-14T11:43:00.815Z"
   },
   {
    "duration": 4,
    "start_time": "2022-09-14T11:43:00.912Z"
   },
   {
    "duration": 17,
    "start_time": "2022-09-14T11:43:00.917Z"
   },
   {
    "duration": 14,
    "start_time": "2022-09-14T11:43:00.937Z"
   },
   {
    "duration": 60,
    "start_time": "2022-09-14T11:43:00.953Z"
   },
   {
    "duration": 361,
    "start_time": "2022-09-14T11:43:01.016Z"
   },
   {
    "duration": 4,
    "start_time": "2022-09-14T11:43:01.379Z"
   },
   {
    "duration": 20,
    "start_time": "2022-09-14T11:43:01.397Z"
   },
   {
    "duration": 45,
    "start_time": "2022-09-14T11:43:01.419Z"
   },
   {
    "duration": 89,
    "start_time": "2022-09-14T11:43:01.467Z"
   },
   {
    "duration": 8719,
    "start_time": "2022-09-14T11:43:01.558Z"
   },
   {
    "duration": 3963,
    "start_time": "2022-09-14T11:43:10.279Z"
   },
   {
    "duration": 668,
    "start_time": "2022-09-14T11:43:14.244Z"
   },
   {
    "duration": 5,
    "start_time": "2022-09-14T11:43:14.913Z"
   },
   {
    "duration": 11,
    "start_time": "2022-09-14T11:43:14.919Z"
   },
   {
    "duration": 25,
    "start_time": "2022-09-14T11:43:14.931Z"
   },
   {
    "duration": 4,
    "start_time": "2022-09-14T11:48:02.201Z"
   },
   {
    "duration": 1222,
    "start_time": "2022-09-14T11:48:06.719Z"
   },
   {
    "duration": 237,
    "start_time": "2022-09-14T11:48:07.943Z"
   },
   {
    "duration": 54,
    "start_time": "2022-09-14T11:48:08.181Z"
   },
   {
    "duration": 42,
    "start_time": "2022-09-14T11:48:08.237Z"
   },
   {
    "duration": 68,
    "start_time": "2022-09-14T11:48:08.289Z"
   },
   {
    "duration": 17,
    "start_time": "2022-09-14T11:48:08.358Z"
   },
   {
    "duration": 14,
    "start_time": "2022-09-14T11:48:08.376Z"
   },
   {
    "duration": 55,
    "start_time": "2022-09-14T11:48:08.393Z"
   },
   {
    "duration": 12,
    "start_time": "2022-09-14T11:48:08.450Z"
   },
   {
    "duration": 219,
    "start_time": "2022-09-14T11:48:08.465Z"
   },
   {
    "duration": 32,
    "start_time": "2022-09-14T11:48:08.686Z"
   },
   {
    "duration": 3,
    "start_time": "2022-09-14T11:48:08.719Z"
   },
   {
    "duration": 14,
    "start_time": "2022-09-14T11:48:08.724Z"
   },
   {
    "duration": 3,
    "start_time": "2022-09-14T11:48:08.740Z"
   },
   {
    "duration": 91,
    "start_time": "2022-09-14T11:48:08.744Z"
   },
   {
    "duration": 4,
    "start_time": "2022-09-14T11:48:08.837Z"
   },
   {
    "duration": 7,
    "start_time": "2022-09-14T11:48:08.842Z"
   },
   {
    "duration": 5,
    "start_time": "2022-09-14T11:48:08.851Z"
   },
   {
    "duration": 38,
    "start_time": "2022-09-14T11:48:08.857Z"
   },
   {
    "duration": 267,
    "start_time": "2022-09-14T11:48:08.898Z"
   },
   {
    "duration": 3,
    "start_time": "2022-09-14T11:48:09.167Z"
   },
   {
    "duration": 7,
    "start_time": "2022-09-14T11:48:09.171Z"
   },
   {
    "duration": 7,
    "start_time": "2022-09-14T11:48:09.180Z"
   },
   {
    "duration": 73,
    "start_time": "2022-09-14T11:48:09.190Z"
   },
   {
    "duration": 8095,
    "start_time": "2022-09-14T11:48:09.265Z"
   },
   {
    "duration": 4068,
    "start_time": "2022-09-14T11:48:17.362Z"
   },
   {
    "duration": 760,
    "start_time": "2022-09-14T11:48:21.432Z"
   },
   {
    "duration": 6,
    "start_time": "2022-09-14T11:48:22.196Z"
   },
   {
    "duration": 33,
    "start_time": "2022-09-14T11:48:22.205Z"
   },
   {
    "duration": 17,
    "start_time": "2022-09-14T11:48:22.240Z"
   },
   {
    "duration": 7,
    "start_time": "2022-09-14T11:57:03.041Z"
   },
   {
    "duration": 129,
    "start_time": "2022-09-14T12:04:48.176Z"
   },
   {
    "duration": 6,
    "start_time": "2022-09-14T12:05:05.661Z"
   },
   {
    "duration": 3,
    "start_time": "2022-09-14T12:05:55.142Z"
   },
   {
    "duration": 9,
    "start_time": "2022-09-14T12:06:15.980Z"
   },
   {
    "duration": 6,
    "start_time": "2022-09-14T12:06:28.906Z"
   },
   {
    "duration": 13,
    "start_time": "2022-09-14T12:07:07.154Z"
   },
   {
    "duration": 13,
    "start_time": "2022-09-14T12:07:22.714Z"
   },
   {
    "duration": 8,
    "start_time": "2022-09-14T12:08:28.673Z"
   },
   {
    "duration": 8,
    "start_time": "2022-09-14T12:08:32.622Z"
   },
   {
    "duration": 7,
    "start_time": "2022-09-14T12:09:02.024Z"
   },
   {
    "duration": 6,
    "start_time": "2022-09-14T12:11:03.741Z"
   },
   {
    "duration": 7,
    "start_time": "2022-09-14T12:11:13.736Z"
   },
   {
    "duration": 143,
    "start_time": "2022-09-14T12:12:09.638Z"
   },
   {
    "duration": 1371,
    "start_time": "2022-09-14T12:12:18.210Z"
   },
   {
    "duration": 283,
    "start_time": "2022-09-14T12:12:19.583Z"
   },
   {
    "duration": 58,
    "start_time": "2022-09-14T12:12:19.868Z"
   },
   {
    "duration": 42,
    "start_time": "2022-09-14T12:12:19.929Z"
   },
   {
    "duration": 88,
    "start_time": "2022-09-14T12:12:19.972Z"
   },
   {
    "duration": 19,
    "start_time": "2022-09-14T12:12:20.061Z"
   },
   {
    "duration": 15,
    "start_time": "2022-09-14T12:12:20.082Z"
   },
   {
    "duration": 51,
    "start_time": "2022-09-14T12:12:20.101Z"
   },
   {
    "duration": 14,
    "start_time": "2022-09-14T12:12:20.153Z"
   },
   {
    "duration": 244,
    "start_time": "2022-09-14T12:12:20.170Z"
   },
   {
    "duration": 25,
    "start_time": "2022-09-14T12:12:20.416Z"
   },
   {
    "duration": 4,
    "start_time": "2022-09-14T12:12:20.443Z"
   },
   {
    "duration": 12,
    "start_time": "2022-09-14T12:12:20.449Z"
   },
   {
    "duration": 6,
    "start_time": "2022-09-14T12:12:20.463Z"
   },
   {
    "duration": 84,
    "start_time": "2022-09-14T12:12:20.488Z"
   },
   {
    "duration": 31,
    "start_time": "2022-09-14T12:12:20.574Z"
   },
   {
    "duration": 8,
    "start_time": "2022-09-14T12:12:20.608Z"
   },
   {
    "duration": 9,
    "start_time": "2022-09-14T12:12:20.618Z"
   },
   {
    "duration": 21,
    "start_time": "2022-09-14T12:12:20.629Z"
   },
   {
    "duration": 315,
    "start_time": "2022-09-14T12:12:20.651Z"
   },
   {
    "duration": 4,
    "start_time": "2022-09-14T12:12:20.967Z"
   },
   {
    "duration": 9,
    "start_time": "2022-09-14T12:12:20.972Z"
   },
   {
    "duration": 21,
    "start_time": "2022-09-14T12:12:20.983Z"
   },
   {
    "duration": 63,
    "start_time": "2022-09-14T12:12:21.006Z"
   },
   {
    "duration": 8251,
    "start_time": "2022-09-14T12:12:21.071Z"
   },
   {
    "duration": 5463,
    "start_time": "2022-09-14T12:12:29.324Z"
   },
   {
    "duration": 1118,
    "start_time": "2022-09-14T12:12:34.790Z"
   },
   {
    "duration": 4,
    "start_time": "2022-09-14T12:12:35.911Z"
   },
   {
    "duration": 14,
    "start_time": "2022-09-14T12:12:35.916Z"
   },
   {
    "duration": 6,
    "start_time": "2022-09-14T12:12:35.932Z"
   },
   {
    "duration": 6,
    "start_time": "2022-09-14T12:12:35.940Z"
   },
   {
    "duration": 133,
    "start_time": "2022-09-14T12:12:35.948Z"
   },
   {
    "duration": 1282,
    "start_time": "2022-09-14T12:13:31.489Z"
   },
   {
    "duration": 268,
    "start_time": "2022-09-14T12:13:32.773Z"
   },
   {
    "duration": 55,
    "start_time": "2022-09-14T12:13:33.043Z"
   },
   {
    "duration": 44,
    "start_time": "2022-09-14T12:13:33.102Z"
   },
   {
    "duration": 85,
    "start_time": "2022-09-14T12:13:33.147Z"
   },
   {
    "duration": 18,
    "start_time": "2022-09-14T12:13:33.234Z"
   },
   {
    "duration": 2,
    "start_time": "2022-09-14T12:13:33.254Z"
   },
   {
    "duration": 95,
    "start_time": "2022-09-14T12:13:33.259Z"
   },
   {
    "duration": 18,
    "start_time": "2022-09-14T12:13:33.356Z"
   },
   {
    "duration": 227,
    "start_time": "2022-09-14T12:13:33.390Z"
   },
   {
    "duration": 33,
    "start_time": "2022-09-14T12:13:33.619Z"
   },
   {
    "duration": 11,
    "start_time": "2022-09-14T12:13:33.654Z"
   },
   {
    "duration": 27,
    "start_time": "2022-09-14T12:13:33.668Z"
   },
   {
    "duration": 14,
    "start_time": "2022-09-14T12:13:33.697Z"
   },
   {
    "duration": 106,
    "start_time": "2022-09-14T12:13:33.714Z"
   },
   {
    "duration": 4,
    "start_time": "2022-09-14T12:13:33.822Z"
   },
   {
    "duration": 10,
    "start_time": "2022-09-14T12:13:33.828Z"
   },
   {
    "duration": 9,
    "start_time": "2022-09-14T12:13:33.840Z"
   },
   {
    "duration": 26,
    "start_time": "2022-09-14T12:13:33.851Z"
   },
   {
    "duration": 342,
    "start_time": "2022-09-14T12:13:33.879Z"
   },
   {
    "duration": 4,
    "start_time": "2022-09-14T12:13:34.222Z"
   },
   {
    "duration": 9,
    "start_time": "2022-09-14T12:13:34.228Z"
   },
   {
    "duration": 17,
    "start_time": "2022-09-14T12:13:34.238Z"
   },
   {
    "duration": 126176,
    "start_time": "2022-09-14T12:13:34.257Z"
   },
   {
    "duration": 4,
    "start_time": "2022-09-14T12:15:40.434Z"
   },
   {
    "duration": 28,
    "start_time": "2022-09-14T12:15:40.439Z"
   },
   {
    "duration": 61,
    "start_time": "2022-09-14T12:15:40.469Z"
   },
   {
    "duration": 7817,
    "start_time": "2022-09-14T12:15:40.534Z"
   },
   {
    "duration": 5570,
    "start_time": "2022-09-14T12:15:48.352Z"
   },
   {
    "duration": 1178,
    "start_time": "2022-09-14T12:15:53.924Z"
   },
   {
    "duration": 7,
    "start_time": "2022-09-14T12:15:55.104Z"
   },
   {
    "duration": 23,
    "start_time": "2022-09-14T12:15:55.114Z"
   },
   {
    "duration": 10,
    "start_time": "2022-09-14T12:15:55.138Z"
   },
   {
    "duration": 10,
    "start_time": "2022-09-14T12:15:55.150Z"
   },
   {
    "duration": 152,
    "start_time": "2022-09-14T12:15:55.162Z"
   },
   {
    "duration": 15,
    "start_time": "2022-09-14T12:16:51.781Z"
   },
   {
    "duration": 6,
    "start_time": "2022-09-14T12:16:56.636Z"
   },
   {
    "duration": 7,
    "start_time": "2022-09-14T12:16:57.194Z"
   },
   {
    "duration": 849,
    "start_time": "2022-09-14T12:17:13.255Z"
   },
   {
    "duration": 4,
    "start_time": "2022-09-14T12:18:14.655Z"
   },
   {
    "duration": 7,
    "start_time": "2022-09-14T12:18:33.001Z"
   },
   {
    "duration": 4,
    "start_time": "2022-09-14T12:18:48.155Z"
   },
   {
    "duration": 5,
    "start_time": "2022-09-14T12:18:49.246Z"
   },
   {
    "duration": 258,
    "start_time": "2022-09-14T12:19:50.900Z"
   },
   {
    "duration": 255,
    "start_time": "2022-09-14T12:19:59.485Z"
   },
   {
    "duration": 44,
    "start_time": "2022-09-14T13:39:03.163Z"
   },
   {
    "duration": 1035,
    "start_time": "2022-09-14T13:39:09.468Z"
   },
   {
    "duration": 1062,
    "start_time": "2022-09-14T13:39:10.505Z"
   },
   {
    "duration": 40,
    "start_time": "2022-09-14T13:39:11.569Z"
   },
   {
    "duration": 42,
    "start_time": "2022-09-14T13:39:11.611Z"
   },
   {
    "duration": 78,
    "start_time": "2022-09-14T13:39:11.655Z"
   },
   {
    "duration": 14,
    "start_time": "2022-09-14T13:39:11.735Z"
   },
   {
    "duration": 7,
    "start_time": "2022-09-14T13:39:11.751Z"
   },
   {
    "duration": 50,
    "start_time": "2022-09-14T13:39:11.759Z"
   },
   {
    "duration": 10,
    "start_time": "2022-09-14T13:39:11.811Z"
   },
   {
    "duration": 177,
    "start_time": "2022-09-14T13:39:11.824Z"
   },
   {
    "duration": 18,
    "start_time": "2022-09-14T13:39:12.004Z"
   },
   {
    "duration": 16,
    "start_time": "2022-09-14T13:39:12.023Z"
   },
   {
    "duration": 21,
    "start_time": "2022-09-14T13:39:12.040Z"
   },
   {
    "duration": 11,
    "start_time": "2022-09-14T13:39:12.063Z"
   },
   {
    "duration": 89,
    "start_time": "2022-09-14T13:39:12.076Z"
   },
   {
    "duration": 4,
    "start_time": "2022-09-14T13:39:12.167Z"
   },
   {
    "duration": 12,
    "start_time": "2022-09-14T13:39:12.173Z"
   },
   {
    "duration": 11,
    "start_time": "2022-09-14T13:39:12.186Z"
   },
   {
    "duration": 33,
    "start_time": "2022-09-14T13:39:12.199Z"
   },
   {
    "duration": 131,
    "start_time": "2022-09-14T13:39:12.233Z"
   },
   {
    "duration": 3,
    "start_time": "2022-09-14T13:39:12.365Z"
   },
   {
    "duration": 8,
    "start_time": "2022-09-14T13:39:12.370Z"
   },
   {
    "duration": 11,
    "start_time": "2022-09-14T13:39:12.379Z"
   },
   {
    "duration": 3335,
    "start_time": "2022-09-14T13:39:12.391Z"
   },
   {
    "duration": 0,
    "start_time": "2022-09-14T13:39:15.728Z"
   },
   {
    "duration": 0,
    "start_time": "2022-09-14T13:39:15.729Z"
   },
   {
    "duration": 0,
    "start_time": "2022-09-14T13:39:15.730Z"
   },
   {
    "duration": 0,
    "start_time": "2022-09-14T13:39:15.731Z"
   },
   {
    "duration": 0,
    "start_time": "2022-09-14T13:39:15.732Z"
   },
   {
    "duration": 0,
    "start_time": "2022-09-14T13:39:15.733Z"
   },
   {
    "duration": 0,
    "start_time": "2022-09-14T13:39:15.734Z"
   },
   {
    "duration": 0,
    "start_time": "2022-09-14T13:39:15.735Z"
   },
   {
    "duration": 0,
    "start_time": "2022-09-14T13:39:15.736Z"
   },
   {
    "duration": 0,
    "start_time": "2022-09-14T13:39:15.737Z"
   },
   {
    "duration": 0,
    "start_time": "2022-09-14T13:39:15.738Z"
   },
   {
    "duration": 0,
    "start_time": "2022-09-14T13:39:15.739Z"
   },
   {
    "duration": 1030,
    "start_time": "2022-09-14T13:39:45.549Z"
   },
   {
    "duration": 209,
    "start_time": "2022-09-14T13:39:46.582Z"
   },
   {
    "duration": 36,
    "start_time": "2022-09-14T13:39:46.792Z"
   },
   {
    "duration": 45,
    "start_time": "2022-09-14T13:39:46.829Z"
   },
   {
    "duration": 70,
    "start_time": "2022-09-14T13:39:46.876Z"
   },
   {
    "duration": 14,
    "start_time": "2022-09-14T13:39:46.948Z"
   },
   {
    "duration": 5,
    "start_time": "2022-09-14T13:39:46.963Z"
   },
   {
    "duration": 49,
    "start_time": "2022-09-14T13:39:46.969Z"
   },
   {
    "duration": 10,
    "start_time": "2022-09-14T13:39:47.019Z"
   },
   {
    "duration": 167,
    "start_time": "2022-09-14T13:39:47.032Z"
   },
   {
    "duration": 21,
    "start_time": "2022-09-14T13:39:47.201Z"
   },
   {
    "duration": 3,
    "start_time": "2022-09-14T13:39:47.223Z"
   },
   {
    "duration": 11,
    "start_time": "2022-09-14T13:39:47.228Z"
   },
   {
    "duration": 3,
    "start_time": "2022-09-14T13:39:47.241Z"
   },
   {
    "duration": 88,
    "start_time": "2022-09-14T13:39:47.246Z"
   },
   {
    "duration": 5,
    "start_time": "2022-09-14T13:39:47.336Z"
   },
   {
    "duration": 13,
    "start_time": "2022-09-14T13:39:47.343Z"
   },
   {
    "duration": 16,
    "start_time": "2022-09-14T13:39:47.358Z"
   },
   {
    "duration": 32,
    "start_time": "2022-09-14T13:39:47.376Z"
   },
   {
    "duration": 148,
    "start_time": "2022-09-14T13:39:47.410Z"
   },
   {
    "duration": 4,
    "start_time": "2022-09-14T13:39:47.560Z"
   },
   {
    "duration": 9,
    "start_time": "2022-09-14T13:39:47.566Z"
   },
   {
    "duration": 11,
    "start_time": "2022-09-14T13:39:47.577Z"
   },
   {
    "duration": 6779,
    "start_time": "2022-09-14T13:39:47.589Z"
   },
   {
    "duration": 0,
    "start_time": "2022-09-14T13:39:54.369Z"
   },
   {
    "duration": 0,
    "start_time": "2022-09-14T13:39:54.370Z"
   },
   {
    "duration": 0,
    "start_time": "2022-09-14T13:39:54.371Z"
   },
   {
    "duration": 0,
    "start_time": "2022-09-14T13:39:54.373Z"
   },
   {
    "duration": 0,
    "start_time": "2022-09-14T13:39:54.374Z"
   },
   {
    "duration": 0,
    "start_time": "2022-09-14T13:39:54.375Z"
   },
   {
    "duration": 0,
    "start_time": "2022-09-14T13:39:54.376Z"
   },
   {
    "duration": 0,
    "start_time": "2022-09-14T13:39:54.377Z"
   },
   {
    "duration": 0,
    "start_time": "2022-09-14T13:39:54.378Z"
   },
   {
    "duration": 0,
    "start_time": "2022-09-14T13:39:54.379Z"
   },
   {
    "duration": 0,
    "start_time": "2022-09-14T13:39:54.380Z"
   },
   {
    "duration": 0,
    "start_time": "2022-09-14T13:39:54.381Z"
   },
   {
    "duration": 1057,
    "start_time": "2022-09-14T13:40:18.004Z"
   },
   {
    "duration": 202,
    "start_time": "2022-09-14T13:40:19.063Z"
   },
   {
    "duration": 38,
    "start_time": "2022-09-14T13:40:19.267Z"
   },
   {
    "duration": 35,
    "start_time": "2022-09-14T13:40:19.307Z"
   },
   {
    "duration": 64,
    "start_time": "2022-09-14T13:40:19.343Z"
   },
   {
    "duration": 14,
    "start_time": "2022-09-14T13:40:19.409Z"
   },
   {
    "duration": 3,
    "start_time": "2022-09-14T13:40:19.424Z"
   },
   {
    "duration": 38,
    "start_time": "2022-09-14T13:40:19.428Z"
   },
   {
    "duration": 11,
    "start_time": "2022-09-14T13:40:19.467Z"
   },
   {
    "duration": 175,
    "start_time": "2022-09-14T13:40:19.480Z"
   },
   {
    "duration": 19,
    "start_time": "2022-09-14T13:40:19.657Z"
   },
   {
    "duration": 4,
    "start_time": "2022-09-14T13:40:19.677Z"
   },
   {
    "duration": 23,
    "start_time": "2022-09-14T13:40:19.682Z"
   },
   {
    "duration": 3,
    "start_time": "2022-09-14T13:40:19.706Z"
   },
   {
    "duration": 73,
    "start_time": "2022-09-14T13:40:19.711Z"
   },
   {
    "duration": 4,
    "start_time": "2022-09-14T13:40:19.785Z"
   },
   {
    "duration": 17,
    "start_time": "2022-09-14T13:40:19.791Z"
   },
   {
    "duration": 7,
    "start_time": "2022-09-14T13:40:19.809Z"
   },
   {
    "duration": 19,
    "start_time": "2022-09-14T13:40:19.817Z"
   },
   {
    "duration": 136,
    "start_time": "2022-09-14T13:40:19.838Z"
   },
   {
    "duration": 3,
    "start_time": "2022-09-14T13:40:19.976Z"
   },
   {
    "duration": 4,
    "start_time": "2022-09-14T13:40:19.981Z"
   },
   {
    "duration": 6,
    "start_time": "2022-09-14T13:40:19.986Z"
   },
   {
    "duration": 55,
    "start_time": "2022-09-14T13:40:20.005Z"
   },
   {
    "duration": 6475,
    "start_time": "2022-09-14T13:40:20.062Z"
   },
   {
    "duration": 3944,
    "start_time": "2022-09-14T13:40:26.539Z"
   },
   {
    "duration": 862,
    "start_time": "2022-09-14T13:40:30.484Z"
   },
   {
    "duration": 4,
    "start_time": "2022-09-14T13:40:31.348Z"
   },
   {
    "duration": 18,
    "start_time": "2022-09-14T13:40:31.354Z"
   },
   {
    "duration": 14,
    "start_time": "2022-09-14T13:40:31.374Z"
   },
   {
    "duration": 14,
    "start_time": "2022-09-14T13:40:31.389Z"
   },
   {
    "duration": 20,
    "start_time": "2022-09-14T13:40:31.405Z"
   },
   {
    "duration": 584,
    "start_time": "2022-09-14T13:40:31.427Z"
   },
   {
    "duration": 167,
    "start_time": "2022-09-14T13:40:58.592Z"
   },
   {
    "duration": 139,
    "start_time": "2022-09-14T13:41:46.557Z"
   },
   {
    "duration": 7,
    "start_time": "2022-09-14T13:42:42.596Z"
   },
   {
    "duration": 102,
    "start_time": "2022-09-14T13:43:48.618Z"
   },
   {
    "duration": 4,
    "start_time": "2022-09-14T13:44:00.866Z"
   },
   {
    "duration": 16,
    "start_time": "2022-09-14T13:44:33.767Z"
   },
   {
    "duration": 9,
    "start_time": "2022-09-14T13:45:51.713Z"
   },
   {
    "duration": 1429,
    "start_time": "2022-09-14T13:46:19.481Z"
   },
   {
    "duration": 16,
    "start_time": "2022-09-14T13:47:06.184Z"
   },
   {
    "duration": 4,
    "start_time": "2022-09-14T13:47:28.967Z"
   },
   {
    "duration": 5901,
    "start_time": "2022-09-14T13:47:36.800Z"
   },
   {
    "duration": 1167,
    "start_time": "2022-09-14T13:48:14.110Z"
   },
   {
    "duration": 1076,
    "start_time": "2022-09-14T13:49:04.053Z"
   },
   {
    "duration": 16,
    "start_time": "2022-09-14T13:51:18.686Z"
   },
   {
    "duration": 1755,
    "start_time": "2022-09-14T13:51:19.291Z"
   },
   {
    "duration": 5,
    "start_time": "2022-09-14T13:52:19.886Z"
   },
   {
    "duration": 9,
    "start_time": "2022-09-14T13:52:51.792Z"
   },
   {
    "duration": 16,
    "start_time": "2022-09-14T13:53:28.429Z"
   },
   {
    "duration": 16,
    "start_time": "2022-09-14T13:53:33.313Z"
   },
   {
    "duration": 223,
    "start_time": "2022-09-14T13:53:47.416Z"
   },
   {
    "duration": 18,
    "start_time": "2022-09-14T13:53:54.900Z"
   },
   {
    "duration": 2042,
    "start_time": "2022-09-14T13:55:23.905Z"
   },
   {
    "duration": 2043,
    "start_time": "2022-09-14T13:57:46.588Z"
   },
   {
    "duration": 1668,
    "start_time": "2022-09-14T13:58:19.019Z"
   },
   {
    "duration": 10,
    "start_time": "2022-09-14T13:59:14.139Z"
   },
   {
    "duration": 116,
    "start_time": "2022-09-14T13:59:18.561Z"
   },
   {
    "duration": 8,
    "start_time": "2022-09-14T14:00:15.115Z"
   },
   {
    "duration": 8,
    "start_time": "2022-09-14T14:00:28.442Z"
   },
   {
    "duration": 10,
    "start_time": "2022-09-14T14:00:37.806Z"
   },
   {
    "duration": 5,
    "start_time": "2022-09-14T14:00:54.003Z"
   },
   {
    "duration": 10,
    "start_time": "2022-09-14T14:01:19.985Z"
   },
   {
    "duration": 4,
    "start_time": "2022-09-14T14:01:28.798Z"
   },
   {
    "duration": 119,
    "start_time": "2022-09-14T14:02:59.900Z"
   },
   {
    "duration": 230,
    "start_time": "2022-09-14T14:03:21.810Z"
   },
   {
    "duration": 116,
    "start_time": "2022-09-14T14:03:28.627Z"
   },
   {
    "duration": 161,
    "start_time": "2022-09-14T14:04:52.562Z"
   },
   {
    "duration": 125,
    "start_time": "2022-09-14T14:04:58.362Z"
   },
   {
    "duration": 94,
    "start_time": "2022-09-14T14:05:19.342Z"
   },
   {
    "duration": 29956,
    "start_time": "2022-09-14T14:05:37.449Z"
   },
   {
    "duration": 253,
    "start_time": "2022-09-14T14:06:25.643Z"
   },
   {
    "duration": 1273,
    "start_time": "2022-09-14T14:06:36.660Z"
   },
   {
    "duration": 136,
    "start_time": "2022-09-14T14:06:43.978Z"
   },
   {
    "duration": 1325,
    "start_time": "2022-09-14T14:19:06.736Z"
   },
   {
    "duration": 1421,
    "start_time": "2022-09-14T14:19:21.168Z"
   },
   {
    "duration": 219,
    "start_time": "2022-09-14T14:19:22.591Z"
   },
   {
    "duration": 37,
    "start_time": "2022-09-14T14:19:22.812Z"
   },
   {
    "duration": 34,
    "start_time": "2022-09-14T14:19:22.851Z"
   },
   {
    "duration": 69,
    "start_time": "2022-09-14T14:19:22.887Z"
   },
   {
    "duration": 14,
    "start_time": "2022-09-14T14:19:22.958Z"
   },
   {
    "duration": 6,
    "start_time": "2022-09-14T14:19:22.974Z"
   },
   {
    "duration": 49,
    "start_time": "2022-09-14T14:19:22.981Z"
   },
   {
    "duration": 12,
    "start_time": "2022-09-14T14:19:23.032Z"
   },
   {
    "duration": 173,
    "start_time": "2022-09-14T14:19:23.046Z"
   },
   {
    "duration": 19,
    "start_time": "2022-09-14T14:19:23.221Z"
   },
   {
    "duration": 6,
    "start_time": "2022-09-14T14:19:23.241Z"
   },
   {
    "duration": 10,
    "start_time": "2022-09-14T14:19:23.248Z"
   },
   {
    "duration": 3,
    "start_time": "2022-09-14T14:19:23.260Z"
   },
   {
    "duration": 90,
    "start_time": "2022-09-14T14:19:23.265Z"
   },
   {
    "duration": 3,
    "start_time": "2022-09-14T14:19:23.357Z"
   },
   {
    "duration": 8,
    "start_time": "2022-09-14T14:19:23.362Z"
   },
   {
    "duration": 3,
    "start_time": "2022-09-14T14:19:23.372Z"
   },
   {
    "duration": 30,
    "start_time": "2022-09-14T14:19:23.376Z"
   },
   {
    "duration": 148,
    "start_time": "2022-09-14T14:19:23.407Z"
   },
   {
    "duration": 3,
    "start_time": "2022-09-14T14:19:23.557Z"
   },
   {
    "duration": 7,
    "start_time": "2022-09-14T14:19:23.561Z"
   },
   {
    "duration": 5,
    "start_time": "2022-09-14T14:19:23.570Z"
   },
   {
    "duration": 51,
    "start_time": "2022-09-14T14:19:23.577Z"
   },
   {
    "duration": 6565,
    "start_time": "2022-09-14T14:19:23.630Z"
   },
   {
    "duration": 5020,
    "start_time": "2022-09-14T14:19:30.196Z"
   },
   {
    "duration": 904,
    "start_time": "2022-09-14T14:19:35.217Z"
   },
   {
    "duration": 4,
    "start_time": "2022-09-14T14:19:36.122Z"
   },
   {
    "duration": 10,
    "start_time": "2022-09-14T14:19:36.128Z"
   },
   {
    "duration": 5,
    "start_time": "2022-09-14T14:19:36.140Z"
   },
   {
    "duration": 5,
    "start_time": "2022-09-14T14:19:36.147Z"
   },
   {
    "duration": 4,
    "start_time": "2022-09-14T14:19:36.154Z"
   },
   {
    "duration": 229,
    "start_time": "2022-09-14T14:19:36.160Z"
   },
   {
    "duration": 23,
    "start_time": "2022-09-14T14:19:36.391Z"
   },
   {
    "duration": 1779,
    "start_time": "2022-09-14T14:19:36.416Z"
   },
   {
    "duration": 137,
    "start_time": "2022-09-14T14:19:38.196Z"
   },
   {
    "duration": 1361,
    "start_time": "2022-09-14T14:22:15.213Z"
   },
   {
    "duration": 230,
    "start_time": "2022-09-14T14:22:16.575Z"
   },
   {
    "duration": 40,
    "start_time": "2022-09-14T14:22:16.807Z"
   },
   {
    "duration": 40,
    "start_time": "2022-09-14T14:22:16.849Z"
   },
   {
    "duration": 67,
    "start_time": "2022-09-14T14:22:16.891Z"
   },
   {
    "duration": 14,
    "start_time": "2022-09-14T14:22:16.960Z"
   },
   {
    "duration": 3,
    "start_time": "2022-09-14T14:22:16.976Z"
   },
   {
    "duration": 58,
    "start_time": "2022-09-14T14:22:16.981Z"
   },
   {
    "duration": 11,
    "start_time": "2022-09-14T14:22:17.040Z"
   },
   {
    "duration": 178,
    "start_time": "2022-09-14T14:22:17.054Z"
   },
   {
    "duration": 21,
    "start_time": "2022-09-14T14:22:17.233Z"
   },
   {
    "duration": 3,
    "start_time": "2022-09-14T14:22:17.255Z"
   },
   {
    "duration": 9,
    "start_time": "2022-09-14T14:22:17.260Z"
   },
   {
    "duration": 3,
    "start_time": "2022-09-14T14:22:17.270Z"
   },
   {
    "duration": 106,
    "start_time": "2022-09-14T14:22:17.275Z"
   },
   {
    "duration": 6,
    "start_time": "2022-09-14T14:22:17.383Z"
   },
   {
    "duration": 18,
    "start_time": "2022-09-14T14:22:17.392Z"
   },
   {
    "duration": 9,
    "start_time": "2022-09-14T14:22:17.412Z"
   },
   {
    "duration": 30,
    "start_time": "2022-09-14T14:22:17.423Z"
   },
   {
    "duration": 152,
    "start_time": "2022-09-14T14:22:17.455Z"
   },
   {
    "duration": 5,
    "start_time": "2022-09-14T14:22:17.609Z"
   },
   {
    "duration": 6,
    "start_time": "2022-09-14T14:22:17.616Z"
   },
   {
    "duration": 23,
    "start_time": "2022-09-14T14:22:17.624Z"
   },
   {
    "duration": 42,
    "start_time": "2022-09-14T14:22:17.648Z"
   },
   {
    "duration": 6360,
    "start_time": "2022-09-14T14:22:17.692Z"
   },
   {
    "duration": 4526,
    "start_time": "2022-09-14T14:22:24.054Z"
   },
   {
    "duration": 887,
    "start_time": "2022-09-14T14:22:28.582Z"
   },
   {
    "duration": 4,
    "start_time": "2022-09-14T14:22:29.472Z"
   },
   {
    "duration": 10,
    "start_time": "2022-09-14T14:22:29.477Z"
   },
   {
    "duration": 20,
    "start_time": "2022-09-14T14:22:29.489Z"
   },
   {
    "duration": 6,
    "start_time": "2022-09-14T14:22:29.510Z"
   },
   {
    "duration": 4,
    "start_time": "2022-09-14T14:22:29.517Z"
   },
   {
    "duration": 191,
    "start_time": "2022-09-14T14:22:29.523Z"
   },
   {
    "duration": 16,
    "start_time": "2022-09-14T14:22:29.716Z"
   },
   {
    "duration": 1719,
    "start_time": "2022-09-14T14:22:29.733Z"
   },
   {
    "duration": 132,
    "start_time": "2022-09-14T14:22:31.454Z"
   },
   {
    "duration": 3,
    "start_time": "2022-09-14T14:39:02.636Z"
   },
   {
    "duration": 8,
    "start_time": "2022-09-14T14:39:03.198Z"
   },
   {
    "duration": 3,
    "start_time": "2022-09-14T14:44:02.687Z"
   },
   {
    "duration": 1291,
    "start_time": "2022-09-14T14:44:07.618Z"
   },
   {
    "duration": 218,
    "start_time": "2022-09-14T14:44:08.911Z"
   },
   {
    "duration": 35,
    "start_time": "2022-09-14T14:44:09.131Z"
   },
   {
    "duration": 42,
    "start_time": "2022-09-14T14:44:09.168Z"
   },
   {
    "duration": 57,
    "start_time": "2022-09-14T14:44:09.212Z"
   },
   {
    "duration": 34,
    "start_time": "2022-09-14T14:44:09.271Z"
   },
   {
    "duration": 6,
    "start_time": "2022-09-14T14:44:09.307Z"
   },
   {
    "duration": 38,
    "start_time": "2022-09-14T14:44:09.315Z"
   },
   {
    "duration": 10,
    "start_time": "2022-09-14T14:44:09.354Z"
   },
   {
    "duration": 166,
    "start_time": "2022-09-14T14:44:09.366Z"
   },
   {
    "duration": 18,
    "start_time": "2022-09-14T14:44:09.534Z"
   },
   {
    "duration": 2,
    "start_time": "2022-09-14T14:44:09.554Z"
   },
   {
    "duration": 9,
    "start_time": "2022-09-14T14:44:09.558Z"
   },
   {
    "duration": 4,
    "start_time": "2022-09-14T14:44:09.569Z"
   },
   {
    "duration": 91,
    "start_time": "2022-09-14T14:44:09.574Z"
   },
   {
    "duration": 4,
    "start_time": "2022-09-14T14:44:09.667Z"
   },
   {
    "duration": 8,
    "start_time": "2022-09-14T14:44:09.672Z"
   },
   {
    "duration": 5,
    "start_time": "2022-09-14T14:44:09.682Z"
   },
   {
    "duration": 27,
    "start_time": "2022-09-14T14:44:09.688Z"
   },
   {
    "duration": 142,
    "start_time": "2022-09-14T14:44:09.717Z"
   },
   {
    "duration": 4,
    "start_time": "2022-09-14T14:44:09.860Z"
   },
   {
    "duration": 5,
    "start_time": "2022-09-14T14:44:09.866Z"
   },
   {
    "duration": 6,
    "start_time": "2022-09-14T14:44:09.872Z"
   },
   {
    "duration": 55,
    "start_time": "2022-09-14T14:44:09.879Z"
   },
   {
    "duration": 6395,
    "start_time": "2022-09-14T14:44:09.935Z"
   },
   {
    "duration": 4465,
    "start_time": "2022-09-14T14:44:16.332Z"
   },
   {
    "duration": 890,
    "start_time": "2022-09-14T14:44:20.799Z"
   },
   {
    "duration": 4,
    "start_time": "2022-09-14T14:44:21.690Z"
   },
   {
    "duration": 110,
    "start_time": "2022-09-14T14:44:21.696Z"
   },
   {
    "duration": 0,
    "start_time": "2022-09-14T14:44:21.807Z"
   },
   {
    "duration": 0,
    "start_time": "2022-09-14T14:44:21.809Z"
   },
   {
    "duration": 0,
    "start_time": "2022-09-14T14:44:21.809Z"
   },
   {
    "duration": 0,
    "start_time": "2022-09-14T14:44:21.810Z"
   },
   {
    "duration": 0,
    "start_time": "2022-09-14T14:44:21.812Z"
   },
   {
    "duration": 0,
    "start_time": "2022-09-14T14:44:21.812Z"
   },
   {
    "duration": 0,
    "start_time": "2022-09-14T14:44:21.813Z"
   },
   {
    "duration": 4,
    "start_time": "2022-09-14T14:47:08.800Z"
   },
   {
    "duration": 1283,
    "start_time": "2022-09-14T14:47:16.970Z"
   },
   {
    "duration": 228,
    "start_time": "2022-09-14T14:47:18.257Z"
   },
   {
    "duration": 37,
    "start_time": "2022-09-14T14:47:18.487Z"
   },
   {
    "duration": 36,
    "start_time": "2022-09-14T14:47:18.526Z"
   },
   {
    "duration": 68,
    "start_time": "2022-09-14T14:47:18.564Z"
   },
   {
    "duration": 13,
    "start_time": "2022-09-14T14:47:18.634Z"
   },
   {
    "duration": 14,
    "start_time": "2022-09-14T14:47:18.648Z"
   },
   {
    "duration": 55,
    "start_time": "2022-09-14T14:47:18.664Z"
   },
   {
    "duration": 14,
    "start_time": "2022-09-14T14:47:18.720Z"
   },
   {
    "duration": 179,
    "start_time": "2022-09-14T14:47:18.736Z"
   },
   {
    "duration": 19,
    "start_time": "2022-09-14T14:47:18.917Z"
   },
   {
    "duration": 21,
    "start_time": "2022-09-14T14:47:18.938Z"
   },
   {
    "duration": 25,
    "start_time": "2022-09-14T14:47:18.961Z"
   },
   {
    "duration": 12,
    "start_time": "2022-09-14T14:47:18.988Z"
   },
   {
    "duration": 99,
    "start_time": "2022-09-14T14:47:19.001Z"
   },
   {
    "duration": 5,
    "start_time": "2022-09-14T14:47:19.101Z"
   },
   {
    "duration": 11,
    "start_time": "2022-09-14T14:47:19.107Z"
   },
   {
    "duration": 17,
    "start_time": "2022-09-14T14:47:19.120Z"
   },
   {
    "duration": 34,
    "start_time": "2022-09-14T14:47:19.138Z"
   },
   {
    "duration": 131,
    "start_time": "2022-09-14T14:47:19.174Z"
   },
   {
    "duration": 3,
    "start_time": "2022-09-14T14:47:19.307Z"
   },
   {
    "duration": 6,
    "start_time": "2022-09-14T14:47:19.312Z"
   },
   {
    "duration": 23,
    "start_time": "2022-09-14T14:47:19.320Z"
   },
   {
    "duration": 62,
    "start_time": "2022-09-14T14:47:19.344Z"
   },
   {
    "duration": 6526,
    "start_time": "2022-09-14T14:47:19.408Z"
   },
   {
    "duration": 3910,
    "start_time": "2022-09-14T14:47:25.935Z"
   },
   {
    "duration": 892,
    "start_time": "2022-09-14T14:47:29.847Z"
   },
   {
    "duration": 5,
    "start_time": "2022-09-14T14:47:30.743Z"
   },
   {
    "duration": 113,
    "start_time": "2022-09-14T14:47:30.749Z"
   },
   {
    "duration": 0,
    "start_time": "2022-09-14T14:47:30.864Z"
   },
   {
    "duration": 0,
    "start_time": "2022-09-14T14:47:30.865Z"
   },
   {
    "duration": 1,
    "start_time": "2022-09-14T14:47:30.866Z"
   },
   {
    "duration": 0,
    "start_time": "2022-09-14T14:47:30.868Z"
   },
   {
    "duration": 0,
    "start_time": "2022-09-14T14:47:30.869Z"
   },
   {
    "duration": 0,
    "start_time": "2022-09-14T14:47:30.870Z"
   },
   {
    "duration": 0,
    "start_time": "2022-09-14T14:47:30.871Z"
   },
   {
    "duration": 5,
    "start_time": "2022-09-14T14:47:52.229Z"
   },
   {
    "duration": 1296,
    "start_time": "2022-09-14T14:47:57.698Z"
   },
   {
    "duration": 216,
    "start_time": "2022-09-14T14:47:58.995Z"
   },
   {
    "duration": 36,
    "start_time": "2022-09-14T14:47:59.212Z"
   },
   {
    "duration": 34,
    "start_time": "2022-09-14T14:47:59.250Z"
   },
   {
    "duration": 55,
    "start_time": "2022-09-14T14:47:59.305Z"
   },
   {
    "duration": 15,
    "start_time": "2022-09-14T14:47:59.362Z"
   },
   {
    "duration": 3,
    "start_time": "2022-09-14T14:47:59.378Z"
   },
   {
    "duration": 52,
    "start_time": "2022-09-14T14:47:59.383Z"
   },
   {
    "duration": 11,
    "start_time": "2022-09-14T14:47:59.437Z"
   },
   {
    "duration": 179,
    "start_time": "2022-09-14T14:47:59.451Z"
   },
   {
    "duration": 19,
    "start_time": "2022-09-14T14:47:59.632Z"
   },
   {
    "duration": 3,
    "start_time": "2022-09-14T14:47:59.652Z"
   },
   {
    "duration": 21,
    "start_time": "2022-09-14T14:47:59.656Z"
   },
   {
    "duration": 5,
    "start_time": "2022-09-14T14:47:59.679Z"
   },
   {
    "duration": 84,
    "start_time": "2022-09-14T14:47:59.685Z"
   },
   {
    "duration": 3,
    "start_time": "2022-09-14T14:47:59.771Z"
   },
   {
    "duration": 20,
    "start_time": "2022-09-14T14:47:59.776Z"
   },
   {
    "duration": 10,
    "start_time": "2022-09-14T14:47:59.797Z"
   },
   {
    "duration": 27,
    "start_time": "2022-09-14T14:47:59.808Z"
   },
   {
    "duration": 126,
    "start_time": "2022-09-14T14:47:59.836Z"
   },
   {
    "duration": 4,
    "start_time": "2022-09-14T14:47:59.963Z"
   },
   {
    "duration": 9,
    "start_time": "2022-09-14T14:47:59.969Z"
   },
   {
    "duration": 9,
    "start_time": "2022-09-14T14:47:59.979Z"
   },
   {
    "duration": 55,
    "start_time": "2022-09-14T14:47:59.990Z"
   },
   {
    "duration": 6456,
    "start_time": "2022-09-14T14:48:00.047Z"
   },
   {
    "duration": 4135,
    "start_time": "2022-09-14T14:48:06.505Z"
   },
   {
    "duration": 876,
    "start_time": "2022-09-14T14:48:10.641Z"
   },
   {
    "duration": 4,
    "start_time": "2022-09-14T14:48:11.520Z"
   },
   {
    "duration": 114,
    "start_time": "2022-09-14T14:48:11.525Z"
   },
   {
    "duration": 0,
    "start_time": "2022-09-14T14:48:11.641Z"
   },
   {
    "duration": 0,
    "start_time": "2022-09-14T14:48:11.643Z"
   },
   {
    "duration": 0,
    "start_time": "2022-09-14T14:48:11.644Z"
   },
   {
    "duration": 0,
    "start_time": "2022-09-14T14:48:11.646Z"
   },
   {
    "duration": 0,
    "start_time": "2022-09-14T14:48:11.648Z"
   },
   {
    "duration": 0,
    "start_time": "2022-09-14T14:48:11.649Z"
   },
   {
    "duration": 0,
    "start_time": "2022-09-14T14:48:11.651Z"
   },
   {
    "duration": 11,
    "start_time": "2022-09-14T14:49:39.653Z"
   },
   {
    "duration": 13,
    "start_time": "2022-09-14T14:49:45.739Z"
   },
   {
    "duration": 8,
    "start_time": "2022-09-14T14:50:06.271Z"
   },
   {
    "duration": 4,
    "start_time": "2022-09-14T14:50:34.978Z"
   },
   {
    "duration": 901,
    "start_time": "2022-09-14T14:50:40.749Z"
   },
   {
    "duration": 5,
    "start_time": "2022-09-14T14:50:41.652Z"
   },
   {
    "duration": 10,
    "start_time": "2022-09-14T14:50:41.792Z"
   },
   {
    "duration": 5675,
    "start_time": "2022-09-14T14:51:13.135Z"
   },
   {
    "duration": 91,
    "start_time": "2022-09-14T14:51:18.814Z"
   },
   {
    "duration": 4,
    "start_time": "2022-09-14T14:51:19.490Z"
   },
   {
    "duration": 5,
    "start_time": "2022-09-14T14:51:30.412Z"
   },
   {
    "duration": 9,
    "start_time": "2022-09-14T14:51:30.823Z"
   },
   {
    "duration": 8029,
    "start_time": "2022-09-14T14:51:56.632Z"
   },
   {
    "duration": 7888,
    "start_time": "2022-09-14T14:52:17.937Z"
   },
   {
    "duration": 8051,
    "start_time": "2022-09-14T14:52:34.794Z"
   },
   {
    "duration": 892,
    "start_time": "2022-09-14T14:52:45.390Z"
   },
   {
    "duration": 11134,
    "start_time": "2022-09-14T14:53:32.649Z"
   },
   {
    "duration": 15591,
    "start_time": "2022-09-14T14:54:19.217Z"
   },
   {
    "duration": 1245,
    "start_time": "2022-09-14T14:55:14.850Z"
   },
   {
    "duration": 216,
    "start_time": "2022-09-14T14:55:16.097Z"
   },
   {
    "duration": 34,
    "start_time": "2022-09-14T14:55:16.315Z"
   },
   {
    "duration": 33,
    "start_time": "2022-09-14T14:55:16.351Z"
   },
   {
    "duration": 78,
    "start_time": "2022-09-14T14:55:16.386Z"
   },
   {
    "duration": 16,
    "start_time": "2022-09-14T14:55:16.465Z"
   },
   {
    "duration": 4,
    "start_time": "2022-09-14T14:55:16.482Z"
   },
   {
    "duration": 55,
    "start_time": "2022-09-14T14:55:16.487Z"
   },
   {
    "duration": 11,
    "start_time": "2022-09-14T14:55:16.544Z"
   },
   {
    "duration": 194,
    "start_time": "2022-09-14T14:55:16.556Z"
   },
   {
    "duration": 21,
    "start_time": "2022-09-14T14:55:16.752Z"
   },
   {
    "duration": 3,
    "start_time": "2022-09-14T14:55:16.774Z"
   },
   {
    "duration": 27,
    "start_time": "2022-09-14T14:55:16.779Z"
   },
   {
    "duration": 4,
    "start_time": "2022-09-14T14:55:16.809Z"
   },
   {
    "duration": 78,
    "start_time": "2022-09-14T14:55:16.814Z"
   },
   {
    "duration": 4,
    "start_time": "2022-09-14T14:55:16.893Z"
   },
   {
    "duration": 6,
    "start_time": "2022-09-14T14:55:16.905Z"
   },
   {
    "duration": 4,
    "start_time": "2022-09-14T14:55:16.913Z"
   },
   {
    "duration": 19,
    "start_time": "2022-09-14T14:55:16.919Z"
   },
   {
    "duration": 165,
    "start_time": "2022-09-14T14:55:16.940Z"
   },
   {
    "duration": 4,
    "start_time": "2022-09-14T14:55:17.107Z"
   },
   {
    "duration": 5,
    "start_time": "2022-09-14T14:55:17.113Z"
   },
   {
    "duration": 6,
    "start_time": "2022-09-14T14:55:17.120Z"
   },
   {
    "duration": 57,
    "start_time": "2022-09-14T14:55:17.128Z"
   },
   {
    "duration": 8284,
    "start_time": "2022-09-14T14:55:17.187Z"
   },
   {
    "duration": 13934,
    "start_time": "2022-09-14T14:55:25.473Z"
   },
   {
    "duration": 984,
    "start_time": "2022-09-14T14:55:39.409Z"
   },
   {
    "duration": 4,
    "start_time": "2022-09-14T14:55:40.395Z"
   },
   {
    "duration": 9,
    "start_time": "2022-09-14T14:55:40.404Z"
   },
   {
    "duration": 103,
    "start_time": "2022-09-14T14:55:40.414Z"
   },
   {
    "duration": 0,
    "start_time": "2022-09-14T14:55:40.518Z"
   },
   {
    "duration": 0,
    "start_time": "2022-09-14T14:55:40.519Z"
   },
   {
    "duration": 0,
    "start_time": "2022-09-14T14:55:40.520Z"
   },
   {
    "duration": 0,
    "start_time": "2022-09-14T14:55:40.521Z"
   },
   {
    "duration": 0,
    "start_time": "2022-09-14T14:55:40.522Z"
   },
   {
    "duration": 0,
    "start_time": "2022-09-14T14:55:40.523Z"
   },
   {
    "duration": 51,
    "start_time": "2022-09-14T14:57:41.777Z"
   },
   {
    "duration": 12783,
    "start_time": "2022-09-14T14:57:42.962Z"
   },
   {
    "duration": 13324,
    "start_time": "2022-09-14T14:58:45.589Z"
   },
   {
    "duration": 13754,
    "start_time": "2022-09-14T14:59:31.964Z"
   },
   {
    "duration": 14474,
    "start_time": "2022-09-14T15:00:15.232Z"
   },
   {
    "duration": 6152,
    "start_time": "2022-09-14T15:01:11.954Z"
   },
   {
    "duration": 5,
    "start_time": "2022-09-14T15:01:18.108Z"
   },
   {
    "duration": 98,
    "start_time": "2022-09-14T15:01:18.115Z"
   },
   {
    "duration": 9,
    "start_time": "2022-09-14T15:01:18.215Z"
   },
   {
    "duration": 1203,
    "start_time": "2022-09-14T15:04:43.358Z"
   },
   {
    "duration": 1620,
    "start_time": "2022-09-14T15:04:48.282Z"
   },
   {
    "duration": 220,
    "start_time": "2022-09-14T15:04:49.907Z"
   },
   {
    "duration": 36,
    "start_time": "2022-09-14T15:04:50.130Z"
   },
   {
    "duration": 40,
    "start_time": "2022-09-14T15:04:50.167Z"
   },
   {
    "duration": 61,
    "start_time": "2022-09-14T15:04:50.209Z"
   },
   {
    "duration": 34,
    "start_time": "2022-09-14T15:04:50.272Z"
   },
   {
    "duration": 5,
    "start_time": "2022-09-14T15:04:50.308Z"
   },
   {
    "duration": 61,
    "start_time": "2022-09-14T15:04:50.314Z"
   },
   {
    "duration": 28,
    "start_time": "2022-09-14T15:04:50.377Z"
   },
   {
    "duration": 136,
    "start_time": "2022-09-14T15:04:50.407Z"
   },
   {
    "duration": 20,
    "start_time": "2022-09-14T15:04:50.544Z"
   },
   {
    "duration": 4,
    "start_time": "2022-09-14T15:04:50.565Z"
   },
   {
    "duration": 14,
    "start_time": "2022-09-14T15:04:50.571Z"
   },
   {
    "duration": 18,
    "start_time": "2022-09-14T15:04:50.588Z"
   },
   {
    "duration": 83,
    "start_time": "2022-09-14T15:04:50.607Z"
   },
   {
    "duration": 5,
    "start_time": "2022-09-14T15:04:50.692Z"
   },
   {
    "duration": 10,
    "start_time": "2022-09-14T15:04:50.705Z"
   },
   {
    "duration": 6,
    "start_time": "2022-09-14T15:04:50.716Z"
   },
   {
    "duration": 19,
    "start_time": "2022-09-14T15:04:50.724Z"
   },
   {
    "duration": 141,
    "start_time": "2022-09-14T15:04:50.745Z"
   },
   {
    "duration": 3,
    "start_time": "2022-09-14T15:04:50.888Z"
   },
   {
    "duration": 12,
    "start_time": "2022-09-14T15:04:50.893Z"
   },
   {
    "duration": 11,
    "start_time": "2022-09-14T15:04:50.907Z"
   },
   {
    "duration": 41,
    "start_time": "2022-09-14T15:04:50.919Z"
   },
   {
    "duration": 8037,
    "start_time": "2022-09-14T15:04:50.962Z"
   },
   {
    "duration": 49,
    "start_time": "2022-09-14T15:04:59.001Z"
   },
   {
    "duration": 14555,
    "start_time": "2022-09-14T15:04:59.052Z"
   },
   {
    "duration": 5801,
    "start_time": "2022-09-14T15:05:13.608Z"
   },
   {
    "duration": 5,
    "start_time": "2022-09-14T15:05:19.411Z"
   },
   {
    "duration": 101,
    "start_time": "2022-09-14T15:05:19.417Z"
   },
   {
    "duration": 6,
    "start_time": "2022-09-14T15:05:19.520Z"
   },
   {
    "duration": 122,
    "start_time": "2022-09-14T15:05:19.528Z"
   },
   {
    "duration": 0,
    "start_time": "2022-09-14T15:05:19.651Z"
   },
   {
    "duration": 0,
    "start_time": "2022-09-14T15:05:19.652Z"
   },
   {
    "duration": 1,
    "start_time": "2022-09-14T15:05:19.654Z"
   },
   {
    "duration": 0,
    "start_time": "2022-09-14T15:05:19.656Z"
   },
   {
    "duration": 3,
    "start_time": "2022-09-14T15:06:58.365Z"
   },
   {
    "duration": 13,
    "start_time": "2022-09-14T15:07:58.561Z"
   },
   {
    "duration": 51,
    "start_time": "2022-09-14T15:08:02.309Z"
   },
   {
    "duration": 3572,
    "start_time": "2022-09-14T15:08:04.448Z"
   },
   {
    "duration": 5,
    "start_time": "2022-09-14T15:08:10.817Z"
   },
   {
    "duration": 10,
    "start_time": "2022-09-14T15:08:11.258Z"
   },
   {
    "duration": 18,
    "start_time": "2022-09-14T15:08:28.036Z"
   },
   {
    "duration": 12,
    "start_time": "2022-09-14T15:08:35.243Z"
   },
   {
    "duration": 282,
    "start_time": "2022-09-14T15:09:19.540Z"
   },
   {
    "duration": 647,
    "start_time": "2022-09-14T15:09:26.063Z"
   },
   {
    "duration": 5,
    "start_time": "2022-09-14T15:09:30.859Z"
   },
   {
    "duration": 13,
    "start_time": "2022-09-14T15:09:31.357Z"
   },
   {
    "duration": 4,
    "start_time": "2022-09-14T15:15:57.992Z"
   },
   {
    "duration": 5,
    "start_time": "2022-09-14T15:17:40.057Z"
   },
   {
    "duration": 5,
    "start_time": "2022-09-14T15:19:06.986Z"
   },
   {
    "duration": 5,
    "start_time": "2022-09-14T15:19:31.200Z"
   },
   {
    "duration": 5,
    "start_time": "2022-09-14T15:19:44.582Z"
   },
   {
    "duration": 5,
    "start_time": "2022-09-14T15:19:56.174Z"
   },
   {
    "duration": 6,
    "start_time": "2022-09-14T15:20:23.964Z"
   },
   {
    "duration": 7,
    "start_time": "2022-09-14T15:20:35.441Z"
   },
   {
    "duration": 8,
    "start_time": "2022-09-14T15:20:39.100Z"
   },
   {
    "duration": 7,
    "start_time": "2022-09-14T15:20:42.622Z"
   },
   {
    "duration": 6,
    "start_time": "2022-09-14T15:20:55.022Z"
   },
   {
    "duration": 7,
    "start_time": "2022-09-14T15:21:23.976Z"
   },
   {
    "duration": 21,
    "start_time": "2022-09-14T15:21:58.654Z"
   },
   {
    "duration": 23,
    "start_time": "2022-09-14T15:22:34.624Z"
   },
   {
    "duration": 38,
    "start_time": "2022-09-14T15:22:47.720Z"
   },
   {
    "duration": 5,
    "start_time": "2022-09-14T15:25:45.997Z"
   },
   {
    "duration": 1315,
    "start_time": "2022-09-14T15:25:55.215Z"
   },
   {
    "duration": 230,
    "start_time": "2022-09-14T15:25:56.531Z"
   },
   {
    "duration": 42,
    "start_time": "2022-09-14T15:25:56.763Z"
   },
   {
    "duration": 37,
    "start_time": "2022-09-14T15:25:56.807Z"
   },
   {
    "duration": 77,
    "start_time": "2022-09-14T15:25:56.846Z"
   },
   {
    "duration": 15,
    "start_time": "2022-09-14T15:25:56.925Z"
   },
   {
    "duration": 6,
    "start_time": "2022-09-14T15:25:56.941Z"
   },
   {
    "duration": 58,
    "start_time": "2022-09-14T15:25:56.948Z"
   },
   {
    "duration": 12,
    "start_time": "2022-09-14T15:25:57.007Z"
   },
   {
    "duration": 151,
    "start_time": "2022-09-14T15:25:57.022Z"
   },
   {
    "duration": 20,
    "start_time": "2022-09-14T15:25:57.175Z"
   },
   {
    "duration": 144,
    "start_time": "2022-09-14T15:25:57.206Z"
   },
   {
    "duration": 0,
    "start_time": "2022-09-14T15:25:57.352Z"
   },
   {
    "duration": 0,
    "start_time": "2022-09-14T15:25:57.353Z"
   },
   {
    "duration": 0,
    "start_time": "2022-09-14T15:25:57.355Z"
   },
   {
    "duration": 0,
    "start_time": "2022-09-14T15:25:57.357Z"
   },
   {
    "duration": 0,
    "start_time": "2022-09-14T15:25:57.358Z"
   },
   {
    "duration": 0,
    "start_time": "2022-09-14T15:25:57.360Z"
   },
   {
    "duration": 0,
    "start_time": "2022-09-14T15:25:57.361Z"
   },
   {
    "duration": 0,
    "start_time": "2022-09-14T15:25:57.362Z"
   },
   {
    "duration": 0,
    "start_time": "2022-09-14T15:25:57.363Z"
   },
   {
    "duration": 0,
    "start_time": "2022-09-14T15:25:57.365Z"
   },
   {
    "duration": 0,
    "start_time": "2022-09-14T15:25:57.366Z"
   },
   {
    "duration": 0,
    "start_time": "2022-09-14T15:25:57.367Z"
   },
   {
    "duration": 0,
    "start_time": "2022-09-14T15:25:57.369Z"
   },
   {
    "duration": 0,
    "start_time": "2022-09-14T15:25:57.370Z"
   },
   {
    "duration": 0,
    "start_time": "2022-09-14T15:25:57.371Z"
   },
   {
    "duration": 0,
    "start_time": "2022-09-14T15:25:57.373Z"
   },
   {
    "duration": 0,
    "start_time": "2022-09-14T15:25:57.405Z"
   },
   {
    "duration": 0,
    "start_time": "2022-09-14T15:25:57.407Z"
   },
   {
    "duration": 0,
    "start_time": "2022-09-14T15:25:57.408Z"
   },
   {
    "duration": 0,
    "start_time": "2022-09-14T15:25:57.409Z"
   },
   {
    "duration": 0,
    "start_time": "2022-09-14T15:25:57.410Z"
   },
   {
    "duration": 0,
    "start_time": "2022-09-14T15:25:57.411Z"
   },
   {
    "duration": 0,
    "start_time": "2022-09-14T15:25:57.413Z"
   },
   {
    "duration": 0,
    "start_time": "2022-09-14T15:25:57.414Z"
   },
   {
    "duration": 0,
    "start_time": "2022-09-14T15:25:57.415Z"
   },
   {
    "duration": 0,
    "start_time": "2022-09-14T15:25:57.417Z"
   },
   {
    "duration": 1439,
    "start_time": "2022-09-14T15:26:37.732Z"
   },
   {
    "duration": 220,
    "start_time": "2022-09-14T15:26:39.173Z"
   },
   {
    "duration": 38,
    "start_time": "2022-09-14T15:26:39.395Z"
   },
   {
    "duration": 35,
    "start_time": "2022-09-14T15:26:39.435Z"
   },
   {
    "duration": 64,
    "start_time": "2022-09-14T15:26:39.472Z"
   },
   {
    "duration": 14,
    "start_time": "2022-09-14T15:26:39.537Z"
   },
   {
    "duration": 5,
    "start_time": "2022-09-14T15:26:39.553Z"
   },
   {
    "duration": 52,
    "start_time": "2022-09-14T15:26:39.560Z"
   },
   {
    "duration": 12,
    "start_time": "2022-09-14T15:26:39.613Z"
   },
   {
    "duration": 134,
    "start_time": "2022-09-14T15:26:39.627Z"
   },
   {
    "duration": 19,
    "start_time": "2022-09-14T15:26:39.763Z"
   },
   {
    "duration": 5,
    "start_time": "2022-09-14T15:26:39.783Z"
   },
   {
    "duration": 20,
    "start_time": "2022-09-14T15:26:39.789Z"
   },
   {
    "duration": 4,
    "start_time": "2022-09-14T15:26:39.813Z"
   },
   {
    "duration": 69,
    "start_time": "2022-09-14T15:26:39.818Z"
   },
   {
    "duration": 18,
    "start_time": "2022-09-14T15:26:39.889Z"
   },
   {
    "duration": 7,
    "start_time": "2022-09-14T15:26:39.909Z"
   },
   {
    "duration": 4,
    "start_time": "2022-09-14T15:26:39.917Z"
   },
   {
    "duration": 18,
    "start_time": "2022-09-14T15:26:39.922Z"
   },
   {
    "duration": 154,
    "start_time": "2022-09-14T15:26:39.941Z"
   },
   {
    "duration": 8,
    "start_time": "2022-09-14T15:26:40.097Z"
   },
   {
    "duration": 3,
    "start_time": "2022-09-14T15:26:40.107Z"
   },
   {
    "duration": 8,
    "start_time": "2022-09-14T15:26:40.112Z"
   },
   {
    "duration": 47,
    "start_time": "2022-09-14T15:26:40.121Z"
   },
   {
    "duration": 8081,
    "start_time": "2022-09-14T15:26:40.170Z"
   },
   {
    "duration": 260,
    "start_time": "2022-09-14T15:26:48.253Z"
   },
   {
    "duration": 53,
    "start_time": "2022-09-14T15:26:48.515Z"
   },
   {
    "duration": 12938,
    "start_time": "2022-09-14T15:26:48.569Z"
   },
   {
    "duration": 717,
    "start_time": "2022-09-14T15:27:01.509Z"
   },
   {
    "duration": 5,
    "start_time": "2022-09-14T15:27:02.228Z"
   },
   {
    "duration": 13,
    "start_time": "2022-09-14T15:27:02.235Z"
   },
   {
    "duration": 7,
    "start_time": "2022-09-14T15:27:02.250Z"
   },
   {
    "duration": 13,
    "start_time": "2022-09-14T15:27:02.258Z"
   },
   {
    "duration": 193,
    "start_time": "2022-09-14T15:27:02.273Z"
   },
   {
    "duration": 16,
    "start_time": "2022-09-14T15:27:02.468Z"
   },
   {
    "duration": 1681,
    "start_time": "2022-09-14T15:27:02.486Z"
   },
   {
    "duration": 157,
    "start_time": "2022-09-14T15:27:04.169Z"
   },
   {
    "duration": 5,
    "start_time": "2022-09-14T15:30:35.711Z"
   },
   {
    "duration": 1276,
    "start_time": "2022-09-14T15:30:40.656Z"
   },
   {
    "duration": 235,
    "start_time": "2022-09-14T15:30:41.934Z"
   },
   {
    "duration": 37,
    "start_time": "2022-09-14T15:30:42.171Z"
   },
   {
    "duration": 34,
    "start_time": "2022-09-14T15:30:42.210Z"
   },
   {
    "duration": 75,
    "start_time": "2022-09-14T15:30:42.246Z"
   },
   {
    "duration": 13,
    "start_time": "2022-09-14T15:30:42.323Z"
   },
   {
    "duration": 5,
    "start_time": "2022-09-14T15:30:42.338Z"
   },
   {
    "duration": 38,
    "start_time": "2022-09-14T15:30:42.344Z"
   },
   {
    "duration": 25,
    "start_time": "2022-09-14T15:30:42.384Z"
   },
   {
    "duration": 139,
    "start_time": "2022-09-14T15:30:42.410Z"
   },
   {
    "duration": 18,
    "start_time": "2022-09-14T15:30:42.551Z"
   },
   {
    "duration": 4,
    "start_time": "2022-09-14T15:30:42.570Z"
   },
   {
    "duration": 17,
    "start_time": "2022-09-14T15:30:42.576Z"
   },
   {
    "duration": 11,
    "start_time": "2022-09-14T15:30:42.595Z"
   },
   {
    "duration": 80,
    "start_time": "2022-09-14T15:30:42.607Z"
   },
   {
    "duration": 3,
    "start_time": "2022-09-14T15:30:42.689Z"
   },
   {
    "duration": 6,
    "start_time": "2022-09-14T15:30:42.694Z"
   },
   {
    "duration": 5,
    "start_time": "2022-09-14T15:30:42.702Z"
   },
   {
    "duration": 20,
    "start_time": "2022-09-14T15:30:42.709Z"
   },
   {
    "duration": 137,
    "start_time": "2022-09-14T15:30:42.731Z"
   },
   {
    "duration": 3,
    "start_time": "2022-09-14T15:30:42.870Z"
   },
   {
    "duration": 9,
    "start_time": "2022-09-14T15:30:42.874Z"
   },
   {
    "duration": 4,
    "start_time": "2022-09-14T15:30:42.885Z"
   },
   {
    "duration": 49,
    "start_time": "2022-09-14T15:30:42.891Z"
   },
   {
    "duration": 8027,
    "start_time": "2022-09-14T15:30:42.942Z"
   },
   {
    "duration": 286,
    "start_time": "2022-09-14T15:30:50.971Z"
   },
   {
    "duration": 62,
    "start_time": "2022-09-14T15:30:51.259Z"
   },
   {
    "duration": 13282,
    "start_time": "2022-09-14T15:30:51.324Z"
   },
   {
    "duration": 708,
    "start_time": "2022-09-14T15:31:04.607Z"
   },
   {
    "duration": 4,
    "start_time": "2022-09-14T15:31:05.317Z"
   },
   {
    "duration": 10,
    "start_time": "2022-09-14T15:31:05.322Z"
   },
   {
    "duration": 5,
    "start_time": "2022-09-14T15:31:05.334Z"
   },
   {
    "duration": 8,
    "start_time": "2022-09-14T15:31:05.341Z"
   },
   {
    "duration": 199,
    "start_time": "2022-09-14T15:31:05.351Z"
   },
   {
    "duration": 16,
    "start_time": "2022-09-14T15:31:05.552Z"
   },
   {
    "duration": 1668,
    "start_time": "2022-09-14T15:31:05.570Z"
   },
   {
    "duration": 173,
    "start_time": "2022-09-14T15:31:07.239Z"
   },
   {
    "duration": 7,
    "start_time": "2022-09-14T15:37:56.448Z"
   },
   {
    "duration": 113,
    "start_time": "2022-09-14T15:38:36.272Z"
   },
   {
    "duration": 6,
    "start_time": "2022-09-14T15:38:42.550Z"
   },
   {
    "duration": 6,
    "start_time": "2022-09-14T15:40:56.930Z"
   },
   {
    "duration": 9,
    "start_time": "2022-09-14T15:41:01.189Z"
   },
   {
    "duration": 6,
    "start_time": "2022-09-14T15:41:19.825Z"
   },
   {
    "duration": 328,
    "start_time": "2022-09-14T15:43:35.190Z"
   },
   {
    "duration": 205,
    "start_time": "2022-09-14T15:43:40.264Z"
   },
   {
    "duration": 166,
    "start_time": "2022-09-14T15:44:15.467Z"
   },
   {
    "duration": 1284,
    "start_time": "2022-09-14T15:45:26.311Z"
   },
   {
    "duration": 131,
    "start_time": "2022-09-14T15:45:39.818Z"
   },
   {
    "duration": 141,
    "start_time": "2022-09-14T15:46:34.707Z"
   },
   {
    "duration": 1839,
    "start_time": "2022-09-14T15:48:35.011Z"
   },
   {
    "duration": 13,
    "start_time": "2022-09-14T15:52:57.190Z"
   },
   {
    "duration": 2022,
    "start_time": "2022-09-14T15:55:37.920Z"
   },
   {
    "duration": 77,
    "start_time": "2022-09-14T15:57:55.006Z"
   },
   {
    "duration": 1802,
    "start_time": "2022-09-14T15:57:58.585Z"
   },
   {
    "duration": 136,
    "start_time": "2022-09-14T15:58:14.707Z"
   },
   {
    "duration": 49,
    "start_time": "2022-09-15T04:33:39.022Z"
   },
   {
    "duration": 52,
    "start_time": "2022-09-15T04:34:24.079Z"
   },
   {
    "duration": 49,
    "start_time": "2022-09-15T04:38:18.529Z"
   },
   {
    "duration": 52,
    "start_time": "2022-09-15T04:46:02.988Z"
   },
   {
    "duration": 87,
    "start_time": "2022-09-15T07:12:10.302Z"
   },
   {
    "duration": 53,
    "start_time": "2022-09-15T10:34:39.676Z"
   },
   {
    "duration": 1803,
    "start_time": "2022-09-16T10:12:03.739Z"
   },
   {
    "duration": 913,
    "start_time": "2022-09-16T10:12:05.544Z"
   },
   {
    "duration": 43,
    "start_time": "2022-09-16T10:12:06.459Z"
   },
   {
    "duration": 60,
    "start_time": "2022-09-16T10:12:06.505Z"
   },
   {
    "duration": 99,
    "start_time": "2022-09-16T10:12:06.567Z"
   },
   {
    "duration": 17,
    "start_time": "2022-09-16T10:12:06.668Z"
   },
   {
    "duration": 4,
    "start_time": "2022-09-16T10:12:06.695Z"
   },
   {
    "duration": 83,
    "start_time": "2022-09-16T10:12:06.701Z"
   },
   {
    "duration": 17,
    "start_time": "2022-09-16T10:12:06.787Z"
   },
   {
    "duration": 195,
    "start_time": "2022-09-16T10:12:06.808Z"
   },
   {
    "duration": 27,
    "start_time": "2022-09-16T10:12:07.005Z"
   },
   {
    "duration": 3,
    "start_time": "2022-09-16T10:12:07.034Z"
   },
   {
    "duration": 12,
    "start_time": "2022-09-16T10:12:07.038Z"
   },
   {
    "duration": 4,
    "start_time": "2022-09-16T10:12:07.052Z"
   },
   {
    "duration": 110,
    "start_time": "2022-09-16T10:12:07.058Z"
   },
   {
    "duration": 4,
    "start_time": "2022-09-16T10:12:07.170Z"
   },
   {
    "duration": 19,
    "start_time": "2022-09-16T10:12:07.176Z"
   },
   {
    "duration": 5,
    "start_time": "2022-09-16T10:12:07.198Z"
   },
   {
    "duration": 24,
    "start_time": "2022-09-16T10:12:07.206Z"
   },
   {
    "duration": 168,
    "start_time": "2022-09-16T10:12:07.232Z"
   },
   {
    "duration": 5,
    "start_time": "2022-09-16T10:12:07.402Z"
   },
   {
    "duration": 13,
    "start_time": "2022-09-16T10:12:07.409Z"
   },
   {
    "duration": 10,
    "start_time": "2022-09-16T10:12:07.424Z"
   },
   {
    "duration": 122567,
    "start_time": "2022-09-16T10:12:07.436Z"
   },
   {
    "duration": 5,
    "start_time": "2022-09-16T10:14:10.006Z"
   },
   {
    "duration": 17,
    "start_time": "2022-09-16T10:14:10.013Z"
   },
   {
    "duration": 52,
    "start_time": "2022-09-16T10:14:10.031Z"
   },
   {
    "duration": 9325,
    "start_time": "2022-09-16T10:14:10.086Z"
   },
   {
    "duration": 306,
    "start_time": "2022-09-16T10:14:19.413Z"
   },
   {
    "duration": 58,
    "start_time": "2022-09-16T10:14:19.721Z"
   },
   {
    "duration": 16221,
    "start_time": "2022-09-16T10:14:19.780Z"
   },
   {
    "duration": 849,
    "start_time": "2022-09-16T10:14:36.003Z"
   },
   {
    "duration": 5,
    "start_time": "2022-09-16T10:14:36.854Z"
   },
   {
    "duration": 12,
    "start_time": "2022-09-16T10:14:36.860Z"
   },
   {
    "duration": 23,
    "start_time": "2022-09-16T10:14:36.873Z"
   },
   {
    "duration": 5,
    "start_time": "2022-09-16T10:14:36.898Z"
   },
   {
    "duration": 19,
    "start_time": "2022-09-16T10:14:36.905Z"
   },
   {
    "duration": 236,
    "start_time": "2022-09-16T10:14:36.926Z"
   },
   {
    "duration": 17,
    "start_time": "2022-09-16T10:14:37.164Z"
   },
   {
    "duration": 2069,
    "start_time": "2022-09-16T10:14:37.184Z"
   },
   {
    "duration": 274,
    "start_time": "2022-09-16T10:14:39.256Z"
   },
   {
    "duration": 158,
    "start_time": "2022-09-16T10:14:39.531Z"
   },
   {
    "duration": 187,
    "start_time": "2022-09-16T10:14:39.691Z"
   },
   {
    "duration": 150,
    "start_time": "2022-09-16T17:07:51.742Z"
   },
   {
    "duration": 1991,
    "start_time": "2022-09-16T17:09:03.349Z"
   },
   {
    "duration": 159,
    "start_time": "2022-09-16T17:12:45.631Z"
   },
   {
    "duration": 1856,
    "start_time": "2022-09-16T17:12:51.131Z"
   },
   {
    "duration": 2117,
    "start_time": "2022-09-16T17:12:52.989Z"
   },
   {
    "duration": 67,
    "start_time": "2022-09-16T17:12:55.116Z"
   },
   {
    "duration": 53,
    "start_time": "2022-09-16T17:12:55.185Z"
   },
   {
    "duration": 116,
    "start_time": "2022-09-16T17:12:55.240Z"
   },
   {
    "duration": 19,
    "start_time": "2022-09-16T17:12:55.364Z"
   },
   {
    "duration": 5,
    "start_time": "2022-09-16T17:12:55.386Z"
   },
   {
    "duration": 69,
    "start_time": "2022-09-16T17:12:55.393Z"
   },
   {
    "duration": 19,
    "start_time": "2022-09-16T17:12:55.464Z"
   },
   {
    "duration": 216,
    "start_time": "2022-09-16T17:12:55.487Z"
   },
   {
    "duration": 39,
    "start_time": "2022-09-16T17:12:55.713Z"
   },
   {
    "duration": 2207,
    "start_time": "2022-09-16T17:12:55.754Z"
   },
   {
    "duration": 1,
    "start_time": "2022-09-16T17:12:57.979Z"
   },
   {
    "duration": 0,
    "start_time": "2022-09-16T17:12:57.987Z"
   },
   {
    "duration": 0,
    "start_time": "2022-09-16T17:12:57.989Z"
   },
   {
    "duration": 0,
    "start_time": "2022-09-16T17:12:57.991Z"
   },
   {
    "duration": 0,
    "start_time": "2022-09-16T17:12:57.992Z"
   },
   {
    "duration": 0,
    "start_time": "2022-09-16T17:12:57.994Z"
   },
   {
    "duration": 0,
    "start_time": "2022-09-16T17:12:57.995Z"
   },
   {
    "duration": 0,
    "start_time": "2022-09-16T17:12:57.996Z"
   },
   {
    "duration": 0,
    "start_time": "2022-09-16T17:12:57.998Z"
   },
   {
    "duration": 0,
    "start_time": "2022-09-16T17:12:57.999Z"
   },
   {
    "duration": 0,
    "start_time": "2022-09-16T17:12:58.000Z"
   },
   {
    "duration": 1,
    "start_time": "2022-09-16T17:12:58.001Z"
   },
   {
    "duration": 0,
    "start_time": "2022-09-16T17:12:58.003Z"
   },
   {
    "duration": 0,
    "start_time": "2022-09-16T17:12:58.004Z"
   },
   {
    "duration": 0,
    "start_time": "2022-09-16T17:12:58.006Z"
   },
   {
    "duration": 0,
    "start_time": "2022-09-16T17:12:58.009Z"
   },
   {
    "duration": 0,
    "start_time": "2022-09-16T17:12:58.010Z"
   },
   {
    "duration": 0,
    "start_time": "2022-09-16T17:12:58.011Z"
   },
   {
    "duration": 0,
    "start_time": "2022-09-16T17:12:58.013Z"
   },
   {
    "duration": 0,
    "start_time": "2022-09-16T17:12:58.021Z"
   },
   {
    "duration": 0,
    "start_time": "2022-09-16T17:12:58.023Z"
   },
   {
    "duration": 0,
    "start_time": "2022-09-16T17:12:58.024Z"
   },
   {
    "duration": 0,
    "start_time": "2022-09-16T17:12:58.025Z"
   },
   {
    "duration": 0,
    "start_time": "2022-09-16T17:12:58.031Z"
   },
   {
    "duration": 0,
    "start_time": "2022-09-16T17:12:58.032Z"
   },
   {
    "duration": 0,
    "start_time": "2022-09-16T17:12:58.034Z"
   },
   {
    "duration": 0,
    "start_time": "2022-09-16T17:12:58.042Z"
   },
   {
    "duration": 0,
    "start_time": "2022-09-16T17:12:58.043Z"
   },
   {
    "duration": 0,
    "start_time": "2022-09-16T17:12:58.045Z"
   },
   {
    "duration": 0,
    "start_time": "2022-09-16T17:12:58.046Z"
   },
   {
    "duration": 0,
    "start_time": "2022-09-16T17:12:58.047Z"
   },
   {
    "duration": 0,
    "start_time": "2022-09-16T17:12:58.048Z"
   },
   {
    "duration": 2001,
    "start_time": "2022-09-16T17:14:10.061Z"
   },
   {
    "duration": 1880,
    "start_time": "2022-09-16T17:14:19.053Z"
   },
   {
    "duration": 307,
    "start_time": "2022-09-16T17:14:20.939Z"
   },
   {
    "duration": 52,
    "start_time": "2022-09-16T17:14:21.247Z"
   },
   {
    "duration": 45,
    "start_time": "2022-09-16T17:14:21.300Z"
   },
   {
    "duration": 79,
    "start_time": "2022-09-16T17:14:21.350Z"
   },
   {
    "duration": 238,
    "start_time": "2022-09-16T17:14:21.434Z"
   },
   {
    "duration": 17,
    "start_time": "2022-09-16T17:14:21.677Z"
   },
   {
    "duration": 72,
    "start_time": "2022-09-16T17:14:21.702Z"
   },
   {
    "duration": 58,
    "start_time": "2022-09-16T17:14:21.776Z"
   },
   {
    "duration": 33,
    "start_time": "2022-09-16T17:14:21.836Z"
   },
   {
    "duration": 180,
    "start_time": "2022-09-16T17:14:21.872Z"
   },
   {
    "duration": 24,
    "start_time": "2022-09-16T17:14:22.060Z"
   },
   {
    "duration": 3,
    "start_time": "2022-09-16T17:14:22.086Z"
   },
   {
    "duration": 31,
    "start_time": "2022-09-16T17:14:22.092Z"
   },
   {
    "duration": 34,
    "start_time": "2022-09-16T17:14:22.131Z"
   },
   {
    "duration": 98,
    "start_time": "2022-09-16T17:14:22.167Z"
   },
   {
    "duration": 4,
    "start_time": "2022-09-16T17:14:22.267Z"
   },
   {
    "duration": 26,
    "start_time": "2022-09-16T17:14:22.273Z"
   },
   {
    "duration": 24,
    "start_time": "2022-09-16T17:14:22.301Z"
   },
   {
    "duration": 69,
    "start_time": "2022-09-16T17:14:22.331Z"
   },
   {
    "duration": 172,
    "start_time": "2022-09-16T17:14:22.402Z"
   },
   {
    "duration": 4,
    "start_time": "2022-09-16T17:14:22.576Z"
   },
   {
    "duration": 21,
    "start_time": "2022-09-16T17:14:22.582Z"
   },
   {
    "duration": 63,
    "start_time": "2022-09-16T17:14:22.604Z"
   },
   {
    "duration": 1807,
    "start_time": "2022-09-16T17:14:54.127Z"
   },
   {
    "duration": 412,
    "start_time": "2022-09-16T17:14:55.936Z"
   },
   {
    "duration": 83,
    "start_time": "2022-09-16T17:14:56.351Z"
   },
   {
    "duration": 121,
    "start_time": "2022-09-16T17:14:56.437Z"
   },
   {
    "duration": 122,
    "start_time": "2022-09-16T17:14:56.564Z"
   },
   {
    "duration": 983,
    "start_time": "2022-09-16T17:14:56.695Z"
   },
   {
    "duration": 28,
    "start_time": "2022-09-16T17:14:57.686Z"
   },
   {
    "duration": 112,
    "start_time": "2022-09-16T17:14:57.722Z"
   },
   {
    "duration": 223,
    "start_time": "2022-09-16T17:14:57.842Z"
   },
   {
    "duration": 45,
    "start_time": "2022-09-16T17:14:58.073Z"
   },
   {
    "duration": 461,
    "start_time": "2022-09-16T17:14:58.125Z"
   },
   {
    "duration": 47,
    "start_time": "2022-09-16T17:14:58.595Z"
   },
   {
    "duration": 58,
    "start_time": "2022-09-16T17:14:58.650Z"
   },
   {
    "duration": 26,
    "start_time": "2022-09-16T17:14:58.718Z"
   },
   {
    "duration": 47,
    "start_time": "2022-09-16T17:14:58.750Z"
   },
   {
    "duration": 212,
    "start_time": "2022-09-16T17:14:58.805Z"
   },
   {
    "duration": 12,
    "start_time": "2022-09-16T17:14:59.024Z"
   },
   {
    "duration": 133,
    "start_time": "2022-09-16T17:14:59.041Z"
   },
   {
    "duration": 78,
    "start_time": "2022-09-16T17:14:59.181Z"
   },
   {
    "duration": 98,
    "start_time": "2022-09-16T17:14:59.263Z"
   },
   {
    "duration": 224,
    "start_time": "2022-09-16T17:14:59.364Z"
   },
   {
    "duration": 14,
    "start_time": "2022-09-16T17:14:59.590Z"
   },
   {
    "duration": 76,
    "start_time": "2022-09-16T17:14:59.606Z"
   },
   {
    "duration": 114,
    "start_time": "2022-09-16T17:14:59.684Z"
   },
   {
    "duration": 75025,
    "start_time": "2022-09-16T17:14:59.800Z"
   },
   {
    "duration": 0,
    "start_time": "2022-09-16T17:16:14.828Z"
   },
   {
    "duration": 0,
    "start_time": "2022-09-16T17:16:14.829Z"
   },
   {
    "duration": 0,
    "start_time": "2022-09-16T17:16:14.830Z"
   },
   {
    "duration": 0,
    "start_time": "2022-09-16T17:16:14.832Z"
   },
   {
    "duration": 0,
    "start_time": "2022-09-16T17:16:14.833Z"
   },
   {
    "duration": 0,
    "start_time": "2022-09-16T17:16:14.834Z"
   },
   {
    "duration": 0,
    "start_time": "2022-09-16T17:16:14.835Z"
   },
   {
    "duration": 0,
    "start_time": "2022-09-16T17:16:14.836Z"
   },
   {
    "duration": 0,
    "start_time": "2022-09-16T17:16:14.837Z"
   },
   {
    "duration": 0,
    "start_time": "2022-09-16T17:16:14.838Z"
   },
   {
    "duration": 0,
    "start_time": "2022-09-16T17:16:14.839Z"
   },
   {
    "duration": 0,
    "start_time": "2022-09-16T17:16:14.840Z"
   },
   {
    "duration": 0,
    "start_time": "2022-09-16T17:16:14.841Z"
   },
   {
    "duration": 0,
    "start_time": "2022-09-16T17:16:14.842Z"
   },
   {
    "duration": 0,
    "start_time": "2022-09-16T17:16:14.843Z"
   },
   {
    "duration": 0,
    "start_time": "2022-09-16T17:16:14.844Z"
   },
   {
    "duration": 0,
    "start_time": "2022-09-16T17:16:14.845Z"
   },
   {
    "duration": 0,
    "start_time": "2022-09-16T17:16:14.847Z"
   },
   {
    "duration": 0,
    "start_time": "2022-09-16T17:16:14.848Z"
   },
   {
    "duration": 0,
    "start_time": "2022-09-16T17:16:14.849Z"
   },
   {
    "duration": 0,
    "start_time": "2022-09-16T17:16:14.850Z"
   },
   {
    "duration": 0,
    "start_time": "2022-09-16T17:16:14.851Z"
   },
   {
    "duration": 0,
    "start_time": "2022-09-16T17:16:14.852Z"
   },
   {
    "duration": 0,
    "start_time": "2022-09-16T17:16:14.853Z"
   },
   {
    "duration": 0,
    "start_time": "2022-09-16T17:16:14.854Z"
   },
   {
    "duration": 6,
    "start_time": "2022-09-16T17:16:16.358Z"
   },
   {
    "duration": 326,
    "start_time": "2022-09-16T17:16:16.784Z"
   },
   {
    "duration": 73,
    "start_time": "2022-09-16T17:16:18.264Z"
   },
   {
    "duration": 59,
    "start_time": "2022-09-16T17:16:18.752Z"
   },
   {
    "duration": 81,
    "start_time": "2022-09-16T17:16:19.446Z"
   },
   {
    "duration": 771,
    "start_time": "2022-09-16T17:16:22.229Z"
   },
   {
    "duration": 3277,
    "start_time": "2022-09-16T17:16:45.496Z"
   },
   {
    "duration": 502,
    "start_time": "2022-09-16T17:17:30.377Z"
   },
   {
    "duration": 116,
    "start_time": "2022-09-16T17:18:00.760Z"
   },
   {
    "duration": 181,
    "start_time": "2022-09-16T17:18:08.355Z"
   },
   {
    "duration": 162,
    "start_time": "2022-09-16T17:18:34.292Z"
   },
   {
    "duration": 12,
    "start_time": "2022-09-16T17:18:34.554Z"
   },
   {
    "duration": 5,
    "start_time": "2022-09-16T17:18:48.997Z"
   },
   {
    "duration": 262,
    "start_time": "2022-09-16T17:18:49.363Z"
   },
   {
    "duration": 67,
    "start_time": "2022-09-16T17:18:50.370Z"
   },
   {
    "duration": 34,
    "start_time": "2022-09-16T17:18:50.750Z"
   },
   {
    "duration": 80,
    "start_time": "2022-09-16T17:18:51.121Z"
   },
   {
    "duration": 399,
    "start_time": "2022-09-16T17:18:53.176Z"
   },
   {
    "duration": 203,
    "start_time": "2022-09-16T17:19:44.937Z"
   },
   {
    "duration": 161,
    "start_time": "2022-09-16T17:23:44.600Z"
   },
   {
    "duration": 218,
    "start_time": "2022-09-16T17:33:31.076Z"
   },
   {
    "duration": 51864,
    "start_time": "2022-09-16T17:39:18.636Z"
   },
   {
    "duration": 16,
    "start_time": "2022-09-16T17:41:33.480Z"
   },
   {
    "duration": 21,
    "start_time": "2022-09-16T17:42:03.043Z"
   },
   {
    "duration": 6270,
    "start_time": "2022-09-16T17:45:22.909Z"
   },
   {
    "duration": 287,
    "start_time": "2022-09-16T17:45:56.397Z"
   },
   {
    "duration": 557,
    "start_time": "2022-09-16T17:46:50.568Z"
   },
   {
    "duration": 1113,
    "start_time": "2022-09-16T17:47:07.764Z"
   },
   {
    "duration": 4,
    "start_time": "2022-09-16T18:04:39.152Z"
   },
   {
    "duration": 13,
    "start_time": "2022-09-16T18:07:29.160Z"
   },
   {
    "duration": 45,
    "start_time": "2022-09-16T18:07:35.677Z"
   },
   {
    "duration": 1354,
    "start_time": "2022-09-16T18:07:56.639Z"
   },
   {
    "duration": 40,
    "start_time": "2022-09-16T18:14:21.628Z"
   },
   {
    "duration": 45,
    "start_time": "2022-09-16T18:14:32.423Z"
   },
   {
    "duration": 42,
    "start_time": "2022-09-16T18:14:59.050Z"
   },
   {
    "duration": 37,
    "start_time": "2022-09-16T18:15:09.330Z"
   },
   {
    "duration": 30,
    "start_time": "2022-09-16T18:15:32.466Z"
   },
   {
    "duration": 32,
    "start_time": "2022-09-16T18:20:28.479Z"
   },
   {
    "duration": 28,
    "start_time": "2022-09-16T18:20:56.849Z"
   },
   {
    "duration": 21,
    "start_time": "2022-09-16T18:22:26.069Z"
   },
   {
    "duration": 23,
    "start_time": "2022-09-16T18:22:47.627Z"
   },
   {
    "duration": 39,
    "start_time": "2022-09-16T18:22:55.334Z"
   },
   {
    "duration": 2048,
    "start_time": "2022-09-16T18:23:50.078Z"
   },
   {
    "duration": 3176,
    "start_time": "2022-09-16T18:24:04.552Z"
   },
   {
    "duration": 21,
    "start_time": "2022-09-16T18:25:28.961Z"
   },
   {
    "duration": 1761,
    "start_time": "2022-09-16T18:26:01.848Z"
   },
   {
    "duration": 337,
    "start_time": "2022-09-16T18:26:03.610Z"
   },
   {
    "duration": 64,
    "start_time": "2022-09-16T18:26:03.949Z"
   },
   {
    "duration": 59,
    "start_time": "2022-09-16T18:26:04.015Z"
   },
   {
    "duration": 176,
    "start_time": "2022-09-16T18:26:04.079Z"
   },
   {
    "duration": 456,
    "start_time": "2022-09-16T18:26:04.263Z"
   },
   {
    "duration": 1011,
    "start_time": "2022-09-16T18:26:04.723Z"
   },
   {
    "duration": 293,
    "start_time": "2022-09-16T18:26:05.737Z"
   },
   {
    "duration": 373,
    "start_time": "2022-09-16T18:26:06.045Z"
   },
   {
    "duration": 315,
    "start_time": "2022-09-16T18:26:06.426Z"
   },
   {
    "duration": 7,
    "start_time": "2022-09-16T18:26:06.748Z"
   },
   {
    "duration": 44,
    "start_time": "2022-09-16T18:26:06.756Z"
   },
   {
    "duration": 97,
    "start_time": "2022-09-16T18:26:06.802Z"
   },
   {
    "duration": 66,
    "start_time": "2022-09-16T18:26:06.901Z"
   },
   {
    "duration": 190,
    "start_time": "2022-09-16T18:26:06.970Z"
   },
   {
    "duration": 29,
    "start_time": "2022-09-16T18:26:07.163Z"
   },
   {
    "duration": 3,
    "start_time": "2022-09-16T18:26:07.194Z"
   },
   {
    "duration": 1364,
    "start_time": "2022-09-16T18:26:07.209Z"
   },
   {
    "duration": 45,
    "start_time": "2022-09-16T18:26:08.575Z"
   },
   {
    "duration": 3081,
    "start_time": "2022-09-16T18:26:08.623Z"
   },
   {
    "duration": 25,
    "start_time": "2022-09-16T18:26:11.709Z"
   },
   {
    "duration": 13,
    "start_time": "2022-09-16T18:26:11.740Z"
   },
   {
    "duration": 46,
    "start_time": "2022-09-16T18:26:11.755Z"
   },
   {
    "duration": 73,
    "start_time": "2022-09-16T18:26:11.810Z"
   },
   {
    "duration": 82,
    "start_time": "2022-09-16T18:26:11.886Z"
   },
   {
    "duration": 8,
    "start_time": "2022-09-16T18:26:11.972Z"
   },
   {
    "duration": 122,
    "start_time": "2022-09-16T18:26:11.981Z"
   },
   {
    "duration": 9,
    "start_time": "2022-09-16T18:26:12.107Z"
   },
   {
    "duration": 60,
    "start_time": "2022-09-16T18:26:12.126Z"
   },
   {
    "duration": 299,
    "start_time": "2022-09-16T18:26:12.188Z"
   },
   {
    "duration": 3,
    "start_time": "2022-09-16T18:26:12.490Z"
   },
   {
    "duration": 67,
    "start_time": "2022-09-16T18:26:12.495Z"
   },
   {
    "duration": 19,
    "start_time": "2022-09-16T18:26:12.563Z"
   },
   {
    "duration": 187,
    "start_time": "2022-09-16T18:26:12.584Z"
   },
   {
    "duration": 0,
    "start_time": "2022-09-16T18:26:12.773Z"
   },
   {
    "duration": 0,
    "start_time": "2022-09-16T18:26:12.774Z"
   },
   {
    "duration": 0,
    "start_time": "2022-09-16T18:26:12.775Z"
   },
   {
    "duration": 0,
    "start_time": "2022-09-16T18:26:12.777Z"
   },
   {
    "duration": 0,
    "start_time": "2022-09-16T18:26:12.778Z"
   },
   {
    "duration": 0,
    "start_time": "2022-09-16T18:26:12.779Z"
   },
   {
    "duration": 0,
    "start_time": "2022-09-16T18:26:12.781Z"
   },
   {
    "duration": 0,
    "start_time": "2022-09-16T18:26:12.782Z"
   },
   {
    "duration": 0,
    "start_time": "2022-09-16T18:26:12.783Z"
   },
   {
    "duration": 0,
    "start_time": "2022-09-16T18:26:12.784Z"
   },
   {
    "duration": 0,
    "start_time": "2022-09-16T18:26:12.785Z"
   },
   {
    "duration": 0,
    "start_time": "2022-09-16T18:26:12.786Z"
   },
   {
    "duration": 0,
    "start_time": "2022-09-16T18:26:12.787Z"
   },
   {
    "duration": 0,
    "start_time": "2022-09-16T18:26:12.788Z"
   },
   {
    "duration": 0,
    "start_time": "2022-09-16T18:26:12.789Z"
   },
   {
    "duration": 0,
    "start_time": "2022-09-16T18:26:12.790Z"
   },
   {
    "duration": 0,
    "start_time": "2022-09-16T18:26:12.792Z"
   },
   {
    "duration": 0,
    "start_time": "2022-09-16T18:26:12.793Z"
   },
   {
    "duration": 0,
    "start_time": "2022-09-16T18:26:12.794Z"
   },
   {
    "duration": 2160,
    "start_time": "2022-09-16T18:26:58.881Z"
   },
   {
    "duration": 438,
    "start_time": "2022-09-16T18:27:01.044Z"
   },
   {
    "duration": 81,
    "start_time": "2022-09-16T18:27:01.484Z"
   },
   {
    "duration": 118,
    "start_time": "2022-09-16T18:27:01.576Z"
   },
   {
    "duration": 81,
    "start_time": "2022-09-16T18:27:01.696Z"
   },
   {
    "duration": 604,
    "start_time": "2022-09-16T18:27:01.779Z"
   },
   {
    "duration": 905,
    "start_time": "2022-09-16T18:27:02.386Z"
   },
   {
    "duration": 190,
    "start_time": "2022-09-16T18:27:03.292Z"
   },
   {
    "duration": 193,
    "start_time": "2022-09-16T18:27:03.484Z"
   },
   {
    "duration": 257,
    "start_time": "2022-09-16T18:27:03.681Z"
   },
   {
    "duration": 5,
    "start_time": "2022-09-16T18:27:03.945Z"
   },
   {
    "duration": 48,
    "start_time": "2022-09-16T18:27:03.955Z"
   },
   {
    "duration": 138,
    "start_time": "2022-09-16T18:27:04.006Z"
   },
   {
    "duration": 18,
    "start_time": "2022-09-16T18:27:04.146Z"
   },
   {
    "duration": 235,
    "start_time": "2022-09-16T18:27:04.169Z"
   },
   {
    "duration": 34,
    "start_time": "2022-09-16T18:27:04.414Z"
   },
   {
    "duration": 20,
    "start_time": "2022-09-16T18:27:04.451Z"
   },
   {
    "duration": 1424,
    "start_time": "2022-09-16T18:27:04.475Z"
   },
   {
    "duration": 60,
    "start_time": "2022-09-16T18:27:05.901Z"
   },
   {
    "duration": 30,
    "start_time": "2022-09-16T18:27:05.963Z"
   },
   {
    "duration": 3295,
    "start_time": "2022-09-16T18:27:05.995Z"
   },
   {
    "duration": 4,
    "start_time": "2022-09-16T18:27:09.293Z"
   },
   {
    "duration": 90,
    "start_time": "2022-09-16T18:27:09.302Z"
   },
   {
    "duration": 75,
    "start_time": "2022-09-16T18:27:09.394Z"
   },
   {
    "duration": 79,
    "start_time": "2022-09-16T18:27:09.471Z"
   },
   {
    "duration": 8,
    "start_time": "2022-09-16T18:27:09.551Z"
   },
   {
    "duration": 103,
    "start_time": "2022-09-16T18:27:09.568Z"
   },
   {
    "duration": 4,
    "start_time": "2022-09-16T18:27:09.676Z"
   },
   {
    "duration": 38,
    "start_time": "2022-09-16T18:27:09.682Z"
   },
   {
    "duration": 281,
    "start_time": "2022-09-16T18:27:09.722Z"
   },
   {
    "duration": 13,
    "start_time": "2022-09-16T18:27:10.005Z"
   },
   {
    "duration": 14,
    "start_time": "2022-09-16T18:27:10.026Z"
   },
   {
    "duration": 28,
    "start_time": "2022-09-16T18:27:10.042Z"
   },
   {
    "duration": 152,
    "start_time": "2022-09-16T18:27:10.071Z"
   },
   {
    "duration": 0,
    "start_time": "2022-09-16T18:27:10.225Z"
   },
   {
    "duration": 0,
    "start_time": "2022-09-16T18:27:10.226Z"
   },
   {
    "duration": 0,
    "start_time": "2022-09-16T18:27:10.238Z"
   },
   {
    "duration": 0,
    "start_time": "2022-09-16T18:27:10.241Z"
   },
   {
    "duration": 0,
    "start_time": "2022-09-16T18:27:10.256Z"
   },
   {
    "duration": 0,
    "start_time": "2022-09-16T18:27:10.261Z"
   },
   {
    "duration": 0,
    "start_time": "2022-09-16T18:27:10.261Z"
   },
   {
    "duration": 0,
    "start_time": "2022-09-16T18:27:10.262Z"
   },
   {
    "duration": 0,
    "start_time": "2022-09-16T18:27:10.263Z"
   },
   {
    "duration": 0,
    "start_time": "2022-09-16T18:27:10.263Z"
   },
   {
    "duration": 0,
    "start_time": "2022-09-16T18:27:10.264Z"
   },
   {
    "duration": 0,
    "start_time": "2022-09-16T18:27:10.265Z"
   },
   {
    "duration": 0,
    "start_time": "2022-09-16T18:27:10.269Z"
   },
   {
    "duration": 0,
    "start_time": "2022-09-16T18:27:10.273Z"
   },
   {
    "duration": 0,
    "start_time": "2022-09-16T18:27:10.275Z"
   },
   {
    "duration": 0,
    "start_time": "2022-09-16T18:27:10.276Z"
   },
   {
    "duration": 0,
    "start_time": "2022-09-16T18:27:10.278Z"
   },
   {
    "duration": 0,
    "start_time": "2022-09-16T18:27:10.281Z"
   },
   {
    "duration": 0,
    "start_time": "2022-09-16T18:27:10.282Z"
   },
   {
    "duration": 2035,
    "start_time": "2022-09-16T18:27:23.838Z"
   },
   {
    "duration": 324,
    "start_time": "2022-09-16T18:27:25.876Z"
   },
   {
    "duration": 106,
    "start_time": "2022-09-16T18:27:26.202Z"
   },
   {
    "duration": 52,
    "start_time": "2022-09-16T18:27:26.309Z"
   },
   {
    "duration": 117,
    "start_time": "2022-09-16T18:27:26.365Z"
   },
   {
    "duration": 614,
    "start_time": "2022-09-16T18:27:26.485Z"
   },
   {
    "duration": 964,
    "start_time": "2022-09-16T18:27:27.101Z"
   },
   {
    "duration": 187,
    "start_time": "2022-09-16T18:27:28.070Z"
   },
   {
    "duration": 203,
    "start_time": "2022-09-16T18:27:28.262Z"
   },
   {
    "duration": 203,
    "start_time": "2022-09-16T18:27:28.467Z"
   },
   {
    "duration": 2,
    "start_time": "2022-09-16T18:27:28.672Z"
   },
   {
    "duration": 27,
    "start_time": "2022-09-16T18:27:28.676Z"
   },
   {
    "duration": 139,
    "start_time": "2022-09-16T18:27:28.705Z"
   },
   {
    "duration": 37,
    "start_time": "2022-09-16T18:27:28.852Z"
   },
   {
    "duration": 210,
    "start_time": "2022-09-16T18:27:28.891Z"
   },
   {
    "duration": 32,
    "start_time": "2022-09-16T18:27:29.103Z"
   },
   {
    "duration": 12,
    "start_time": "2022-09-16T18:27:29.140Z"
   },
   {
    "duration": 1553,
    "start_time": "2022-09-16T18:27:29.158Z"
   },
   {
    "duration": 71,
    "start_time": "2022-09-16T18:27:30.716Z"
   },
   {
    "duration": 27,
    "start_time": "2022-09-16T18:27:30.789Z"
   },
   {
    "duration": 2951,
    "start_time": "2022-09-16T18:27:30.819Z"
   },
   {
    "duration": 6,
    "start_time": "2022-09-16T18:27:33.773Z"
   },
   {
    "duration": 37,
    "start_time": "2022-09-16T18:27:33.781Z"
   },
   {
    "duration": 41,
    "start_time": "2022-09-16T18:27:33.823Z"
   },
   {
    "duration": 182,
    "start_time": "2022-09-16T18:27:33.866Z"
   },
   {
    "duration": 5,
    "start_time": "2022-09-16T18:27:34.050Z"
   },
   {
    "duration": 82,
    "start_time": "2022-09-16T18:27:34.057Z"
   },
   {
    "duration": 11,
    "start_time": "2022-09-16T18:27:34.142Z"
   },
   {
    "duration": 42,
    "start_time": "2022-09-16T18:27:34.156Z"
   },
   {
    "duration": 755,
    "start_time": "2022-09-16T18:27:34.201Z"
   },
   {
    "duration": 6,
    "start_time": "2022-09-16T18:27:34.959Z"
   },
   {
    "duration": 35,
    "start_time": "2022-09-16T18:27:34.968Z"
   },
   {
    "duration": 74,
    "start_time": "2022-09-16T18:27:35.007Z"
   },
   {
    "duration": 261058,
    "start_time": "2022-09-16T18:27:35.090Z"
   },
   {
    "duration": 5,
    "start_time": "2022-09-16T18:31:56.154Z"
   },
   {
    "duration": 16,
    "start_time": "2022-09-16T18:31:56.161Z"
   },
   {
    "duration": 279,
    "start_time": "2022-09-16T18:31:56.179Z"
   },
   {
    "duration": 35707,
    "start_time": "2022-09-16T18:31:56.460Z"
   },
   {
    "duration": 1412,
    "start_time": "2022-09-16T18:32:32.168Z"
   },
   {
    "duration": 683,
    "start_time": "2022-09-16T18:32:33.586Z"
   },
   {
    "duration": 0,
    "start_time": "2022-09-16T18:32:34.271Z"
   },
   {
    "duration": 0,
    "start_time": "2022-09-16T18:32:34.272Z"
   },
   {
    "duration": 0,
    "start_time": "2022-09-16T18:32:34.272Z"
   },
   {
    "duration": 0,
    "start_time": "2022-09-16T18:32:34.273Z"
   },
   {
    "duration": 0,
    "start_time": "2022-09-16T18:32:34.274Z"
   },
   {
    "duration": 0,
    "start_time": "2022-09-16T18:32:34.275Z"
   },
   {
    "duration": 0,
    "start_time": "2022-09-16T18:32:34.276Z"
   },
   {
    "duration": 0,
    "start_time": "2022-09-16T18:32:34.277Z"
   },
   {
    "duration": 0,
    "start_time": "2022-09-16T18:32:34.278Z"
   },
   {
    "duration": 0,
    "start_time": "2022-09-16T18:32:34.278Z"
   },
   {
    "duration": 0,
    "start_time": "2022-09-16T18:32:34.279Z"
   },
   {
    "duration": 0,
    "start_time": "2022-09-16T18:32:34.281Z"
   },
   {
    "duration": 0,
    "start_time": "2022-09-16T18:32:34.282Z"
   },
   {
    "duration": 11,
    "start_time": "2022-09-16T18:42:35.122Z"
   },
   {
    "duration": 649,
    "start_time": "2022-09-16T18:46:19.635Z"
   },
   {
    "duration": 13,
    "start_time": "2022-09-16T18:48:17.226Z"
   },
   {
    "duration": 7,
    "start_time": "2022-09-16T18:48:32.311Z"
   },
   {
    "duration": 3106,
    "start_time": "2022-09-16T18:49:06.003Z"
   },
   {
    "duration": 468,
    "start_time": "2022-09-16T18:49:09.122Z"
   },
   {
    "duration": 138,
    "start_time": "2022-09-16T18:49:09.601Z"
   },
   {
    "duration": 159,
    "start_time": "2022-09-16T18:49:09.751Z"
   },
   {
    "duration": 169,
    "start_time": "2022-09-16T18:49:09.913Z"
   },
   {
    "duration": 769,
    "start_time": "2022-09-16T18:49:10.089Z"
   },
   {
    "duration": 1196,
    "start_time": "2022-09-16T18:49:10.866Z"
   },
   {
    "duration": 259,
    "start_time": "2022-09-16T18:49:12.079Z"
   },
   {
    "duration": 354,
    "start_time": "2022-09-16T18:49:12.344Z"
   },
   {
    "duration": 319,
    "start_time": "2022-09-16T18:49:12.711Z"
   },
   {
    "duration": 6,
    "start_time": "2022-09-16T18:49:13.032Z"
   },
   {
    "duration": 141,
    "start_time": "2022-09-16T18:49:13.039Z"
   },
   {
    "duration": 248,
    "start_time": "2022-09-16T18:49:13.186Z"
   },
   {
    "duration": 36,
    "start_time": "2022-09-16T18:49:13.456Z"
   },
   {
    "duration": 448,
    "start_time": "2022-09-16T18:49:13.494Z"
   },
   {
    "duration": 62,
    "start_time": "2022-09-16T18:49:13.948Z"
   },
   {
    "duration": 76,
    "start_time": "2022-09-16T18:49:14.020Z"
   },
   {
    "duration": 1891,
    "start_time": "2022-09-16T18:49:14.110Z"
   },
   {
    "duration": 38,
    "start_time": "2022-09-16T18:49:16.012Z"
   },
   {
    "duration": 101,
    "start_time": "2022-09-16T18:49:16.057Z"
   },
   {
    "duration": 249,
    "start_time": "2022-09-16T18:49:16.165Z"
   },
   {
    "duration": 133,
    "start_time": "2022-09-16T18:49:16.421Z"
   },
   {
    "duration": 360,
    "start_time": "2022-09-16T18:49:16.562Z"
   },
   {
    "duration": 9,
    "start_time": "2022-09-16T18:49:16.925Z"
   },
   {
    "duration": 386,
    "start_time": "2022-09-16T18:49:16.936Z"
   },
   {
    "duration": 0,
    "start_time": "2022-09-16T18:49:17.335Z"
   },
   {
    "duration": 0,
    "start_time": "2022-09-16T18:49:17.336Z"
   },
   {
    "duration": 0,
    "start_time": "2022-09-16T18:49:17.337Z"
   },
   {
    "duration": 0,
    "start_time": "2022-09-16T18:49:17.337Z"
   },
   {
    "duration": 0,
    "start_time": "2022-09-16T18:49:17.355Z"
   },
   {
    "duration": 0,
    "start_time": "2022-09-16T18:49:17.355Z"
   },
   {
    "duration": 0,
    "start_time": "2022-09-16T18:49:17.356Z"
   },
   {
    "duration": 0,
    "start_time": "2022-09-16T18:49:17.357Z"
   },
   {
    "duration": 0,
    "start_time": "2022-09-16T18:49:17.357Z"
   },
   {
    "duration": 0,
    "start_time": "2022-09-16T18:49:17.378Z"
   },
   {
    "duration": 0,
    "start_time": "2022-09-16T18:49:17.379Z"
   },
   {
    "duration": 0,
    "start_time": "2022-09-16T18:49:17.380Z"
   },
   {
    "duration": 0,
    "start_time": "2022-09-16T18:49:17.381Z"
   },
   {
    "duration": 0,
    "start_time": "2022-09-16T18:49:17.386Z"
   },
   {
    "duration": 0,
    "start_time": "2022-09-16T18:49:17.388Z"
   },
   {
    "duration": 0,
    "start_time": "2022-09-16T18:49:17.389Z"
   },
   {
    "duration": 0,
    "start_time": "2022-09-16T18:49:17.400Z"
   },
   {
    "duration": 0,
    "start_time": "2022-09-16T18:49:17.401Z"
   },
   {
    "duration": 0,
    "start_time": "2022-09-16T18:49:17.402Z"
   },
   {
    "duration": 0,
    "start_time": "2022-09-16T18:49:17.403Z"
   },
   {
    "duration": 0,
    "start_time": "2022-09-16T18:49:17.404Z"
   },
   {
    "duration": 0,
    "start_time": "2022-09-16T18:49:17.405Z"
   },
   {
    "duration": 0,
    "start_time": "2022-09-16T18:49:17.419Z"
   },
   {
    "duration": 0,
    "start_time": "2022-09-16T18:49:17.420Z"
   },
   {
    "duration": 1,
    "start_time": "2022-09-16T18:49:17.420Z"
   },
   {
    "duration": 0,
    "start_time": "2022-09-16T18:49:17.421Z"
   },
   {
    "duration": 0,
    "start_time": "2022-09-16T18:49:17.431Z"
   },
   {
    "duration": 2015,
    "start_time": "2022-09-16T18:50:02.854Z"
   },
   {
    "duration": 325,
    "start_time": "2022-09-16T18:50:04.876Z"
   },
   {
    "duration": 87,
    "start_time": "2022-09-16T18:50:05.203Z"
   },
   {
    "duration": 55,
    "start_time": "2022-09-16T18:50:05.292Z"
   },
   {
    "duration": 148,
    "start_time": "2022-09-16T18:50:05.352Z"
   },
   {
    "duration": 549,
    "start_time": "2022-09-16T18:50:05.502Z"
   },
   {
    "duration": 957,
    "start_time": "2022-09-16T18:50:06.056Z"
   },
   {
    "duration": 219,
    "start_time": "2022-09-16T18:50:07.019Z"
   },
   {
    "duration": 219,
    "start_time": "2022-09-16T18:50:07.244Z"
   },
   {
    "duration": 219,
    "start_time": "2022-09-16T18:50:07.469Z"
   },
   {
    "duration": 7,
    "start_time": "2022-09-16T18:50:07.693Z"
   },
   {
    "duration": 104,
    "start_time": "2022-09-16T18:50:07.706Z"
   },
   {
    "duration": 142,
    "start_time": "2022-09-16T18:50:07.816Z"
   },
   {
    "duration": 27,
    "start_time": "2022-09-16T18:50:07.965Z"
   },
   {
    "duration": 305,
    "start_time": "2022-09-16T18:50:07.997Z"
   },
   {
    "duration": 42,
    "start_time": "2022-09-16T18:50:08.312Z"
   },
   {
    "duration": 77,
    "start_time": "2022-09-16T18:50:08.359Z"
   },
   {
    "duration": 1716,
    "start_time": "2022-09-16T18:50:08.441Z"
   },
   {
    "duration": 36,
    "start_time": "2022-09-16T18:50:10.167Z"
   },
   {
    "duration": 87,
    "start_time": "2022-09-16T18:50:10.205Z"
   },
   {
    "duration": 86,
    "start_time": "2022-09-16T18:50:10.294Z"
   },
   {
    "duration": 92,
    "start_time": "2022-09-16T18:50:10.382Z"
   },
   {
    "duration": 294,
    "start_time": "2022-09-16T18:50:10.476Z"
   },
   {
    "duration": 14,
    "start_time": "2022-09-16T18:50:10.783Z"
   },
   {
    "duration": 66,
    "start_time": "2022-09-16T18:50:10.799Z"
   },
   {
    "duration": 90,
    "start_time": "2022-09-16T18:50:10.866Z"
   },
   {
    "duration": 24,
    "start_time": "2022-09-16T18:50:10.958Z"
   },
   {
    "duration": 84,
    "start_time": "2022-09-16T18:50:10.984Z"
   },
   {
    "duration": 917,
    "start_time": "2022-09-16T18:50:11.069Z"
   },
   {
    "duration": 15,
    "start_time": "2022-09-16T18:50:11.995Z"
   },
   {
    "duration": 99,
    "start_time": "2022-09-16T18:50:12.021Z"
   },
   {
    "duration": 63,
    "start_time": "2022-09-16T18:50:12.122Z"
   },
   {
    "duration": 2432,
    "start_time": "2022-09-16T18:51:56.298Z"
   },
   {
    "duration": 448,
    "start_time": "2022-09-16T18:51:58.738Z"
   },
   {
    "duration": 116,
    "start_time": "2022-09-16T18:51:59.198Z"
   },
   {
    "duration": 197,
    "start_time": "2022-09-16T18:51:59.321Z"
   },
   {
    "duration": 168,
    "start_time": "2022-09-16T18:51:59.524Z"
   },
   {
    "duration": 563,
    "start_time": "2022-09-16T18:51:59.699Z"
   },
   {
    "duration": 1006,
    "start_time": "2022-09-16T18:52:00.267Z"
   },
   {
    "duration": 226,
    "start_time": "2022-09-16T18:52:01.278Z"
   },
   {
    "duration": 288,
    "start_time": "2022-09-16T18:52:01.516Z"
   },
   {
    "duration": 241,
    "start_time": "2022-09-16T18:52:01.820Z"
   },
   {
    "duration": 3,
    "start_time": "2022-09-16T18:52:02.066Z"
   },
   {
    "duration": 78,
    "start_time": "2022-09-16T18:52:02.073Z"
   },
   {
    "duration": 120,
    "start_time": "2022-09-16T18:52:02.154Z"
   },
   {
    "duration": 50,
    "start_time": "2022-09-16T18:52:02.280Z"
   },
   {
    "duration": 282,
    "start_time": "2022-09-16T18:52:02.335Z"
   },
   {
    "duration": 43,
    "start_time": "2022-09-16T18:52:02.623Z"
   },
   {
    "duration": 110,
    "start_time": "2022-09-16T18:52:02.672Z"
   },
   {
    "duration": 1489,
    "start_time": "2022-09-16T18:52:02.788Z"
   },
   {
    "duration": 35,
    "start_time": "2022-09-16T18:52:04.281Z"
   },
   {
    "duration": 12,
    "start_time": "2022-09-16T18:52:04.324Z"
   },
   {
    "duration": 29,
    "start_time": "2022-09-16T18:52:04.341Z"
   },
   {
    "duration": 52,
    "start_time": "2022-09-16T18:52:04.387Z"
   },
   {
    "duration": 253,
    "start_time": "2022-09-16T18:52:04.451Z"
   },
   {
    "duration": 4,
    "start_time": "2022-09-16T18:52:04.711Z"
   },
   {
    "duration": 95,
    "start_time": "2022-09-16T18:52:04.717Z"
   },
   {
    "duration": 12,
    "start_time": "2022-09-16T18:52:04.817Z"
   },
   {
    "duration": 97,
    "start_time": "2022-09-16T18:52:04.833Z"
   },
   {
    "duration": 13,
    "start_time": "2022-09-16T18:52:04.943Z"
   },
   {
    "duration": 77,
    "start_time": "2022-09-16T18:52:04.961Z"
   },
   {
    "duration": 774,
    "start_time": "2022-09-16T18:52:05.040Z"
   },
   {
    "duration": 13,
    "start_time": "2022-09-16T18:52:05.815Z"
   },
   {
    "duration": 61,
    "start_time": "2022-09-16T18:52:05.837Z"
   },
   {
    "duration": 18,
    "start_time": "2022-09-16T18:52:05.900Z"
   },
   {
    "duration": 307207,
    "start_time": "2022-09-16T18:52:05.935Z"
   },
   {
    "duration": 10,
    "start_time": "2022-09-16T18:57:13.144Z"
   },
   {
    "duration": 29,
    "start_time": "2022-09-16T18:57:13.155Z"
   },
   {
    "duration": 5,
    "start_time": "2022-09-16T18:57:13.187Z"
   },
   {
    "duration": 429,
    "start_time": "2022-09-16T18:57:13.194Z"
   },
   {
    "duration": 0,
    "start_time": "2022-09-16T18:57:13.625Z"
   },
   {
    "duration": 0,
    "start_time": "2022-09-16T18:57:13.627Z"
   },
   {
    "duration": 0,
    "start_time": "2022-09-16T18:57:13.628Z"
   },
   {
    "duration": 0,
    "start_time": "2022-09-16T18:57:13.629Z"
   },
   {
    "duration": 0,
    "start_time": "2022-09-16T18:57:13.631Z"
   },
   {
    "duration": 0,
    "start_time": "2022-09-16T18:57:13.633Z"
   },
   {
    "duration": 0,
    "start_time": "2022-09-16T18:57:13.634Z"
   },
   {
    "duration": 0,
    "start_time": "2022-09-16T18:57:13.636Z"
   },
   {
    "duration": 0,
    "start_time": "2022-09-16T18:57:13.637Z"
   },
   {
    "duration": 0,
    "start_time": "2022-09-16T18:57:13.639Z"
   },
   {
    "duration": 0,
    "start_time": "2022-09-16T18:57:13.640Z"
   },
   {
    "duration": 0,
    "start_time": "2022-09-16T18:57:13.642Z"
   },
   {
    "duration": 1,
    "start_time": "2022-09-16T18:57:13.643Z"
   },
   {
    "duration": 0,
    "start_time": "2022-09-16T18:57:13.646Z"
   },
   {
    "duration": 0,
    "start_time": "2022-09-16T18:57:13.647Z"
   },
   {
    "duration": 140,
    "start_time": "2022-09-16T19:00:04.933Z"
   },
   {
    "duration": 2778,
    "start_time": "2022-09-16T19:00:09.843Z"
   },
   {
    "duration": 2920,
    "start_time": "2022-09-16T19:00:23.526Z"
   },
   {
    "duration": 40492,
    "start_time": "2022-09-16T19:00:32.966Z"
   },
   {
    "duration": 38,
    "start_time": "2022-09-16T19:02:14.523Z"
   },
   {
    "duration": 642,
    "start_time": "2022-09-16T19:02:24.331Z"
   },
   {
    "duration": 101601,
    "start_time": "2022-09-16T19:02:24.978Z"
   },
   {
    "duration": 1692,
    "start_time": "2022-09-16T19:11:49.787Z"
   },
   {
    "duration": 281,
    "start_time": "2022-09-16T19:11:51.481Z"
   },
   {
    "duration": 66,
    "start_time": "2022-09-16T19:11:51.764Z"
   },
   {
    "duration": 44,
    "start_time": "2022-09-16T19:11:51.843Z"
   },
   {
    "duration": 73,
    "start_time": "2022-09-16T19:11:51.889Z"
   },
   {
    "duration": 473,
    "start_time": "2022-09-16T19:11:51.965Z"
   },
   {
    "duration": 811,
    "start_time": "2022-09-16T19:11:52.442Z"
   },
   {
    "duration": 166,
    "start_time": "2022-09-16T19:11:53.255Z"
   },
   {
    "duration": 172,
    "start_time": "2022-09-16T19:11:53.426Z"
   },
   {
    "duration": 169,
    "start_time": "2022-09-16T19:11:53.610Z"
   },
   {
    "duration": 2,
    "start_time": "2022-09-16T19:11:53.781Z"
   },
   {
    "duration": 6,
    "start_time": "2022-09-16T19:11:53.785Z"
   },
   {
    "duration": 68,
    "start_time": "2022-09-16T19:11:53.793Z"
   },
   {
    "duration": 11,
    "start_time": "2022-09-16T19:11:53.863Z"
   },
   {
    "duration": 183,
    "start_time": "2022-09-16T19:11:53.876Z"
   },
   {
    "duration": 20,
    "start_time": "2022-09-16T19:11:54.061Z"
   },
   {
    "duration": 3,
    "start_time": "2022-09-16T19:11:54.082Z"
   },
   {
    "duration": 1144,
    "start_time": "2022-09-16T19:11:54.086Z"
   },
   {
    "duration": 27,
    "start_time": "2022-09-16T19:11:55.235Z"
   },
   {
    "duration": 4,
    "start_time": "2022-09-16T19:11:55.265Z"
   },
   {
    "duration": 13,
    "start_time": "2022-09-16T19:11:55.271Z"
   },
   {
    "duration": 5,
    "start_time": "2022-09-16T19:11:55.286Z"
   },
   {
    "duration": 169,
    "start_time": "2022-09-16T19:11:55.293Z"
   },
   {
    "duration": 5,
    "start_time": "2022-09-16T19:11:55.466Z"
   },
   {
    "duration": 47,
    "start_time": "2022-09-16T19:11:55.472Z"
   },
   {
    "duration": 18,
    "start_time": "2022-09-16T19:11:55.520Z"
   },
   {
    "duration": 49,
    "start_time": "2022-09-16T19:11:55.540Z"
   },
   {
    "duration": 4,
    "start_time": "2022-09-16T19:11:55.592Z"
   },
   {
    "duration": 33,
    "start_time": "2022-09-16T19:11:55.597Z"
   },
   {
    "duration": 746,
    "start_time": "2022-09-16T19:11:55.632Z"
   },
   {
    "duration": 4,
    "start_time": "2022-09-16T19:11:56.380Z"
   },
   {
    "duration": 8,
    "start_time": "2022-09-16T19:11:56.386Z"
   },
   {
    "duration": 5,
    "start_time": "2022-09-16T19:11:56.396Z"
   },
   {
    "duration": 104821,
    "start_time": "2022-09-16T19:11:56.414Z"
   },
   {
    "duration": 6,
    "start_time": "2022-09-16T19:13:41.238Z"
   },
   {
    "duration": 135,
    "start_time": "2022-09-16T19:13:41.254Z"
   },
   {
    "duration": 0,
    "start_time": "2022-09-16T19:13:41.391Z"
   },
   {
    "duration": 0,
    "start_time": "2022-09-16T19:13:41.392Z"
   },
   {
    "duration": 0,
    "start_time": "2022-09-16T19:13:41.394Z"
   },
   {
    "duration": 0,
    "start_time": "2022-09-16T19:13:41.406Z"
   },
   {
    "duration": 0,
    "start_time": "2022-09-16T19:13:41.407Z"
   },
   {
    "duration": 0,
    "start_time": "2022-09-16T19:13:41.408Z"
   },
   {
    "duration": 0,
    "start_time": "2022-09-16T19:13:41.418Z"
   },
   {
    "duration": 0,
    "start_time": "2022-09-16T19:13:41.426Z"
   },
   {
    "duration": 0,
    "start_time": "2022-09-16T19:13:41.427Z"
   },
   {
    "duration": 0,
    "start_time": "2022-09-16T19:13:41.427Z"
   },
   {
    "duration": 0,
    "start_time": "2022-09-16T19:13:41.431Z"
   },
   {
    "duration": 0,
    "start_time": "2022-09-16T19:13:41.433Z"
   },
   {
    "duration": 0,
    "start_time": "2022-09-16T19:13:41.434Z"
   },
   {
    "duration": 0,
    "start_time": "2022-09-16T19:13:41.435Z"
   },
   {
    "duration": 0,
    "start_time": "2022-09-16T19:13:41.436Z"
   },
   {
    "duration": 0,
    "start_time": "2022-09-16T19:13:41.438Z"
   },
   {
    "duration": 0,
    "start_time": "2022-09-16T19:13:41.439Z"
   },
   {
    "duration": 3,
    "start_time": "2022-09-16T19:20:43.983Z"
   },
   {
    "duration": 27,
    "start_time": "2022-09-16T19:20:47.107Z"
   },
   {
    "duration": 5,
    "start_time": "2022-09-16T19:22:07.044Z"
   },
   {
    "duration": 19,
    "start_time": "2022-09-16T19:22:07.683Z"
   },
   {
    "duration": 4,
    "start_time": "2022-09-16T19:23:38.798Z"
   },
   {
    "duration": 6,
    "start_time": "2022-09-16T19:23:40.081Z"
   },
   {
    "duration": 7,
    "start_time": "2022-09-16T19:24:05.721Z"
   },
   {
    "duration": 35943,
    "start_time": "2022-09-16T19:24:07.236Z"
   },
   {
    "duration": 969,
    "start_time": "2022-09-16T19:24:43.182Z"
   },
   {
    "duration": 386,
    "start_time": "2022-09-16T19:24:44.159Z"
   },
   {
    "duration": 50,
    "start_time": "2022-09-16T19:26:27.672Z"
   },
   {
    "duration": 139,
    "start_time": "2022-09-16T19:26:27.724Z"
   },
   {
    "duration": 16,
    "start_time": "2022-09-16T19:26:27.874Z"
   },
   {
    "duration": 265,
    "start_time": "2022-09-16T19:26:27.892Z"
   },
   {
    "duration": 36,
    "start_time": "2022-09-16T19:26:28.159Z"
   },
   {
    "duration": 2463,
    "start_time": "2022-09-16T19:26:28.197Z"
   },
   {
    "duration": 235,
    "start_time": "2022-09-16T19:26:30.663Z"
   },
   {
    "duration": 214,
    "start_time": "2022-09-16T19:26:30.900Z"
   },
   {
    "duration": 218,
    "start_time": "2022-09-16T19:26:31.116Z"
   },
   {
    "duration": 340,
    "start_time": "2022-09-16T19:26:31.337Z"
   },
   {
    "duration": 423,
    "start_time": "2022-09-16T19:26:31.679Z"
   },
   {
    "duration": 100658,
    "start_time": "2022-09-16T19:26:32.108Z"
   },
   {
    "duration": 33,
    "start_time": "2022-09-16T19:28:12.769Z"
   },
   {
    "duration": 21,
    "start_time": "2022-09-16T19:28:12.804Z"
   },
   {
    "duration": 40,
    "start_time": "2022-09-16T19:28:12.829Z"
   },
   {
    "duration": 46,
    "start_time": "2022-09-16T19:31:20.338Z"
   },
   {
    "duration": 45,
    "start_time": "2022-09-16T19:32:03.410Z"
   },
   {
    "duration": 364,
    "start_time": "2022-09-16T19:34:25.936Z"
   },
   {
    "duration": 1144,
    "start_time": "2022-09-16T19:34:42.594Z"
   },
   {
    "duration": 20,
    "start_time": "2022-09-16T19:36:18.506Z"
   },
   {
    "duration": 181,
    "start_time": "2022-09-16T19:36:42.349Z"
   },
   {
    "duration": 16,
    "start_time": "2022-09-16T19:36:51.136Z"
   },
   {
    "duration": 15,
    "start_time": "2022-09-16T19:36:51.644Z"
   },
   {
    "duration": 451,
    "start_time": "2022-09-16T19:37:52.239Z"
   },
   {
    "duration": 38837,
    "start_time": "2022-09-16T19:38:41.973Z"
   },
   {
    "duration": 1740,
    "start_time": "2022-09-17T14:19:43.902Z"
   },
   {
    "duration": 659,
    "start_time": "2022-09-17T14:19:45.646Z"
   },
   {
    "duration": 38,
    "start_time": "2022-09-17T14:19:46.306Z"
   },
   {
    "duration": 52,
    "start_time": "2022-09-17T14:19:46.345Z"
   },
   {
    "duration": 56,
    "start_time": "2022-09-17T14:19:46.399Z"
   },
   {
    "duration": 381,
    "start_time": "2022-09-17T14:19:46.456Z"
   },
   {
    "duration": 711,
    "start_time": "2022-09-17T14:19:46.838Z"
   },
   {
    "duration": 167,
    "start_time": "2022-09-17T14:19:47.550Z"
   },
   {
    "duration": 165,
    "start_time": "2022-09-17T14:19:47.718Z"
   },
   {
    "duration": 161,
    "start_time": "2022-09-17T14:19:47.884Z"
   },
   {
    "duration": 2,
    "start_time": "2022-09-17T14:19:48.047Z"
   },
   {
    "duration": 6,
    "start_time": "2022-09-17T14:19:48.051Z"
   },
   {
    "duration": 58,
    "start_time": "2022-09-17T14:19:48.058Z"
   },
   {
    "duration": 11,
    "start_time": "2022-09-17T14:19:48.119Z"
   },
   {
    "duration": 163,
    "start_time": "2022-09-17T14:19:48.132Z"
   },
   {
    "duration": 21,
    "start_time": "2022-09-17T14:19:48.297Z"
   },
   {
    "duration": 8,
    "start_time": "2022-09-17T14:19:48.319Z"
   },
   {
    "duration": 1110,
    "start_time": "2022-09-17T14:19:48.329Z"
   },
   {
    "duration": 20,
    "start_time": "2022-09-17T14:19:49.440Z"
   },
   {
    "duration": 3,
    "start_time": "2022-09-17T14:19:49.462Z"
   },
   {
    "duration": 20,
    "start_time": "2022-09-17T14:19:49.466Z"
   },
   {
    "duration": 16,
    "start_time": "2022-09-17T14:19:49.492Z"
   },
   {
    "duration": 134,
    "start_time": "2022-09-17T14:19:49.510Z"
   },
   {
    "duration": 4,
    "start_time": "2022-09-17T14:19:49.646Z"
   },
   {
    "duration": 40,
    "start_time": "2022-09-17T14:19:49.651Z"
   },
   {
    "duration": 4,
    "start_time": "2022-09-17T14:19:49.693Z"
   },
   {
    "duration": 34,
    "start_time": "2022-09-17T14:19:49.699Z"
   },
   {
    "duration": 3,
    "start_time": "2022-09-17T14:19:49.735Z"
   },
   {
    "duration": 23,
    "start_time": "2022-09-17T14:19:49.740Z"
   },
   {
    "duration": 657,
    "start_time": "2022-09-17T14:19:49.779Z"
   },
   {
    "duration": 4,
    "start_time": "2022-09-17T14:19:50.438Z"
   },
   {
    "duration": 9,
    "start_time": "2022-09-17T14:19:50.443Z"
   },
   {
    "duration": 6,
    "start_time": "2022-09-17T14:19:50.454Z"
   },
   {
    "duration": 94757,
    "start_time": "2022-09-17T14:19:50.462Z"
   },
   {
    "duration": 5,
    "start_time": "2022-09-17T14:21:25.220Z"
   },
   {
    "duration": 25,
    "start_time": "2022-09-17T14:21:25.226Z"
   },
   {
    "duration": 56,
    "start_time": "2022-09-17T14:21:25.253Z"
   },
   {
    "duration": 30851,
    "start_time": "2022-09-17T14:21:25.312Z"
   },
   {
    "duration": 301,
    "start_time": "2022-09-17T14:21:56.165Z"
   },
   {
    "duration": 375,
    "start_time": "2022-09-17T14:21:56.468Z"
   },
   {
    "duration": 93640,
    "start_time": "2022-09-17T14:21:56.847Z"
   },
   {
    "duration": 888,
    "start_time": "2022-09-17T14:23:30.491Z"
   },
   {
    "duration": 7,
    "start_time": "2022-09-17T14:23:31.384Z"
   },
   {
    "duration": 19,
    "start_time": "2022-09-17T14:23:31.394Z"
   },
   {
    "duration": 15,
    "start_time": "2022-09-17T14:23:31.416Z"
   },
   {
    "duration": 121,
    "start_time": "2022-09-17T14:23:31.433Z"
   },
   {
    "duration": 0,
    "start_time": "2022-09-17T14:23:31.556Z"
   },
   {
    "duration": 0,
    "start_time": "2022-09-17T14:23:31.558Z"
   },
   {
    "duration": 0,
    "start_time": "2022-09-17T14:23:31.559Z"
   },
   {
    "duration": 0,
    "start_time": "2022-09-17T14:23:31.560Z"
   },
   {
    "duration": 0,
    "start_time": "2022-09-17T14:23:31.562Z"
   },
   {
    "duration": 0,
    "start_time": "2022-09-17T14:23:31.579Z"
   },
   {
    "duration": 0,
    "start_time": "2022-09-17T14:23:31.580Z"
   },
   {
    "duration": 41,
    "start_time": "2022-09-17T14:25:02.968Z"
   },
   {
    "duration": 39,
    "start_time": "2022-09-17T14:25:13.590Z"
   },
   {
    "duration": 33,
    "start_time": "2022-09-17T14:25:27.841Z"
   },
   {
    "duration": 38,
    "start_time": "2022-09-17T14:27:07.795Z"
   },
   {
    "duration": 8,
    "start_time": "2022-09-17T14:27:26.504Z"
   },
   {
    "duration": 6,
    "start_time": "2022-09-17T14:27:39.211Z"
   },
   {
    "duration": 3264,
    "start_time": "2022-09-17T14:27:53.054Z"
   },
   {
    "duration": 4,
    "start_time": "2022-09-17T14:28:52.198Z"
   },
   {
    "duration": 1695,
    "start_time": "2022-09-17T14:29:01.977Z"
   },
   {
    "duration": 229,
    "start_time": "2022-09-17T14:29:04.250Z"
   },
   {
    "duration": 46,
    "start_time": "2022-09-17T14:29:06.561Z"
   },
   {
    "duration": 37,
    "start_time": "2022-09-17T14:29:09.399Z"
   },
   {
    "duration": 60,
    "start_time": "2022-09-17T14:29:12.990Z"
   },
   {
    "duration": 376,
    "start_time": "2022-09-17T14:29:15.530Z"
   },
   {
    "duration": 745,
    "start_time": "2022-09-17T14:29:18.629Z"
   },
   {
    "duration": 156,
    "start_time": "2022-09-17T14:29:24.215Z"
   },
   {
    "duration": 160,
    "start_time": "2022-09-17T14:29:26.143Z"
   },
   {
    "duration": 166,
    "start_time": "2022-09-17T14:29:28.643Z"
   },
   {
    "duration": 2,
    "start_time": "2022-09-17T14:29:31.422Z"
   },
   {
    "duration": 3,
    "start_time": "2022-09-17T14:29:33.943Z"
   },
   {
    "duration": 51,
    "start_time": "2022-09-17T14:29:35.288Z"
   },
   {
    "duration": 15,
    "start_time": "2022-09-17T14:29:38.739Z"
   },
   {
    "duration": 156,
    "start_time": "2022-09-17T14:29:41.595Z"
   },
   {
    "duration": 22,
    "start_time": "2022-09-17T14:32:11.841Z"
   },
   {
    "duration": 46,
    "start_time": "2022-09-17T14:52:20.970Z"
   },
   {
    "duration": 2,
    "start_time": "2022-09-17T14:52:24.334Z"
   },
   {
    "duration": 1234,
    "start_time": "2022-09-17T14:52:25.008Z"
   },
   {
    "duration": 17,
    "start_time": "2022-09-17T14:52:29.505Z"
   },
   {
    "duration": 4,
    "start_time": "2022-09-17T14:52:49.742Z"
   },
   {
    "duration": 12,
    "start_time": "2022-09-17T14:52:49.748Z"
   },
   {
    "duration": 5,
    "start_time": "2022-09-17T14:52:49.762Z"
   },
   {
    "duration": 178,
    "start_time": "2022-09-17T14:52:49.770Z"
   },
   {
    "duration": 5,
    "start_time": "2022-09-17T14:52:49.949Z"
   },
   {
    "duration": 44,
    "start_time": "2022-09-17T14:52:49.956Z"
   },
   {
    "duration": 6,
    "start_time": "2022-09-17T14:52:50.002Z"
   },
   {
    "duration": 36,
    "start_time": "2022-09-17T14:52:50.010Z"
   },
   {
    "duration": 4,
    "start_time": "2022-09-17T14:52:50.048Z"
   },
   {
    "duration": 52,
    "start_time": "2022-09-17T14:52:50.054Z"
   },
   {
    "duration": 1334,
    "start_time": "2022-09-17T14:52:50.112Z"
   },
   {
    "duration": 4,
    "start_time": "2022-09-17T14:52:51.447Z"
   },
   {
    "duration": 6,
    "start_time": "2022-09-17T14:52:51.453Z"
   },
   {
    "duration": 9,
    "start_time": "2022-09-17T14:52:51.461Z"
   },
   {
    "duration": 103590,
    "start_time": "2022-09-17T14:52:51.484Z"
   },
   {
    "duration": 16,
    "start_time": "2022-09-17T14:54:35.083Z"
   },
   {
    "duration": 21,
    "start_time": "2022-09-17T14:54:35.100Z"
   },
   {
    "duration": 7,
    "start_time": "2022-09-17T14:54:35.123Z"
   },
   {
    "duration": 35041,
    "start_time": "2022-09-17T14:54:35.132Z"
   },
   {
    "duration": 328,
    "start_time": "2022-09-17T14:55:10.174Z"
   },
   {
    "duration": 450,
    "start_time": "2022-09-17T14:55:10.504Z"
   },
   {
    "duration": 92147,
    "start_time": "2022-09-17T14:55:10.956Z"
   },
   {
    "duration": 1243,
    "start_time": "2022-09-17T14:56:43.104Z"
   },
   {
    "duration": 7,
    "start_time": "2022-09-17T14:56:44.349Z"
   },
   {
    "duration": 18,
    "start_time": "2022-09-17T14:56:44.358Z"
   },
   {
    "duration": 19,
    "start_time": "2022-09-17T14:56:44.378Z"
   },
   {
    "duration": 151,
    "start_time": "2022-09-17T14:56:44.400Z"
   },
   {
    "duration": 0,
    "start_time": "2022-09-17T14:56:44.553Z"
   },
   {
    "duration": 0,
    "start_time": "2022-09-17T14:56:44.554Z"
   },
   {
    "duration": 0,
    "start_time": "2022-09-17T14:56:44.555Z"
   },
   {
    "duration": 0,
    "start_time": "2022-09-17T14:56:44.556Z"
   },
   {
    "duration": 0,
    "start_time": "2022-09-17T14:56:44.557Z"
   },
   {
    "duration": 0,
    "start_time": "2022-09-17T14:56:44.558Z"
   },
   {
    "duration": 0,
    "start_time": "2022-09-17T14:56:44.559Z"
   },
   {
    "duration": 9,
    "start_time": "2022-09-17T20:14:24.610Z"
   },
   {
    "duration": 43,
    "start_time": "2022-09-17T20:14:25.878Z"
   },
   {
    "duration": 1515,
    "start_time": "2022-09-17T20:14:43.505Z"
   },
   {
    "duration": 454,
    "start_time": "2022-09-17T20:14:45.023Z"
   },
   {
    "duration": 40,
    "start_time": "2022-09-17T20:14:45.479Z"
   },
   {
    "duration": 35,
    "start_time": "2022-09-17T20:14:45.521Z"
   },
   {
    "duration": 59,
    "start_time": "2022-09-17T20:14:45.558Z"
   },
   {
    "duration": 387,
    "start_time": "2022-09-17T20:14:45.619Z"
   },
   {
    "duration": 770,
    "start_time": "2022-09-17T20:14:46.008Z"
   },
   {
    "duration": 151,
    "start_time": "2022-09-17T20:14:46.780Z"
   },
   {
    "duration": 166,
    "start_time": "2022-09-17T20:14:46.932Z"
   },
   {
    "duration": 166,
    "start_time": "2022-09-17T20:14:47.101Z"
   },
   {
    "duration": 3,
    "start_time": "2022-09-17T20:14:47.269Z"
   },
   {
    "duration": 9,
    "start_time": "2022-09-17T20:14:47.273Z"
   },
   {
    "duration": 41,
    "start_time": "2022-09-17T20:14:47.284Z"
   },
   {
    "duration": 11,
    "start_time": "2022-09-17T20:14:47.327Z"
   },
   {
    "duration": 5,
    "start_time": "2022-09-17T20:14:47.347Z"
   },
   {
    "duration": 1213,
    "start_time": "2022-09-17T20:14:47.356Z"
   },
   {
    "duration": 15,
    "start_time": "2022-09-17T20:14:48.571Z"
   },
   {
    "duration": 21,
    "start_time": "2022-09-17T20:14:48.587Z"
   },
   {
    "duration": 27,
    "start_time": "2022-09-17T20:14:48.609Z"
   },
   {
    "duration": 1022,
    "start_time": "2022-09-17T20:14:48.637Z"
   },
   {
    "duration": 18,
    "start_time": "2022-09-17T20:14:49.661Z"
   },
   {
    "duration": 23,
    "start_time": "2022-09-17T20:14:49.681Z"
   },
   {
    "duration": 28,
    "start_time": "2022-09-17T20:14:49.706Z"
   },
   {
    "duration": 34,
    "start_time": "2022-09-17T20:14:49.736Z"
   },
   {
    "duration": 151,
    "start_time": "2022-09-17T20:14:49.772Z"
   },
   {
    "duration": 5,
    "start_time": "2022-09-17T20:14:49.925Z"
   },
   {
    "duration": 38,
    "start_time": "2022-09-17T20:14:49.932Z"
   },
   {
    "duration": 10,
    "start_time": "2022-09-17T20:14:49.974Z"
   },
   {
    "duration": 51,
    "start_time": "2022-09-17T20:14:49.986Z"
   },
   {
    "duration": 26,
    "start_time": "2022-09-17T20:14:50.039Z"
   },
   {
    "duration": 45,
    "start_time": "2022-09-17T20:14:50.067Z"
   },
   {
    "duration": 658,
    "start_time": "2022-09-17T20:14:50.114Z"
   },
   {
    "duration": 4,
    "start_time": "2022-09-17T20:14:50.776Z"
   },
   {
    "duration": 17,
    "start_time": "2022-09-17T20:14:50.782Z"
   },
   {
    "duration": 26,
    "start_time": "2022-09-17T20:14:50.800Z"
   },
   {
    "duration": 87237,
    "start_time": "2022-09-17T20:14:50.827Z"
   },
   {
    "duration": 3,
    "start_time": "2022-09-17T20:16:18.066Z"
   },
   {
    "duration": 9,
    "start_time": "2022-09-17T20:16:18.071Z"
   },
   {
    "duration": 4,
    "start_time": "2022-09-17T20:16:18.082Z"
   },
   {
    "duration": 28757,
    "start_time": "2022-09-17T20:16:18.087Z"
   },
   {
    "duration": 264,
    "start_time": "2022-09-17T20:16:46.847Z"
   },
   {
    "duration": 356,
    "start_time": "2022-09-17T20:16:47.112Z"
   },
   {
    "duration": 78786,
    "start_time": "2022-09-17T20:16:47.470Z"
   },
   {
    "duration": 864,
    "start_time": "2022-09-17T20:18:06.258Z"
   },
   {
    "duration": 7,
    "start_time": "2022-09-17T20:18:07.124Z"
   },
   {
    "duration": 21,
    "start_time": "2022-09-17T20:18:07.133Z"
   },
   {
    "duration": 14,
    "start_time": "2022-09-17T20:18:07.155Z"
   },
   {
    "duration": 121,
    "start_time": "2022-09-17T20:18:07.170Z"
   },
   {
    "duration": 0,
    "start_time": "2022-09-17T20:18:07.293Z"
   },
   {
    "duration": 0,
    "start_time": "2022-09-17T20:18:07.294Z"
   },
   {
    "duration": 0,
    "start_time": "2022-09-17T20:18:07.295Z"
   },
   {
    "duration": 0,
    "start_time": "2022-09-17T20:18:07.296Z"
   },
   {
    "duration": 0,
    "start_time": "2022-09-17T20:18:07.298Z"
   },
   {
    "duration": 0,
    "start_time": "2022-09-17T20:18:07.299Z"
   },
   {
    "duration": 0,
    "start_time": "2022-09-17T20:18:07.300Z"
   },
   {
    "duration": 0,
    "start_time": "2022-09-17T20:18:07.301Z"
   },
   {
    "duration": 4,
    "start_time": "2022-09-17T20:18:24.546Z"
   },
   {
    "duration": 1408,
    "start_time": "2022-09-17T20:19:24.645Z"
   },
   {
    "duration": 258,
    "start_time": "2022-09-17T20:19:26.056Z"
   },
   {
    "duration": 64,
    "start_time": "2022-09-17T20:19:26.316Z"
   },
   {
    "duration": 40,
    "start_time": "2022-09-17T20:19:26.382Z"
   },
   {
    "duration": 77,
    "start_time": "2022-09-17T20:19:26.424Z"
   },
   {
    "duration": 337,
    "start_time": "2022-09-17T20:19:26.502Z"
   },
   {
    "duration": 643,
    "start_time": "2022-09-17T20:19:26.846Z"
   },
   {
    "duration": 144,
    "start_time": "2022-09-17T20:19:27.491Z"
   },
   {
    "duration": 162,
    "start_time": "2022-09-17T20:19:27.637Z"
   },
   {
    "duration": 149,
    "start_time": "2022-09-17T20:19:27.801Z"
   },
   {
    "duration": 3,
    "start_time": "2022-09-17T20:19:27.952Z"
   },
   {
    "duration": 12,
    "start_time": "2022-09-17T20:19:27.956Z"
   },
   {
    "duration": 47,
    "start_time": "2022-09-17T20:19:27.970Z"
   },
   {
    "duration": 13,
    "start_time": "2022-09-17T20:19:28.019Z"
   },
   {
    "duration": 14,
    "start_time": "2022-09-17T20:19:28.033Z"
   },
   {
    "duration": 1163,
    "start_time": "2022-09-17T20:19:28.048Z"
   },
   {
    "duration": 16,
    "start_time": "2022-09-17T20:19:29.212Z"
   },
   {
    "duration": 30,
    "start_time": "2022-09-17T20:19:29.230Z"
   },
   {
    "duration": 9,
    "start_time": "2022-09-17T20:19:29.262Z"
   },
   {
    "duration": 983,
    "start_time": "2022-09-17T20:19:29.272Z"
   },
   {
    "duration": 17,
    "start_time": "2022-09-17T20:19:30.259Z"
   },
   {
    "duration": 15,
    "start_time": "2022-09-17T20:19:30.277Z"
   },
   {
    "duration": 14,
    "start_time": "2022-09-17T20:19:30.294Z"
   },
   {
    "duration": 12,
    "start_time": "2022-09-17T20:19:30.309Z"
   },
   {
    "duration": 164,
    "start_time": "2022-09-17T20:19:30.322Z"
   },
   {
    "duration": 4,
    "start_time": "2022-09-17T20:19:30.488Z"
   },
   {
    "duration": 36,
    "start_time": "2022-09-17T20:19:30.494Z"
   },
   {
    "duration": 4,
    "start_time": "2022-09-17T20:19:30.533Z"
   },
   {
    "duration": 39,
    "start_time": "2022-09-17T20:19:30.539Z"
   },
   {
    "duration": 3,
    "start_time": "2022-09-17T20:19:30.579Z"
   },
   {
    "duration": 26,
    "start_time": "2022-09-17T20:19:30.584Z"
   },
   {
    "duration": 647,
    "start_time": "2022-09-17T20:19:30.611Z"
   },
   {
    "duration": 4,
    "start_time": "2022-09-17T20:19:31.259Z"
   },
   {
    "duration": 17,
    "start_time": "2022-09-17T20:19:31.265Z"
   },
   {
    "duration": 6,
    "start_time": "2022-09-17T20:19:31.284Z"
   },
   {
    "duration": 84919,
    "start_time": "2022-09-17T20:19:31.291Z"
   },
   {
    "duration": 4,
    "start_time": "2022-09-17T20:20:56.212Z"
   },
   {
    "duration": 14,
    "start_time": "2022-09-17T20:20:56.218Z"
   },
   {
    "duration": 25,
    "start_time": "2022-09-17T20:20:56.233Z"
   },
   {
    "duration": 54470,
    "start_time": "2022-09-17T20:20:56.262Z"
   },
   {
    "duration": 268,
    "start_time": "2022-09-17T20:21:50.734Z"
   },
   {
    "duration": 94156,
    "start_time": "2022-09-17T20:21:51.003Z"
   },
   {
    "duration": 907,
    "start_time": "2022-09-17T20:23:25.161Z"
   },
   {
    "duration": 7,
    "start_time": "2022-09-17T20:23:26.070Z"
   },
   {
    "duration": 22,
    "start_time": "2022-09-17T20:23:26.078Z"
   },
   {
    "duration": 27,
    "start_time": "2022-09-17T20:23:26.101Z"
   },
   {
    "duration": 11,
    "start_time": "2022-09-17T20:23:26.130Z"
   },
   {
    "duration": 34,
    "start_time": "2022-09-17T20:23:26.142Z"
   },
   {
    "duration": 208,
    "start_time": "2022-09-17T20:23:26.178Z"
   },
   {
    "duration": 30,
    "start_time": "2022-09-17T20:23:26.388Z"
   },
   {
    "duration": 1791,
    "start_time": "2022-09-17T20:23:26.420Z"
   },
   {
    "duration": 150,
    "start_time": "2022-09-17T20:23:28.213Z"
   },
   {
    "duration": 146,
    "start_time": "2022-09-17T20:23:28.366Z"
   },
   {
    "duration": 173,
    "start_time": "2022-09-17T20:23:28.514Z"
   },
   {
    "duration": 1079,
    "start_time": "2022-09-17T20:29:05.995Z"
   },
   {
    "duration": 1436,
    "start_time": "2022-09-17T20:29:14.675Z"
   },
   {
    "duration": 267,
    "start_time": "2022-09-17T20:29:16.113Z"
   },
   {
    "duration": 53,
    "start_time": "2022-09-17T20:29:16.384Z"
   },
   {
    "duration": 50,
    "start_time": "2022-09-17T20:29:16.441Z"
   },
   {
    "duration": 96,
    "start_time": "2022-09-17T20:29:16.493Z"
   },
   {
    "duration": 360,
    "start_time": "2022-09-17T20:29:16.591Z"
   },
   {
    "duration": 707,
    "start_time": "2022-09-17T20:29:16.953Z"
   },
   {
    "duration": 146,
    "start_time": "2022-09-17T20:29:17.662Z"
   },
   {
    "duration": 164,
    "start_time": "2022-09-17T20:29:17.809Z"
   },
   {
    "duration": 161,
    "start_time": "2022-09-17T20:29:17.976Z"
   },
   {
    "duration": 3,
    "start_time": "2022-09-17T20:29:18.139Z"
   },
   {
    "duration": 15,
    "start_time": "2022-09-17T20:29:18.146Z"
   },
   {
    "duration": 45,
    "start_time": "2022-09-17T20:29:18.163Z"
   },
   {
    "duration": 11,
    "start_time": "2022-09-17T20:29:18.210Z"
   },
   {
    "duration": 5,
    "start_time": "2022-09-17T20:29:18.222Z"
   },
   {
    "duration": 1236,
    "start_time": "2022-09-17T20:29:18.228Z"
   },
   {
    "duration": 17,
    "start_time": "2022-09-17T20:29:19.466Z"
   },
   {
    "duration": 19,
    "start_time": "2022-09-17T20:29:19.484Z"
   },
   {
    "duration": 3,
    "start_time": "2022-09-17T20:29:19.504Z"
   },
   {
    "duration": 1005,
    "start_time": "2022-09-17T20:29:19.509Z"
   },
   {
    "duration": 17,
    "start_time": "2022-09-17T20:29:20.516Z"
   },
   {
    "duration": 3,
    "start_time": "2022-09-17T20:29:20.534Z"
   },
   {
    "duration": 9,
    "start_time": "2022-09-17T20:29:20.546Z"
   },
   {
    "duration": 15,
    "start_time": "2022-09-17T20:29:20.557Z"
   },
   {
    "duration": 141,
    "start_time": "2022-09-17T20:29:20.574Z"
   },
   {
    "duration": 5,
    "start_time": "2022-09-17T20:29:20.717Z"
   },
   {
    "duration": 26,
    "start_time": "2022-09-17T20:29:20.723Z"
   },
   {
    "duration": 5,
    "start_time": "2022-09-17T20:29:20.753Z"
   },
   {
    "duration": 39,
    "start_time": "2022-09-17T20:29:20.761Z"
   },
   {
    "duration": 3,
    "start_time": "2022-09-17T20:29:20.801Z"
   },
   {
    "duration": 20,
    "start_time": "2022-09-17T20:29:20.806Z"
   },
   {
    "duration": 659,
    "start_time": "2022-09-17T20:29:20.827Z"
   },
   {
    "duration": 3,
    "start_time": "2022-09-17T20:29:21.488Z"
   },
   {
    "duration": 7,
    "start_time": "2022-09-17T20:29:21.492Z"
   },
   {
    "duration": 7,
    "start_time": "2022-09-17T20:29:21.501Z"
   },
   {
    "duration": 60230,
    "start_time": "2022-09-17T20:29:21.509Z"
   },
   {
    "duration": 0,
    "start_time": "2022-09-17T20:30:21.741Z"
   },
   {
    "duration": 0,
    "start_time": "2022-09-17T20:30:21.747Z"
   },
   {
    "duration": 0,
    "start_time": "2022-09-17T20:30:21.749Z"
   },
   {
    "duration": 0,
    "start_time": "2022-09-17T20:30:21.750Z"
   },
   {
    "duration": 0,
    "start_time": "2022-09-17T20:30:21.751Z"
   },
   {
    "duration": 0,
    "start_time": "2022-09-17T20:30:21.755Z"
   },
   {
    "duration": 0,
    "start_time": "2022-09-17T20:30:21.756Z"
   },
   {
    "duration": 0,
    "start_time": "2022-09-17T20:30:21.757Z"
   },
   {
    "duration": 0,
    "start_time": "2022-09-17T20:30:21.759Z"
   },
   {
    "duration": 0,
    "start_time": "2022-09-17T20:30:21.760Z"
   },
   {
    "duration": 0,
    "start_time": "2022-09-17T20:30:21.761Z"
   },
   {
    "duration": 0,
    "start_time": "2022-09-17T20:30:21.763Z"
   },
   {
    "duration": 0,
    "start_time": "2022-09-17T20:30:21.764Z"
   },
   {
    "duration": 0,
    "start_time": "2022-09-17T20:30:21.765Z"
   },
   {
    "duration": 0,
    "start_time": "2022-09-17T20:30:21.767Z"
   },
   {
    "duration": 0,
    "start_time": "2022-09-17T20:30:21.768Z"
   },
   {
    "duration": 0,
    "start_time": "2022-09-17T20:30:21.770Z"
   },
   {
    "duration": 0,
    "start_time": "2022-09-17T20:30:21.771Z"
   },
   {
    "duration": 0,
    "start_time": "2022-09-17T20:30:21.772Z"
   },
   {
    "duration": 1326,
    "start_time": "2022-09-17T20:30:25.404Z"
   },
   {
    "duration": 221,
    "start_time": "2022-09-17T20:30:26.732Z"
   },
   {
    "duration": 41,
    "start_time": "2022-09-17T20:30:26.955Z"
   },
   {
    "duration": 34,
    "start_time": "2022-09-17T20:30:26.998Z"
   },
   {
    "duration": 56,
    "start_time": "2022-09-17T20:30:27.046Z"
   },
   {
    "duration": 545,
    "start_time": "2022-09-17T20:30:27.104Z"
   },
   {
    "duration": 1541,
    "start_time": "2022-09-17T20:30:27.650Z"
   },
   {
    "duration": 188,
    "start_time": "2022-09-17T20:30:29.193Z"
   },
   {
    "duration": 173,
    "start_time": "2022-09-17T20:30:29.383Z"
   },
   {
    "duration": 166,
    "start_time": "2022-09-17T20:30:29.559Z"
   },
   {
    "duration": 2,
    "start_time": "2022-09-17T20:30:29.726Z"
   },
   {
    "duration": 7,
    "start_time": "2022-09-17T20:30:29.730Z"
   },
   {
    "duration": 55,
    "start_time": "2022-09-17T20:30:29.738Z"
   },
   {
    "duration": 12,
    "start_time": "2022-09-17T20:30:29.794Z"
   },
   {
    "duration": 140,
    "start_time": "2022-09-17T20:30:29.808Z"
   },
   {
    "duration": 0,
    "start_time": "2022-09-17T20:30:29.951Z"
   },
   {
    "duration": 0,
    "start_time": "2022-09-17T20:30:29.953Z"
   },
   {
    "duration": 0,
    "start_time": "2022-09-17T20:30:29.957Z"
   },
   {
    "duration": 0,
    "start_time": "2022-09-17T20:30:29.958Z"
   },
   {
    "duration": 0,
    "start_time": "2022-09-17T20:30:29.959Z"
   },
   {
    "duration": 0,
    "start_time": "2022-09-17T20:30:29.960Z"
   },
   {
    "duration": 0,
    "start_time": "2022-09-17T20:30:29.962Z"
   },
   {
    "duration": 0,
    "start_time": "2022-09-17T20:30:29.963Z"
   },
   {
    "duration": 0,
    "start_time": "2022-09-17T20:30:29.964Z"
   },
   {
    "duration": 0,
    "start_time": "2022-09-17T20:30:29.965Z"
   },
   {
    "duration": 0,
    "start_time": "2022-09-17T20:30:29.967Z"
   },
   {
    "duration": 0,
    "start_time": "2022-09-17T20:30:29.968Z"
   },
   {
    "duration": 0,
    "start_time": "2022-09-17T20:30:29.969Z"
   },
   {
    "duration": 0,
    "start_time": "2022-09-17T20:30:29.970Z"
   },
   {
    "duration": 0,
    "start_time": "2022-09-17T20:30:29.971Z"
   },
   {
    "duration": 0,
    "start_time": "2022-09-17T20:30:29.972Z"
   },
   {
    "duration": 0,
    "start_time": "2022-09-17T20:30:29.973Z"
   },
   {
    "duration": 0,
    "start_time": "2022-09-17T20:30:29.974Z"
   },
   {
    "duration": 0,
    "start_time": "2022-09-17T20:30:29.976Z"
   },
   {
    "duration": 0,
    "start_time": "2022-09-17T20:30:29.976Z"
   },
   {
    "duration": 0,
    "start_time": "2022-09-17T20:30:29.977Z"
   },
   {
    "duration": 0,
    "start_time": "2022-09-17T20:30:29.978Z"
   },
   {
    "duration": 0,
    "start_time": "2022-09-17T20:30:29.979Z"
   },
   {
    "duration": 0,
    "start_time": "2022-09-17T20:30:29.981Z"
   },
   {
    "duration": 0,
    "start_time": "2022-09-17T20:30:29.981Z"
   },
   {
    "duration": 0,
    "start_time": "2022-09-17T20:30:29.983Z"
   },
   {
    "duration": 0,
    "start_time": "2022-09-17T20:30:29.984Z"
   },
   {
    "duration": 0,
    "start_time": "2022-09-17T20:30:29.985Z"
   },
   {
    "duration": 0,
    "start_time": "2022-09-17T20:30:29.986Z"
   },
   {
    "duration": 0,
    "start_time": "2022-09-17T20:30:29.987Z"
   },
   {
    "duration": 0,
    "start_time": "2022-09-17T20:30:29.988Z"
   },
   {
    "duration": 0,
    "start_time": "2022-09-17T20:30:29.989Z"
   },
   {
    "duration": 0,
    "start_time": "2022-09-17T20:30:30.047Z"
   },
   {
    "duration": 0,
    "start_time": "2022-09-17T20:30:30.048Z"
   },
   {
    "duration": 0,
    "start_time": "2022-09-17T20:30:30.050Z"
   },
   {
    "duration": 0,
    "start_time": "2022-09-17T20:30:30.051Z"
   },
   {
    "duration": 0,
    "start_time": "2022-09-17T20:30:30.052Z"
   },
   {
    "duration": 0,
    "start_time": "2022-09-17T20:30:30.053Z"
   },
   {
    "duration": 0,
    "start_time": "2022-09-17T20:30:30.055Z"
   },
   {
    "duration": 0,
    "start_time": "2022-09-17T20:30:30.056Z"
   },
   {
    "duration": 10,
    "start_time": "2022-09-17T20:30:44.416Z"
   },
   {
    "duration": 15,
    "start_time": "2022-09-17T20:31:26.046Z"
   },
   {
    "duration": 3,
    "start_time": "2022-09-17T20:31:26.577Z"
   },
   {
    "duration": 1229,
    "start_time": "2022-09-17T20:31:27.179Z"
   },
   {
    "duration": 19,
    "start_time": "2022-09-17T20:31:29.867Z"
   },
   {
    "duration": 1428,
    "start_time": "2022-09-17T20:32:07.510Z"
   },
   {
    "duration": 227,
    "start_time": "2022-09-17T20:32:08.939Z"
   },
   {
    "duration": 44,
    "start_time": "2022-09-17T20:32:09.168Z"
   },
   {
    "duration": 40,
    "start_time": "2022-09-17T20:32:09.214Z"
   },
   {
    "duration": 56,
    "start_time": "2022-09-17T20:32:09.256Z"
   },
   {
    "duration": 360,
    "start_time": "2022-09-17T20:32:09.314Z"
   },
   {
    "duration": 634,
    "start_time": "2022-09-17T20:32:09.675Z"
   },
   {
    "duration": 179,
    "start_time": "2022-09-17T20:32:10.310Z"
   },
   {
    "duration": 172,
    "start_time": "2022-09-17T20:32:10.491Z"
   },
   {
    "duration": 160,
    "start_time": "2022-09-17T20:32:10.668Z"
   },
   {
    "duration": 2,
    "start_time": "2022-09-17T20:32:10.829Z"
   },
   {
    "duration": 21,
    "start_time": "2022-09-17T20:32:10.833Z"
   },
   {
    "duration": 40,
    "start_time": "2022-09-17T20:32:10.855Z"
   },
   {
    "duration": 11,
    "start_time": "2022-09-17T20:32:10.896Z"
   },
   {
    "duration": 18,
    "start_time": "2022-09-17T20:32:10.909Z"
   },
   {
    "duration": 4,
    "start_time": "2022-09-17T20:32:10.929Z"
   },
   {
    "duration": 1251,
    "start_time": "2022-09-17T20:32:10.934Z"
   },
   {
    "duration": 15,
    "start_time": "2022-09-17T20:32:12.187Z"
   },
   {
    "duration": 20,
    "start_time": "2022-09-17T20:32:12.203Z"
   },
   {
    "duration": 5,
    "start_time": "2022-09-17T20:32:12.224Z"
   },
   {
    "duration": 987,
    "start_time": "2022-09-17T20:32:12.247Z"
   },
   {
    "duration": 26,
    "start_time": "2022-09-17T20:32:13.236Z"
   },
   {
    "duration": 3,
    "start_time": "2022-09-17T20:32:13.264Z"
   },
   {
    "duration": 14,
    "start_time": "2022-09-17T20:32:13.269Z"
   },
   {
    "duration": 5,
    "start_time": "2022-09-17T20:32:13.284Z"
   },
   {
    "duration": 152,
    "start_time": "2022-09-17T20:32:13.290Z"
   },
   {
    "duration": 5,
    "start_time": "2022-09-17T20:32:13.447Z"
   },
   {
    "duration": 27,
    "start_time": "2022-09-17T20:32:13.457Z"
   },
   {
    "duration": 4,
    "start_time": "2022-09-17T20:32:13.486Z"
   },
   {
    "duration": 36,
    "start_time": "2022-09-17T20:32:13.492Z"
   },
   {
    "duration": 17,
    "start_time": "2022-09-17T20:32:13.530Z"
   },
   {
    "duration": 26,
    "start_time": "2022-09-17T20:32:13.548Z"
   },
   {
    "duration": 656,
    "start_time": "2022-09-17T20:32:13.575Z"
   },
   {
    "duration": 3,
    "start_time": "2022-09-17T20:32:14.233Z"
   },
   {
    "duration": 2,
    "start_time": "2022-09-17T20:32:14.247Z"
   },
   {
    "duration": 14,
    "start_time": "2022-09-17T20:32:14.251Z"
   },
   {
    "duration": 87167,
    "start_time": "2022-09-17T20:32:14.266Z"
   },
   {
    "duration": 4,
    "start_time": "2022-09-17T20:33:41.434Z"
   },
   {
    "duration": 31,
    "start_time": "2022-09-17T20:33:41.439Z"
   },
   {
    "duration": 25,
    "start_time": "2022-09-17T20:33:41.472Z"
   },
   {
    "duration": 1396,
    "start_time": "2022-09-17T20:34:34.510Z"
   },
   {
    "duration": 231,
    "start_time": "2022-09-17T20:34:35.907Z"
   },
   {
    "duration": 42,
    "start_time": "2022-09-17T20:34:36.140Z"
   },
   {
    "duration": 46,
    "start_time": "2022-09-17T20:34:36.185Z"
   },
   {
    "duration": 83,
    "start_time": "2022-09-17T20:34:36.233Z"
   },
   {
    "duration": 395,
    "start_time": "2022-09-17T20:34:36.318Z"
   },
   {
    "duration": 666,
    "start_time": "2022-09-17T20:34:36.715Z"
   },
   {
    "duration": 159,
    "start_time": "2022-09-17T20:34:37.382Z"
   },
   {
    "duration": 161,
    "start_time": "2022-09-17T20:34:37.542Z"
   },
   {
    "duration": 147,
    "start_time": "2022-09-17T20:34:37.706Z"
   },
   {
    "duration": 3,
    "start_time": "2022-09-17T20:34:37.855Z"
   },
   {
    "duration": 12,
    "start_time": "2022-09-17T20:34:37.860Z"
   },
   {
    "duration": 43,
    "start_time": "2022-09-17T20:34:37.874Z"
   },
   {
    "duration": 12,
    "start_time": "2022-09-17T20:34:37.920Z"
   },
   {
    "duration": 30,
    "start_time": "2022-09-17T20:34:37.933Z"
   },
   {
    "duration": 8,
    "start_time": "2022-09-17T20:34:37.965Z"
   },
   {
    "duration": 2268,
    "start_time": "2022-09-17T20:34:37.975Z"
   },
   {
    "duration": 21,
    "start_time": "2022-09-17T20:34:40.247Z"
   },
   {
    "duration": 47,
    "start_time": "2022-09-17T20:34:40.270Z"
   },
   {
    "duration": 0,
    "start_time": "2022-09-17T20:34:40.319Z"
   },
   {
    "duration": 0,
    "start_time": "2022-09-17T20:34:40.320Z"
   },
   {
    "duration": 0,
    "start_time": "2022-09-17T20:34:40.321Z"
   },
   {
    "duration": 0,
    "start_time": "2022-09-17T20:34:40.322Z"
   },
   {
    "duration": 0,
    "start_time": "2022-09-17T20:34:40.323Z"
   },
   {
    "duration": 0,
    "start_time": "2022-09-17T20:34:40.324Z"
   },
   {
    "duration": 0,
    "start_time": "2022-09-17T20:34:40.325Z"
   },
   {
    "duration": 0,
    "start_time": "2022-09-17T20:34:40.327Z"
   },
   {
    "duration": 0,
    "start_time": "2022-09-17T20:34:40.328Z"
   },
   {
    "duration": 0,
    "start_time": "2022-09-17T20:34:40.329Z"
   },
   {
    "duration": 0,
    "start_time": "2022-09-17T20:34:40.330Z"
   },
   {
    "duration": 0,
    "start_time": "2022-09-17T20:34:40.331Z"
   },
   {
    "duration": 0,
    "start_time": "2022-09-17T20:34:40.332Z"
   },
   {
    "duration": 0,
    "start_time": "2022-09-17T20:34:40.333Z"
   },
   {
    "duration": 0,
    "start_time": "2022-09-17T20:34:40.334Z"
   },
   {
    "duration": 0,
    "start_time": "2022-09-17T20:34:40.335Z"
   },
   {
    "duration": 0,
    "start_time": "2022-09-17T20:34:40.336Z"
   },
   {
    "duration": 0,
    "start_time": "2022-09-17T20:34:40.337Z"
   },
   {
    "duration": 0,
    "start_time": "2022-09-17T20:34:40.338Z"
   },
   {
    "duration": 0,
    "start_time": "2022-09-17T20:34:40.340Z"
   },
   {
    "duration": 0,
    "start_time": "2022-09-17T20:34:40.341Z"
   },
   {
    "duration": 0,
    "start_time": "2022-09-17T20:34:40.342Z"
   },
   {
    "duration": 0,
    "start_time": "2022-09-17T20:34:40.346Z"
   },
   {
    "duration": 0,
    "start_time": "2022-09-17T20:34:40.349Z"
   },
   {
    "duration": 0,
    "start_time": "2022-09-17T20:34:40.350Z"
   },
   {
    "duration": 0,
    "start_time": "2022-09-17T20:34:40.351Z"
   },
   {
    "duration": 0,
    "start_time": "2022-09-17T20:34:40.352Z"
   },
   {
    "duration": 0,
    "start_time": "2022-09-17T20:34:40.353Z"
   },
   {
    "duration": 0,
    "start_time": "2022-09-17T20:34:40.354Z"
   },
   {
    "duration": 0,
    "start_time": "2022-09-17T20:34:40.357Z"
   },
   {
    "duration": 0,
    "start_time": "2022-09-17T20:34:40.360Z"
   },
   {
    "duration": 0,
    "start_time": "2022-09-17T20:34:40.361Z"
   },
   {
    "duration": 0,
    "start_time": "2022-09-17T20:34:40.363Z"
   },
   {
    "duration": 0,
    "start_time": "2022-09-17T20:34:40.363Z"
   },
   {
    "duration": 0,
    "start_time": "2022-09-17T20:34:40.365Z"
   },
   {
    "duration": 0,
    "start_time": "2022-09-17T20:34:40.365Z"
   },
   {
    "duration": 0,
    "start_time": "2022-09-17T20:34:40.367Z"
   },
   {
    "duration": 1613,
    "start_time": "2022-09-17T20:35:05.669Z"
   },
   {
    "duration": 496,
    "start_time": "2022-09-17T20:35:07.284Z"
   },
   {
    "duration": 103,
    "start_time": "2022-09-17T20:35:07.782Z"
   },
   {
    "duration": 99,
    "start_time": "2022-09-17T20:35:07.887Z"
   },
   {
    "duration": 174,
    "start_time": "2022-09-17T20:35:07.987Z"
   },
   {
    "duration": 665,
    "start_time": "2022-09-17T20:35:08.163Z"
   },
   {
    "duration": 734,
    "start_time": "2022-09-17T20:35:08.830Z"
   },
   {
    "duration": 144,
    "start_time": "2022-09-17T20:35:09.566Z"
   },
   {
    "duration": 153,
    "start_time": "2022-09-17T20:35:09.712Z"
   },
   {
    "duration": 142,
    "start_time": "2022-09-17T20:35:09.869Z"
   },
   {
    "duration": 2,
    "start_time": "2022-09-17T20:35:10.013Z"
   },
   {
    "duration": 10,
    "start_time": "2022-09-17T20:35:10.017Z"
   },
   {
    "duration": 46,
    "start_time": "2022-09-17T20:35:10.028Z"
   },
   {
    "duration": 11,
    "start_time": "2022-09-17T20:35:10.075Z"
   },
   {
    "duration": 12,
    "start_time": "2022-09-17T20:35:10.088Z"
   },
   {
    "duration": 5,
    "start_time": "2022-09-17T20:35:10.102Z"
   },
   {
    "duration": 1167,
    "start_time": "2022-09-17T20:35:10.108Z"
   },
   {
    "duration": 15,
    "start_time": "2022-09-17T20:35:11.277Z"
   },
   {
    "duration": 19,
    "start_time": "2022-09-17T20:35:11.294Z"
   },
   {
    "duration": 4,
    "start_time": "2022-09-17T20:35:11.314Z"
   },
   {
    "duration": 1145,
    "start_time": "2022-09-17T20:35:11.320Z"
   },
   {
    "duration": 17,
    "start_time": "2022-09-17T20:35:12.467Z"
   },
   {
    "duration": 2,
    "start_time": "2022-09-17T20:35:12.486Z"
   },
   {
    "duration": 10,
    "start_time": "2022-09-17T20:35:12.490Z"
   },
   {
    "duration": 4,
    "start_time": "2022-09-17T20:35:12.502Z"
   },
   {
    "duration": 166,
    "start_time": "2022-09-17T20:35:12.507Z"
   },
   {
    "duration": 4,
    "start_time": "2022-09-17T20:35:12.675Z"
   },
   {
    "duration": 23,
    "start_time": "2022-09-17T20:35:12.683Z"
   },
   {
    "duration": 4,
    "start_time": "2022-09-17T20:35:12.708Z"
   },
   {
    "duration": 58,
    "start_time": "2022-09-17T20:35:12.713Z"
   },
   {
    "duration": 3,
    "start_time": "2022-09-17T20:35:12.773Z"
   },
   {
    "duration": 18,
    "start_time": "2022-09-17T20:35:12.778Z"
   },
   {
    "duration": 677,
    "start_time": "2022-09-17T20:35:12.798Z"
   },
   {
    "duration": 4,
    "start_time": "2022-09-17T20:35:13.476Z"
   },
   {
    "duration": 5,
    "start_time": "2022-09-17T20:35:13.481Z"
   },
   {
    "duration": 4,
    "start_time": "2022-09-17T20:35:13.488Z"
   },
   {
    "duration": 89031,
    "start_time": "2022-09-17T20:35:13.494Z"
   },
   {
    "duration": 3,
    "start_time": "2022-09-17T20:36:42.527Z"
   },
   {
    "duration": 7,
    "start_time": "2022-09-17T20:36:42.532Z"
   },
   {
    "duration": 2,
    "start_time": "2022-09-17T20:36:42.546Z"
   },
   {
    "duration": 54662,
    "start_time": "2022-09-17T20:36:42.550Z"
   },
   {
    "duration": 282,
    "start_time": "2022-09-17T20:37:37.214Z"
   },
   {
    "duration": 77405,
    "start_time": "2022-09-17T20:38:57.651Z"
   },
   {
    "duration": 917,
    "start_time": "2022-09-17T20:40:15.057Z"
   },
   {
    "duration": 7,
    "start_time": "2022-09-17T20:40:15.975Z"
   },
   {
    "duration": 19,
    "start_time": "2022-09-17T20:40:15.983Z"
   },
   {
    "duration": 47,
    "start_time": "2022-09-17T20:40:16.003Z"
   },
   {
    "duration": 39,
    "start_time": "2022-09-17T20:40:16.053Z"
   },
   {
    "duration": 10,
    "start_time": "2022-09-17T20:40:16.094Z"
   },
   {
    "duration": 170,
    "start_time": "2022-09-17T20:40:16.106Z"
   },
   {
    "duration": 25,
    "start_time": "2022-09-17T20:40:16.278Z"
   },
   {
    "duration": 1884,
    "start_time": "2022-09-17T20:40:16.305Z"
   },
   {
    "duration": 151,
    "start_time": "2022-09-17T20:40:18.190Z"
   },
   {
    "duration": 147,
    "start_time": "2022-09-17T20:40:18.348Z"
   },
   {
    "duration": 279,
    "start_time": "2022-09-17T20:40:18.496Z"
   },
   {
    "duration": 55699,
    "start_time": "2022-09-17T20:47:32.748Z"
   },
   {
    "duration": 66,
    "start_time": "2022-09-17T20:48:28.450Z"
   },
   {
    "duration": 30961,
    "start_time": "2022-09-17T20:51:02.858Z"
   },
   {
    "duration": 0,
    "start_time": "2022-09-17T20:51:33.821Z"
   },
   {
    "duration": 0,
    "start_time": "2022-09-17T20:51:33.822Z"
   },
   {
    "duration": 887,
    "start_time": "2022-09-17T20:51:37.071Z"
   },
   {
    "duration": 7,
    "start_time": "2022-09-17T20:51:41.576Z"
   },
   {
    "duration": 10,
    "start_time": "2022-09-17T20:51:41.980Z"
   },
   {
    "duration": 31,
    "start_time": "2022-09-17T20:52:05.937Z"
   },
   {
    "duration": 5,
    "start_time": "2022-09-17T20:52:06.298Z"
   },
   {
    "duration": 1862,
    "start_time": "2022-09-17T20:55:50.619Z"
   },
   {
    "duration": 14,
    "start_time": "2022-09-17T20:56:19.994Z"
   },
   {
    "duration": 4,
    "start_time": "2022-09-17T20:56:20.398Z"
   },
   {
    "duration": 7,
    "start_time": "2022-09-17T20:56:21.730Z"
   },
   {
    "duration": 155,
    "start_time": "2022-09-17T20:56:22.397Z"
   },
   {
    "duration": 34,
    "start_time": "2022-09-17T20:56:23.047Z"
   },
   {
    "duration": 1897,
    "start_time": "2022-09-17T20:56:23.359Z"
   },
   {
    "duration": 162,
    "start_time": "2022-09-17T20:56:25.258Z"
   },
   {
    "duration": 157,
    "start_time": "2022-09-17T20:56:25.422Z"
   },
   {
    "duration": 152,
    "start_time": "2022-09-17T20:56:25.581Z"
   },
   {
    "duration": 1547,
    "start_time": "2022-09-17T20:56:50.443Z"
   },
   {
    "duration": 251,
    "start_time": "2022-09-17T20:56:51.992Z"
   },
   {
    "duration": 67,
    "start_time": "2022-09-17T20:56:52.245Z"
   },
   {
    "duration": 52,
    "start_time": "2022-09-17T20:56:52.314Z"
   },
   {
    "duration": 63,
    "start_time": "2022-09-17T20:56:52.368Z"
   },
   {
    "duration": 458,
    "start_time": "2022-09-17T20:56:52.433Z"
   },
   {
    "duration": 744,
    "start_time": "2022-09-17T20:56:52.893Z"
   },
   {
    "duration": 191,
    "start_time": "2022-09-17T20:56:53.639Z"
   },
   {
    "duration": 182,
    "start_time": "2022-09-17T20:56:53.832Z"
   },
   {
    "duration": 184,
    "start_time": "2022-09-17T20:56:54.015Z"
   },
   {
    "duration": 2,
    "start_time": "2022-09-17T20:56:54.201Z"
   },
   {
    "duration": 8,
    "start_time": "2022-09-17T20:56:54.205Z"
   },
   {
    "duration": 60,
    "start_time": "2022-09-17T20:56:54.214Z"
   },
   {
    "duration": 17,
    "start_time": "2022-09-17T20:56:54.279Z"
   },
   {
    "duration": 15,
    "start_time": "2022-09-17T20:56:54.298Z"
   },
   {
    "duration": 11,
    "start_time": "2022-09-17T20:56:54.315Z"
   },
   {
    "duration": 1396,
    "start_time": "2022-09-17T20:56:54.328Z"
   },
   {
    "duration": 15,
    "start_time": "2022-09-17T20:56:55.725Z"
   },
   {
    "duration": 34,
    "start_time": "2022-09-17T20:56:55.746Z"
   },
   {
    "duration": 4,
    "start_time": "2022-09-17T20:56:55.781Z"
   },
   {
    "duration": 1107,
    "start_time": "2022-09-17T20:56:55.786Z"
   },
   {
    "duration": 16,
    "start_time": "2022-09-17T20:56:56.895Z"
   },
   {
    "duration": 3,
    "start_time": "2022-09-17T20:56:56.913Z"
   },
   {
    "duration": 38,
    "start_time": "2022-09-17T20:56:56.918Z"
   },
   {
    "duration": 12,
    "start_time": "2022-09-17T20:56:56.964Z"
   },
   {
    "duration": 147,
    "start_time": "2022-09-17T20:56:56.978Z"
   },
   {
    "duration": 5,
    "start_time": "2022-09-17T20:56:57.126Z"
   },
   {
    "duration": 33,
    "start_time": "2022-09-17T20:56:57.132Z"
   },
   {
    "duration": 15,
    "start_time": "2022-09-17T20:56:57.166Z"
   },
   {
    "duration": 41,
    "start_time": "2022-09-17T20:56:57.182Z"
   },
   {
    "duration": 3,
    "start_time": "2022-09-17T20:56:57.225Z"
   },
   {
    "duration": 46,
    "start_time": "2022-09-17T20:56:57.230Z"
   },
   {
    "duration": 698,
    "start_time": "2022-09-17T20:56:57.279Z"
   },
   {
    "duration": 3,
    "start_time": "2022-09-17T20:56:57.981Z"
   },
   {
    "duration": 6,
    "start_time": "2022-09-17T20:56:57.986Z"
   },
   {
    "duration": 10,
    "start_time": "2022-09-17T20:56:57.994Z"
   },
   {
    "duration": 94521,
    "start_time": "2022-09-17T20:56:58.006Z"
   },
   {
    "duration": 3,
    "start_time": "2022-09-17T20:58:32.528Z"
   },
   {
    "duration": 17,
    "start_time": "2022-09-17T20:58:32.532Z"
   },
   {
    "duration": 14,
    "start_time": "2022-09-17T20:58:32.551Z"
   },
   {
    "duration": 57582,
    "start_time": "2022-09-17T20:58:32.576Z"
   },
   {
    "duration": 274,
    "start_time": "2022-09-17T20:59:30.160Z"
   },
   {
    "duration": 162619,
    "start_time": "2022-09-17T20:59:30.436Z"
   },
   {
    "duration": 1045,
    "start_time": "2022-09-17T21:02:13.057Z"
   },
   {
    "duration": 7,
    "start_time": "2022-09-17T21:02:14.104Z"
   },
   {
    "duration": 11,
    "start_time": "2022-09-17T21:02:14.112Z"
   },
   {
    "duration": 45,
    "start_time": "2022-09-17T21:02:14.124Z"
   },
   {
    "duration": 4,
    "start_time": "2022-09-17T21:02:14.173Z"
   },
   {
    "duration": 12,
    "start_time": "2022-09-17T21:02:14.179Z"
   },
   {
    "duration": 155,
    "start_time": "2022-09-17T21:02:14.193Z"
   },
   {
    "duration": 33,
    "start_time": "2022-09-17T21:02:14.352Z"
   },
   {
    "duration": 2004,
    "start_time": "2022-09-17T21:02:14.387Z"
   },
   {
    "duration": 190,
    "start_time": "2022-09-17T21:02:16.393Z"
   },
   {
    "duration": 153,
    "start_time": "2022-09-17T21:02:16.585Z"
   },
   {
    "duration": 178,
    "start_time": "2022-09-17T21:02:16.740Z"
   },
   {
    "duration": 30,
    "start_time": "2022-09-17T21:02:16.921Z"
   },
   {
    "duration": 2266,
    "start_time": "2022-09-17T21:02:39.869Z"
   },
   {
    "duration": 58613,
    "start_time": "2022-09-17T21:03:20.089Z"
   },
   {
    "duration": 1542,
    "start_time": "2022-09-18T15:32:53.295Z"
   },
   {
    "duration": 246,
    "start_time": "2022-09-18T15:32:54.840Z"
   },
   {
    "duration": 42,
    "start_time": "2022-09-18T15:32:55.090Z"
   },
   {
    "duration": 37,
    "start_time": "2022-09-18T15:32:55.133Z"
   },
   {
    "duration": 73,
    "start_time": "2022-09-18T15:32:55.172Z"
   },
   {
    "duration": 358,
    "start_time": "2022-09-18T15:32:55.247Z"
   },
   {
    "duration": 622,
    "start_time": "2022-09-18T15:32:55.619Z"
   },
   {
    "duration": 144,
    "start_time": "2022-09-18T15:32:56.242Z"
   },
   {
    "duration": 178,
    "start_time": "2022-09-18T15:32:56.389Z"
   },
   {
    "duration": 161,
    "start_time": "2022-09-18T15:32:56.569Z"
   },
   {
    "duration": 3,
    "start_time": "2022-09-18T15:32:56.732Z"
   },
   {
    "duration": 5,
    "start_time": "2022-09-18T15:32:56.738Z"
   },
   {
    "duration": 41,
    "start_time": "2022-09-18T15:32:56.745Z"
   },
   {
    "duration": 11,
    "start_time": "2022-09-18T15:32:56.788Z"
   },
   {
    "duration": 29,
    "start_time": "2022-09-18T15:32:56.800Z"
   },
   {
    "duration": 4,
    "start_time": "2022-09-18T15:32:56.831Z"
   },
   {
    "duration": 1299,
    "start_time": "2022-09-18T15:32:56.836Z"
   },
   {
    "duration": 21,
    "start_time": "2022-09-18T15:32:58.137Z"
   },
   {
    "duration": 26,
    "start_time": "2022-09-18T15:32:58.160Z"
   },
   {
    "duration": 3,
    "start_time": "2022-09-18T15:32:58.188Z"
   },
   {
    "duration": 966,
    "start_time": "2022-09-18T15:32:58.211Z"
   },
   {
    "duration": 16,
    "start_time": "2022-09-18T15:32:59.178Z"
   },
   {
    "duration": 3,
    "start_time": "2022-09-18T15:32:59.195Z"
   },
   {
    "duration": 24,
    "start_time": "2022-09-18T15:32:59.210Z"
   },
   {
    "duration": 9,
    "start_time": "2022-09-18T15:32:59.236Z"
   },
   {
    "duration": 133,
    "start_time": "2022-09-18T15:32:59.252Z"
   },
   {
    "duration": 4,
    "start_time": "2022-09-18T15:32:59.389Z"
   },
   {
    "duration": 28,
    "start_time": "2022-09-18T15:32:59.395Z"
   },
   {
    "duration": 7,
    "start_time": "2022-09-18T15:32:59.425Z"
   },
   {
    "duration": 29,
    "start_time": "2022-09-18T15:32:59.434Z"
   },
   {
    "duration": 3,
    "start_time": "2022-09-18T15:32:59.465Z"
   },
   {
    "duration": 28,
    "start_time": "2022-09-18T15:32:59.469Z"
   },
   {
    "duration": 538,
    "start_time": "2022-09-18T15:32:59.498Z"
   },
   {
    "duration": 4,
    "start_time": "2022-09-18T15:33:00.037Z"
   },
   {
    "duration": 11,
    "start_time": "2022-09-18T15:33:00.042Z"
   },
   {
    "duration": 11,
    "start_time": "2022-09-18T15:33:00.055Z"
   },
   {
    "duration": 75995,
    "start_time": "2022-09-18T15:33:00.067Z"
   },
   {
    "duration": 3,
    "start_time": "2022-09-18T15:34:16.064Z"
   },
   {
    "duration": 10,
    "start_time": "2022-09-18T15:34:16.068Z"
   },
   {
    "duration": 4,
    "start_time": "2022-09-18T15:34:16.079Z"
   },
   {
    "duration": 48937,
    "start_time": "2022-09-18T15:34:16.084Z"
   },
   {
    "duration": 250,
    "start_time": "2022-09-18T15:35:05.023Z"
   },
   {
    "duration": 159957,
    "start_time": "2022-09-18T15:35:05.275Z"
   },
   {
    "duration": 914,
    "start_time": "2022-09-18T15:37:45.235Z"
   },
   {
    "duration": 5,
    "start_time": "2022-09-18T15:37:46.150Z"
   },
   {
    "duration": 10,
    "start_time": "2022-09-18T15:37:46.156Z"
   },
   {
    "duration": 11,
    "start_time": "2022-09-18T15:37:46.167Z"
   },
   {
    "duration": 5,
    "start_time": "2022-09-18T15:37:46.179Z"
   },
   {
    "duration": 32,
    "start_time": "2022-09-18T15:37:46.186Z"
   },
   {
    "duration": 152,
    "start_time": "2022-09-18T15:37:46.220Z"
   },
   {
    "duration": 26,
    "start_time": "2022-09-18T15:37:46.373Z"
   },
   {
    "duration": 1679,
    "start_time": "2022-09-18T15:37:46.401Z"
   },
   {
    "duration": 139,
    "start_time": "2022-09-18T15:37:48.082Z"
   },
   {
    "duration": 122,
    "start_time": "2022-09-18T15:37:48.223Z"
   },
   {
    "duration": 146,
    "start_time": "2022-09-18T15:37:48.347Z"
   }
  ],
  "kernelspec": {
   "display_name": "Python 3 (ipykernel)",
   "language": "python",
   "name": "python3"
  },
  "language_info": {
   "codemirror_mode": {
    "name": "ipython",
    "version": 3
   },
   "file_extension": ".py",
   "mimetype": "text/x-python",
   "name": "python",
   "nbconvert_exporter": "python",
   "pygments_lexer": "ipython3",
   "version": "3.9.5"
  },
  "toc": {
   "base_numbering": 1,
   "nav_menu": {},
   "number_sections": true,
   "sideBar": true,
   "skip_h1_title": true,
   "title_cell": "Table of Contents",
   "title_sidebar": "Contents",
   "toc_cell": false,
   "toc_position": {},
   "toc_section_display": true,
   "toc_window_display": true
  }
 },
 "nbformat": 4,
 "nbformat_minor": 2
}
